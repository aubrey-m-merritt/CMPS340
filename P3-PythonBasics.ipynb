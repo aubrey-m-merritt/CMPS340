{
 "cells": [
  {
   "cell_type": "markdown",
   "metadata": {},
   "source": [
    "<h1><center>PYTHON BASICS</center></h1>"
   ]
  },
  {
   "cell_type": "markdown",
   "metadata": {},
   "source": [
    "[Python](https://www.python.org/)<br>\n",
    "[Docs](https://docs.python.org)<br>\n",
    "[Python Developer's Guide](https://www.python.org/dev/)<br>\n",
    "[Python Enhancement Proposals](https://www.python.org/dev/peps/)<br>\n",
    "[PEP 8 – Style Guide for Python Code](https://peps.python.org/pep-0008/)\n"
   ]
  },
  {
   "cell_type": "code",
   "execution_count": 16,
   "metadata": {},
   "outputs": [
    {
     "name": "stdout",
     "output_type": "stream",
     "text": [
      "python_version:  3.7.7\n"
     ]
    }
   ],
   "source": [
    "from platform import python_version\n",
    "import sys\n",
    "print('python_version: ',python_version())"
   ]
  },
  {
   "cell_type": "markdown",
   "metadata": {},
   "source": [
    "# OBJECTS in PYTHON"
   ]
  },
  {
   "cell_type": "code",
   "execution_count": 2,
   "metadata": {},
   "outputs": [
    {
     "name": "stdout",
     "output_type": "stream",
     "text": [
      "['a', 'b']\n"
     ]
    }
   ],
   "source": [
    "R1 = ['a', 'b']\n",
    "print(R1)"
   ]
  },
  {
   "cell_type": "code",
   "execution_count": 3,
   "metadata": {},
   "outputs": [
    {
     "name": "stdout",
     "output_type": "stream",
     "text": [
      "['a', 'b']\n"
     ]
    }
   ],
   "source": [
    "r3 = R1\n",
    "print(r3)"
   ]
  },
  {
   "cell_type": "code",
   "execution_count": 4,
   "metadata": {},
   "outputs": [
    {
     "name": "stdout",
     "output_type": "stream",
     "text": [
      "['a', 'b', 10]\n"
     ]
    }
   ],
   "source": [
    "R1.append(10)\n",
    "print(R1)"
   ]
  },
  {
   "cell_type": "code",
   "execution_count": 5,
   "metadata": {},
   "outputs": [
    {
     "name": "stdout",
     "output_type": "stream",
     "text": [
      "['a', 'b', 10]\n"
     ]
    }
   ],
   "source": [
    "print(r3)"
   ]
  },
  {
   "cell_type": "code",
   "execution_count": 6,
   "metadata": {},
   "outputs": [
    {
     "name": "stdout",
     "output_type": "stream",
     "text": [
      "['a', 'b', 10, 20]\n"
     ]
    }
   ],
   "source": [
    "r3.append(20)\n",
    "print(r3)"
   ]
  },
  {
   "cell_type": "code",
   "execution_count": 7,
   "metadata": {},
   "outputs": [
    {
     "name": "stdout",
     "output_type": "stream",
     "text": [
      "['a', 'b', 10, 20]\n"
     ]
    }
   ],
   "source": [
    "print(R1)"
   ]
  },
  {
   "cell_type": "markdown",
   "metadata": {},
   "source": [
    "# SEQUENCES"
   ]
  },
  {
   "cell_type": "code",
   "execution_count": 8,
   "metadata": {},
   "outputs": [
    {
     "name": "stdout",
     "output_type": "stream",
     "text": [
      "b\n"
     ]
    }
   ],
   "source": [
    "#String\n",
    "str = \"abcd 123\"\n",
    "print(str[1])"
   ]
  },
  {
   "cell_type": "code",
   "execution_count": 9,
   "metadata": {},
   "outputs": [
    {
     "ename": "TypeError",
     "evalue": "'str' object does not support item assignment",
     "output_type": "error",
     "traceback": [
      "\u001b[1;31m---------------------------------------------------------------------------\u001b[0m",
      "\u001b[1;31mTypeError\u001b[0m                                 Traceback (most recent call last)",
      "\u001b[1;32m~\\AppData\\Local\\Temp/ipykernel_13264/2010241153.py\u001b[0m in \u001b[0;36m<module>\u001b[1;34m\u001b[0m\n\u001b[0;32m      1\u001b[0m \u001b[0mstr\u001b[0m \u001b[1;33m=\u001b[0m \u001b[1;34m\"abcd 123\"\u001b[0m\u001b[1;33m\u001b[0m\u001b[1;33m\u001b[0m\u001b[0m\n\u001b[1;32m----> 2\u001b[1;33m \u001b[0mstr\u001b[0m\u001b[1;33m[\u001b[0m\u001b[1;36m1\u001b[0m\u001b[1;33m]\u001b[0m \u001b[1;33m=\u001b[0m \u001b[1;36m9\u001b[0m      \u001b[1;31m#exception, immutable\u001b[0m\u001b[1;33m\u001b[0m\u001b[1;33m\u001b[0m\u001b[0m\n\u001b[0m",
      "\u001b[1;31mTypeError\u001b[0m: 'str' object does not support item assignment"
     ]
    }
   ],
   "source": [
    "str = \"abcd 123\"\n",
    "str[1] = 9\t#exception, immutable\n"
   ]
  },
  {
   "cell_type": "code",
   "execution_count": 10,
   "metadata": {},
   "outputs": [
    {
     "name": "stdout",
     "output_type": "stream",
     "text": [
      "(1, 'str', 2.3, (4, 'a'))\n",
      "str\n",
      "(4, 'a')\n"
     ]
    }
   ],
   "source": [
    "#Tuple\n",
    "Tuple_1 = (1, 'str', 2.3, (4,\"a\"))\n",
    "print(Tuple_1)\n",
    "print(Tuple_1[1])\n",
    "print(Tuple_1[3])"
   ]
  },
  {
   "cell_type": "code",
   "execution_count": 11,
   "metadata": {},
   "outputs": [
    {
     "ename": "TypeError",
     "evalue": "'tuple' object does not support item assignment",
     "output_type": "error",
     "traceback": [
      "\u001b[1;31m---------------------------------------------------------------------------\u001b[0m",
      "\u001b[1;31mTypeError\u001b[0m                                 Traceback (most recent call last)",
      "\u001b[1;32m~\\AppData\\Local\\Temp/ipykernel_13264/598908260.py\u001b[0m in \u001b[0;36m<module>\u001b[1;34m\u001b[0m\n\u001b[1;32m----> 1\u001b[1;33m \u001b[0mTuple_1\u001b[0m\u001b[1;33m[\u001b[0m\u001b[1;36m1\u001b[0m\u001b[1;33m]\u001b[0m \u001b[1;33m=\u001b[0m \u001b[1;34m'STR-STR'\u001b[0m \u001b[1;31m#exception, immutable\u001b[0m\u001b[1;33m\u001b[0m\u001b[1;33m\u001b[0m\u001b[0m\n\u001b[0m",
      "\u001b[1;31mTypeError\u001b[0m: 'tuple' object does not support item assignment"
     ]
    }
   ],
   "source": [
    "Tuple_1[1] = 'STR-STR' #exception, immutable\n"
   ]
  },
  {
   "cell_type": "code",
   "execution_count": 12,
   "metadata": {},
   "outputs": [
    {
     "name": "stdout",
     "output_type": "stream",
     "text": [
      "5\n",
      "1\n"
     ]
    }
   ],
   "source": [
    "sngle = 'hello'\n",
    "sngleTn = 'hello',            # <-- note trailing comma \n",
    "print(len(sngle))\n",
    "print(len(sngleTn))"
   ]
  },
  {
   "cell_type": "code",
   "execution_count": 13,
   "metadata": {},
   "outputs": [
    {
     "name": "stdout",
     "output_type": "stream",
     "text": [
      "(1111, 2222, 'hello!')\n",
      "1111 2222 hello!\n"
     ]
    }
   ],
   "source": [
    "#Packing, unpacking\n",
    "tuple_1 = 1111, 2222, 'hello!'  #packing\n",
    "print(tuple_1)\n",
    "\n",
    "x, y, z = tuple_1         #unpacking\n",
    "print(x, y, z)"
   ]
  },
  {
   "cell_type": "code",
   "execution_count": 10,
   "metadata": {},
   "outputs": [
    {
     "name": "stdout",
     "output_type": "stream",
     "text": [
      "[1, 'str', 2.3, (4, 'a')]\n",
      "str\n"
     ]
    }
   ],
   "source": [
    "#List\n",
    "List_1 = [1, 'str', 2.3, (4,\"a\")]\n",
    "print(List_1)\n",
    "print(List_1[1])"
   ]
  },
  {
   "cell_type": "code",
   "execution_count": 13,
   "metadata": {},
   "outputs": [
    {
     "name": "stdout",
     "output_type": "stream",
     "text": [
      "[1, 'STR-STR', 2.3, (4, 'a')]\n"
     ]
    }
   ],
   "source": [
    "List_1[1] = 'STR-STR'\n",
    "print(List_1)"
   ]
  },
  {
   "cell_type": "code",
   "execution_count": 6,
   "metadata": {},
   "outputs": [
    {
     "name": "stdout",
     "output_type": "stream",
     "text": [
      "[[None, None, None, None], [None, None, None, None], [None, None, None, None], [None, None, None, None], [None, None, None, None], [None, None, None, None]]\n",
      "[[1, None, None, None], [1, None, None, None], [1, None, None, None], [1, None, None, None], [1, None, None, None], [1, None, None, None]]\n",
      "[[1, 0.1, None, None], [1, 0.1, None, None], [1, 0.1, None, None], [1, 0.1, None, None], [1, 0.1, None, None], [1, 0.1, None, None]]\n",
      "[[1, 0.1, 0.2, None], [1, 0.1, 0.2, None], [1, 0.1, 0.2, None], [1, 0.1, 0.2, None], [1, 0.1, 0.2, None], [1, 0.1, 0.2, None]]\n",
      "\n",
      "[[None, None, None, None], [None, None, None, None], [None, None, None, None], [None, None, None, None], [None, None, None, None], [None, None, None, None]]\n",
      "[[1, None, None, None], [None, None, None, None], [None, None, None, None], [None, None, None, None], [None, None, None, None], [None, None, None, None]]\n",
      "[[1, 0.1, None, None], [None, None, None, None], [None, None, None, None], [None, None, None, None], [None, None, None, None], [None, None, None, None]]\n",
      "[[1, 0.1, 0.2, None], [None, None, None, None], [None, None, None, None], [None, None, None, None], [None, None, None, None], [None, None, None, None]]\n"
     ]
    }
   ],
   "source": [
    "#List of Lists\n",
    "dataBP = [[None]*4]*6\n",
    "\n",
    "i = 0\n",
    "print(dataBP)\n",
    "dataBP[i][0] = 1\n",
    "print(dataBP)\n",
    "dataBP[i][1] = 0.1\n",
    "print(dataBP)\n",
    "dataBP[i][2] = 0.2\n",
    "print(dataBP)\n",
    "\n",
    "dataBP = [[None for j in range(4)] for i in range(6) ]\n",
    "\n",
    "print()\n",
    "i = 0\n",
    "print(dataBP)\n",
    "dataBP[i][0] = 1\n",
    "print(dataBP)\n",
    "dataBP[i][1] = 0.1\n",
    "print(dataBP)\n",
    "dataBP[i][2] = 0.2\n",
    "print(dataBP)\n"
   ]
  },
  {
   "cell_type": "code",
   "execution_count": 14,
   "metadata": {},
   "outputs": [
    {
     "name": "stdout",
     "output_type": "stream",
     "text": [
      "{'0589': 80, '0510': 'S', 1: 100}\n",
      "80\n",
      "100\n",
      "{'0589': 80, '0510': 'S', 1: 85}\n"
     ]
    }
   ],
   "source": [
    "#Dictionary\n",
    "grade = {'0589': 80, '0510': 'S', 1: 100}\n",
    "print(grade)\n",
    "\n",
    "print(grade['0589'])\n",
    "print(grade[1])\n",
    "grade[1] = 85\n",
    "print(grade)"
   ]
  },
  {
   "cell_type": "code",
   "execution_count": 15,
   "metadata": {},
   "outputs": [
    {
     "name": "stdout",
     "output_type": "stream",
     "text": [
      "{'r', 'd', 1, 'R'}\n"
     ]
    }
   ],
   "source": [
    "#Set\n",
    "set = {'r','d',1,'r','R'}\n",
    "print(set)"
   ]
  },
  {
   "cell_type": "code",
   "execution_count": 17,
   "metadata": {},
   "outputs": [
    {
     "name": "stdout",
     "output_type": "stream",
     "text": [
      "union:  {1, 2, 3, 4, 5}\n",
      "intersection:  {3}\n",
      "difference:  {1, 2}\n",
      "difference:  {4, 5}\n",
      "symmetric difference:  {1, 2, 4, 5}\n",
      "symmetric difference:  {1, 2, 4, 5}\n"
     ]
    }
   ],
   "source": [
    "set1 = {1, 2, 3, 3, 3}\n",
    "set2 = {3, 4, 5}\n",
    "print(\"union: \",set1 | set2)\n",
    "print(\"intersection: \",set1 & set2)\n",
    "print(\"difference: \",set1 - set2)\n",
    "print(\"difference: \",set2 - set1)\n",
    "print(\"symmetric difference: \",set1 ^ set2)\n",
    "print(\"symmetric difference: \",set1 - set2 | set2 - set1)\n"
   ]
  },
  {
   "cell_type": "code",
   "execution_count": null,
   "metadata": {},
   "outputs": [],
   "source": [
    "set1 = {1, 2, 3, 3, 3}\n",
    "set2 = {3, 4, 5}\n",
    "print(\"symmetric difference: \",set1 ^ set2)"
   ]
  },
  {
   "cell_type": "markdown",
   "metadata": {},
   "source": [
    "# MUTABLE & IMMUTABLE OBJECTS"
   ]
  },
  {
   "cell_type": "markdown",
   "metadata": {},
   "source": [
    "## Immutable Objects"
   ]
  },
  {
   "cell_type": "code",
   "execution_count": null,
   "metadata": {},
   "outputs": [],
   "source": [
    "#Immutable \n",
    "m = \"Welcome\"\n",
    "print(m)"
   ]
  },
  {
   "cell_type": "code",
   "execution_count": null,
   "metadata": {},
   "outputs": [],
   "source": [
    "m[0] = 'p'"
   ]
  },
  {
   "cell_type": "code",
   "execution_count": null,
   "metadata": {},
   "outputs": [],
   "source": [
    "A = 'str1'\n",
    "print('A1: ',A)\n",
    "B = A\n",
    "print('B1: ',B)"
   ]
  },
  {
   "cell_type": "code",
   "execution_count": null,
   "metadata": {},
   "outputs": [],
   "source": [
    "B = 'str2'\n",
    "print('A2: ',A)\n",
    "print('B: ',B)"
   ]
  },
  {
   "cell_type": "code",
   "execution_count": null,
   "metadata": {},
   "outputs": [],
   "source": [
    "B[0] = '1'"
   ]
  },
  {
   "cell_type": "code",
   "execution_count": null,
   "metadata": {},
   "outputs": [],
   "source": [
    "x = 5.2\n",
    "y = x\n",
    "print(\"x= \", x,\", y= \",y)"
   ]
  },
  {
   "cell_type": "code",
   "execution_count": null,
   "metadata": {},
   "outputs": [],
   "source": [
    "y = 3.3\n",
    "print(\"x= \", x,\", y= \",y)"
   ]
  },
  {
   "cell_type": "code",
   "execution_count": null,
   "metadata": {},
   "outputs": [],
   "source": [
    "y = x\n",
    "print(\"x= \", x,\", y= \",y)"
   ]
  },
  {
   "cell_type": "code",
   "execution_count": null,
   "metadata": {},
   "outputs": [],
   "source": [
    "x = 2.3\n",
    "print(\"x= \", x,\", y= \",y)"
   ]
  },
  {
   "cell_type": "markdown",
   "metadata": {},
   "source": [
    "## Mutable objects"
   ]
  },
  {
   "cell_type": "code",
   "execution_count": null,
   "metadata": {},
   "outputs": [],
   "source": [
    "A = [\"1\", 2]\n",
    "B = A\n",
    "print('B: ', B)\n",
    "B = 'str2'\n",
    "print('A: ', A)\n",
    "print('new B: ', B)"
   ]
  },
  {
   "cell_type": "code",
   "execution_count": null,
   "metadata": {},
   "outputs": [],
   "source": [
    "C = A\n",
    "print('C: ', C)"
   ]
  },
  {
   "cell_type": "code",
   "execution_count": null,
   "metadata": {},
   "outputs": [],
   "source": [
    "C.append('cc')\n",
    "print('new C: ', C)\n",
    "print('A: ', A)"
   ]
  },
  {
   "cell_type": "code",
   "execution_count": null,
   "metadata": {},
   "outputs": [],
   "source": [
    "C[0] = '2'\n",
    "print('new C: ', C)\n",
    "print('A: ', A)"
   ]
  },
  {
   "cell_type": "code",
   "execution_count": null,
   "metadata": {},
   "outputs": [],
   "source": [
    "A[2] = 'aa'\n",
    "print('C: ', C)\n",
    "print('new A: ', A)"
   ]
  },
  {
   "cell_type": "code",
   "execution_count": null,
   "metadata": {},
   "outputs": [],
   "source": [
    "grade = {'0589': 80, '0510': 'S', 1: 100}\n",
    "print(grade)"
   ]
  },
  {
   "cell_type": "code",
   "execution_count": null,
   "metadata": {},
   "outputs": [],
   "source": [
    "print(grade['0589'])"
   ]
  },
  {
   "cell_type": "code",
   "execution_count": null,
   "metadata": {},
   "outputs": [],
   "source": [
    "print(grade[1])"
   ]
  },
  {
   "cell_type": "code",
   "execution_count": null,
   "metadata": {},
   "outputs": [],
   "source": [
    "grade[1] = 85\n",
    "print(grade[1])"
   ]
  },
  {
   "cell_type": "markdown",
   "metadata": {},
   "source": [
    "# BRANCHING"
   ]
  },
  {
   "cell_type": "code",
   "execution_count": 18,
   "metadata": {},
   "outputs": [
    {
     "name": "stdout",
     "output_type": "stream",
     "text": [
      "Enter your number: 1\n",
      "‘x is less than 2\n"
     ]
    }
   ],
   "source": [
    "x = int(input(\"Enter your number: \"))\n",
    "\n",
    "if x >= 10: \n",
    "    print('x is greater than 10')\n",
    "elif x >= 5:\n",
    "    print('x is greater than 5 and less than 10')\n",
    "elif x >= 2:\n",
    "    print('x is greater than 2 and less than 5')\n",
    "else:\n",
    "    print('‘x is less than 2')\n",
    "#"
   ]
  },
  {
   "cell_type": "code",
   "execution_count": null,
   "metadata": {},
   "outputs": [],
   "source": [
    "print(x, ' is greater than 10') if x > 10 else print(x, ' is NOT greater than 10')"
   ]
  },
  {
   "cell_type": "markdown",
   "metadata": {},
   "source": [
    "# LOOPING"
   ]
  },
  {
   "cell_type": "code",
   "execution_count": null,
   "metadata": {},
   "outputs": [],
   "source": [
    "choice = input(\"choose 1 or 2: \")\n",
    "\n",
    "if choice == '1':\n",
    "    myList = [11, 8, 4, 1, -1, 's']\n",
    "else:\n",
    "    myList = range(11,-1,-2)\n",
    "\n",
    "print('\\tchoice is ' + choice)\n",
    "  \n",
    "for x in myList:\n",
    "    print('processing index of ' + str(myList.index(x)))    \n",
    "  \n",
    "    if x == 's':\n",
    "        print(\"\\tSTOP!\")\n",
    "        break\n",
    "    #end if\n",
    "\n",
    "    if x >= 10:\n",
    "        print('\\t' + str(x) + ' is greater than 10')\n",
    "    elif x >= 5:\n",
    "        print('\\t' + str(x) + ' is greater than 5 and less than 10')\n",
    "    elif x >= 2:\n",
    "        print('\\t' + str(x) + ' is greater than 2 and less than 5')\n",
    "    else:\n",
    "        print('\\t' + str(x) + ' is less than 2')\n",
    "    #end if\n",
    "#end for\n",
    "\n",
    "print(\"\\n\\n...END OF PROGRAM!\")"
   ]
  },
  {
   "cell_type": "code",
   "execution_count": null,
   "metadata": {},
   "outputs": [],
   "source": [
    "cont = True\n",
    "\n",
    "while cont:\n",
    "    number = input(\"Enter your number: \")\n",
    "\n",
    "    if number == 's':\n",
    "        cont = False\n",
    "        print(\"STOP!\")\n",
    "        break\n",
    "    #end if\n",
    "\n",
    "    x = int(number)\n",
    "\n",
    "    if x >= 10:\n",
    "        print('x is greater than or equal to 10')\n",
    "    elif x >= 5:\n",
    "        print('x is greater than or equal to 5 and less than 10')\n",
    "    elif x >= 2:\n",
    "        print('x is greater than or equal to 2 and less than 5')\n",
    "    else:\n",
    "        print('x is less than 2')\n",
    "    #end if\n",
    "#end while\n",
    "\n",
    "print(\"END OF PROGRAM\")"
   ]
  },
  {
   "cell_type": "markdown",
   "metadata": {},
   "source": [
    "# GENERATORS\n",
    "[Generators](https://www.programiz.com/python-programming/generator)"
   ]
  },
  {
   "cell_type": "code",
   "execution_count": 1,
   "metadata": {},
   "outputs": [
    {
     "name": "stdout",
     "output_type": "stream",
     "text": [
      "a:  [1, 9, 36, 100]\n",
      "b:  <generator object <genexpr> at 0x00000251FC5C1CF0>\n",
      "a[:]:  [1, 9, 36, 100]\n",
      ":(\n"
     ]
    }
   ],
   "source": [
    "my_list = [1, 3, 6, 10]\n",
    "\n",
    "#Python Generator Expression\n",
    "a = [x**2 for x in my_list]\n",
    "print(\"a: \",a)\n",
    "\n",
    "b = (x**2 for x in my_list)\n",
    "print(\"b: \",b)\n",
    "\n",
    "try:\n",
    "    print(\"a[:]: \",a[:])\n",
    "    print(\"b[:]: \",b[:])\n",
    "except:\n",
    "    print(':(')"
   ]
  },
  {
   "cell_type": "code",
   "execution_count": 2,
   "metadata": {},
   "outputs": [
    {
     "name": "stdout",
     "output_type": "stream",
     "text": [
      "[0, 0, 0, 0]\n",
      "[1, 3, 6, 10]\n"
     ]
    }
   ],
   "source": [
    "my_list = [1, 3, 6, 10]\n",
    "a = [0]*len(my_list)\n",
    "print(a)\n",
    "i = -1\n",
    "for x in my_list:\n",
    "    i = i+1\n",
    "    a[i] = x\n",
    "#\n",
    "print(a)"
   ]
  },
  {
   "cell_type": "code",
   "execution_count": 3,
   "metadata": {},
   "outputs": [
    {
     "name": "stdout",
     "output_type": "stream",
     "text": [
      "mySet:  {'d', 'r'}\n",
      ":(\n"
     ]
    }
   ],
   "source": [
    "mySet = {x for x in 'abracadabra' if x not in 'abc'}\n",
    "print(\"mySet: \", mySet)\n",
    "try:\n",
    "    print(\"mySet[:] :\",mySet[:])\n",
    "except:\n",
    "    print(':(')\n",
    "#    "
   ]
  },
  {
   "cell_type": "code",
   "execution_count": 4,
   "metadata": {},
   "outputs": [
    {
     "name": "stdout",
     "output_type": "stream",
     "text": [
      "myTuple:  <generator object <genexpr> at 0x000001D20F24FD48>\n",
      ":(\n"
     ]
    }
   ],
   "source": [
    "myTuple = (x for x in 'abracadabra' if x not in 'abc')\n",
    "print(\"myTuple: \",myTuple)\n",
    "try:\n",
    "    print(\"myTuple[:] :\",myTuple[:])\n",
    "except:\n",
    "    print(':(')\n",
    "#    "
   ]
  },
  {
   "cell_type": "markdown",
   "metadata": {},
   "source": [
    "## Pipelining Generators"
   ]
  },
  {
   "cell_type": "code",
   "execution_count": 2,
   "metadata": {},
   "outputs": [
    {
     "name": "stdout",
     "output_type": "stream",
     "text": [
      "['2', '1', '3']\n",
      "<generator object <genexpr> at 0x00000251FC5C1E40>\n",
      "Total hours worked sold =  6\n"
     ]
    }
   ],
   "source": [
    "with open('TestData.csv') as file:\n",
    "    pizza_col = [line[3] for line in file]\n",
    "    print(pizza_col)\n",
    "    per_hour = (int(x) for x in pizza_col if x != 'N')\n",
    "    print(per_hour)\n",
    "    print(\"Total hours worked sold = \",sum(per_hour))"
   ]
  },
  {
   "cell_type": "markdown",
   "metadata": {},
   "source": [
    "# ITERATION"
   ]
  },
  {
   "cell_type": "code",
   "execution_count": 6,
   "metadata": {},
   "outputs": [
    {
     "name": "stdout",
     "output_type": "stream",
     "text": [
      "i, k, dp:  0 1 -1\n",
      "i, k, dp:  1 2 3\n",
      "i, k, dp:  2 -1 2\n",
      "dp=  2\n"
     ]
    }
   ],
   "source": [
    "v1 = (1,2,-1)\n",
    "v2 = (-1,2,1)\n",
    "dp=0\n",
    "for i,k in enumerate(v1):\n",
    "    dp += v2[i]*k #v1[i]*v2[i]\n",
    "    print(\"i, k, dp: \",i,k,dp)\n",
    "#\n",
    "print(\"dp= \",dp)"
   ]
  },
  {
   "cell_type": "code",
   "execution_count": 7,
   "metadata": {},
   "outputs": [
    {
     "name": "stdout",
     "output_type": "stream",
     "text": [
      "v1:  (1, 2, -1)\n",
      "x, dp :  (1, -1) -1\n",
      "x, dp :  (2, 2) 3\n",
      "x, dp :  (-1, 1) 2\n",
      "dp=  2\n"
     ]
    }
   ],
   "source": [
    "v1 = (1,2,-1)\n",
    "v2 = (-1,2,1)\n",
    "print(\"v1: \",v1)\n",
    "\n",
    "dp=0\n",
    "for x in zip(v1,v2):\n",
    "    dp += x[0]*x[1]\n",
    "    print(\"x, dp : \",x,dp)\n",
    "#\n",
    "print(\"dp= \",dp)"
   ]
  },
  {
   "cell_type": "markdown",
   "metadata": {},
   "source": [
    "# OPERATOR PRECEDENCE"
   ]
  },
  {
   "cell_type": "code",
   "execution_count": 8,
   "metadata": {},
   "outputs": [
    {
     "name": "stdout",
     "output_type": "stream",
     "text": [
      "16.0 4.0\n",
      "10.0 6.0 19\n",
      "2048.0 64.0\n",
      "1\n",
      "0\n"
     ]
    }
   ],
   "source": [
    "print(8*4/2,8/4*2)\n",
    "print(8+4/2,(8+4)/2,8+4*2+3)\n",
    "print(8**4/2,8**(4/2))\n",
    "\n",
    "print(0 & 0 | 1)\n",
    "print(0 | 0 & 1)"
   ]
  },
  {
   "cell_type": "code",
   "execution_count": 9,
   "metadata": {},
   "outputs": [
    {
     "name": "stdout",
     "output_type": "stream",
     "text": [
      "0\n"
     ]
    }
   ],
   "source": [
    "print((0 | 0) & 1)"
   ]
  },
  {
   "cell_type": "markdown",
   "metadata": {},
   "source": [
    "# SEQUENCE COMPARISONS"
   ]
  },
  {
   "cell_type": "code",
   "execution_count": 3,
   "metadata": {},
   "outputs": [
    {
     "name": "stdout",
     "output_type": "stream",
     "text": [
      "False\n",
      "True\n",
      "False\n",
      "True\n",
      "False\n",
      "True\n"
     ]
    }
   ],
   "source": [
    "print([5, 90, 6] < [5, 10, 80])\n",
    "\n",
    "print([5, 90, 6] < [6, 10, 80])\n",
    "\n",
    "print([5, 90, 6] < [5, 10])\n",
    "\n",
    "print([5, 90, 6] < [6, 10])\n",
    "\n",
    "print([5, 90] < [5, 10, 80])\n",
    "\n",
    "print([5, 90] < [6, 10, 80])"
   ]
  },
  {
   "cell_type": "code",
   "execution_count": 4,
   "metadata": {},
   "outputs": [
    {
     "name": "stdout",
     "output_type": "stream",
     "text": [
      "True\n"
     ]
    }
   ],
   "source": [
    "print([5, 90] < [6, 10, 80])"
   ]
  },
  {
   "cell_type": "code",
   "execution_count": 5,
   "metadata": {},
   "outputs": [
    {
     "name": "stdout",
     "output_type": "stream",
     "text": [
      "True\n",
      "False\n",
      "False\n",
      "True\n"
     ]
    }
   ],
   "source": [
    "print(['a', 'aa', 'b'] < ['a', 'aaa', 'b'])\n",
    "print(['a', 'aaa', 'b'] < ['a', 'aa', 'b'])\n",
    "print(['a', 'aa', 'b'] < ['a', 'aa'])\n",
    "print(['a', 'aa'] < ['a', 'aa','b'])"
   ]
  },
  {
   "cell_type": "code",
   "execution_count": 4,
   "metadata": {},
   "outputs": [
    {
     "name": "stdout",
     "output_type": "stream",
     "text": [
      "True\n"
     ]
    }
   ],
   "source": [
    "print(['a', 'aa'] < ['a', 'aa','b'])"
   ]
  },
  {
   "cell_type": "markdown",
   "metadata": {},
   "source": [
    "# Strings vs. Sets for Comparison"
   ]
  },
  {
   "cell_type": "code",
   "execution_count": 10,
   "metadata": {},
   "outputs": [
    {
     "name": "stdout",
     "output_type": "stream",
     "text": [
      "True\n",
      "True\n",
      "False\n",
      "abbc  comes before  bac\n",
      "True\n",
      "True\n",
      "{'b', 'a', 'c'}  is a sub-set of  {'b', 'a', 'c'}\n",
      "False\n",
      "True\n",
      "{'b', 'a', 'c'}  is a sub-set of  {'x', 'b', 'a', 'c'}\n"
     ]
    }
   ],
   "source": [
    "print('abbc' <= 'bac')\n",
    "str1 = 'abbc'\n",
    "str2 = 'bac'\n",
    "res1 = str1 <= str2\n",
    "res2 = str2 <= str1\n",
    "print(res1)\n",
    "print(res2)\n",
    "print(str1,' comes before ', str2) if res1 else print(str2,' comes before ', str1)\n",
    "\n",
    "set1 = {'a','b','b','c'}\n",
    "set2 = {'b','a','c'}\n",
    "res1 = set1 <= set2\n",
    "res2 = set2 <= set1\n",
    "print(res1)\n",
    "print(res2)\n",
    "print(set1,' is a sub-set of ', set2) if res1 else print(set2,' is a sub-set of ', set1)\n",
    "\n",
    "set1 = {'a','b','b','c', 'x'}\n",
    "set2 = {'b','a','c'}\n",
    "res1 = set1 <= set2\n",
    "res2 = set2 <= set1\n",
    "print(res1)\n",
    "print(res2)\n",
    "print(set1,' is a sub-set of ', set2) if res1 else print(set2,' is a sub-set of ', set1)\n",
    "\n"
   ]
  },
  {
   "cell_type": "code",
   "execution_count": null,
   "metadata": {},
   "outputs": [],
   "source": [
    "set1 = {'a','b','b','c', 'x'}\n",
    "set2 = {'b','a','c'}\n",
    "res1 = set1 <= set2\n",
    "res2 = set2 <= set1\n",
    "print(res1)\n",
    "print(res2)\n",
    "print(set1,' is a sub-set of ', set2) if res1 else print(set2,' is a sub-set of ', set1)"
   ]
  },
  {
   "cell_type": "markdown",
   "metadata": {},
   "source": [
    "# FILES"
   ]
  },
  {
   "cell_type": "markdown",
   "metadata": {},
   "source": [
    "## Read & Write"
   ]
  },
  {
   "cell_type": "code",
   "execution_count": null,
   "metadata": {},
   "outputs": [],
   "source": [
    "with open('input/TestData.csv') as file:\n",
    "    print(file.read())\n",
    "#\n",
    "\n",
    "print('\\n')\n",
    "\n",
    "with open('input/TestData.csv') as file:\n",
    "    print(file.read(2))\n",
    "#\n",
    "print('\\n')\n",
    "\n",
    "with open('input/TestData.csv') as file:\n",
    "    print(\"move the cursor to the byte \",file.seek(3))\n",
    "    print(\"rest of the line is \", file.readline())\n",
    "#\n",
    "print('\\n')\n",
    "\n",
    "with open('input/TestData.csv') as file:\n",
    "    print(file.read(),\"\\n\")\n",
    "    print(\"move the cursor to the byte \",file.seek(0))\n",
    "    print(\"first character: \",file.read(1))\n",
    "    print(\"the cursor is at byte \", file.tell())\n",
    "    print(\"move the cursor to the byte \",file.seek(3))\n",
    "    print(\"rest of the line is \", file.readline())\n",
    "    print(\"rest all other lines are \", file.readlines())\n",
    "#\n",
    "print(\"file.closed?: \",file.closed)"
   ]
  },
  {
   "cell_type": "code",
   "execution_count": null,
   "metadata": {},
   "outputs": [],
   "source": [
    "with open('input/TestData.csv') as file:\n",
    "    print(file.read())\n",
    "#\n",
    "\n",
    "\n",
    "print('\\n')\n",
    "\n",
    "with open('input/TestData.csv') as file:\n",
    "    print(file.read(),\"\\n\")\n",
    "    print(\"move the cursor to the byte \",file.seek(0))\n",
    "    print(\"first character: \",file.read(1))\n",
    "    print(\"the cursor is at byte \", file.tell())\n",
    "    print(\"move the cursor to the byte \",file.seek(3))\n",
    "    print(\"rest of the line is \", file.readline())\n",
    "    print(\"rest all other lines are \", file.readlines())\n",
    "#\n",
    "print(\"file.closed?: \",file.closed)\n",
    "\n",
    "'''\n",
    "with open('input/TestData.csv') as file:\n",
    "    print(file.read(2))\n",
    "    print(file.read(2))\n",
    "    print(file.read(5))\n",
    "#\n",
    "print('\\n')\n",
    "\n",
    "with open('input/TestData.csv') as file:\n",
    "    print(\"move the cursor to the byte \",file.seek(3))\n",
    "    print(\"rest of the line is \", file.readline())\n",
    "    print(\"rest of the line is \", file.readline())\n",
    "#\n",
    "print('\\n')\n",
    "'''"
   ]
  },
  {
   "cell_type": "code",
   "execution_count": null,
   "metadata": {},
   "outputs": [],
   "source": [
    "with open('TestData.csv') as file:\n",
    "    print(file.read(),\"\\n\")\n",
    "    print(\"move the cursor to the byte \",file.seek(0))\n",
    "    print(\"first character: \",file.read(1))\n",
    "    print(\"the cursor is at byte \", file.tell())\n",
    "    print(\"move the cursor to the byte \",file.seek(3))\n",
    "    print(\"rest of the line is \", file.readline())\n",
    "    print(\"rest all other lines are \", file.readlines())\n",
    "#\n",
    "print(\"file.closed?: \",file.closed)"
   ]
  },
  {
   "cell_type": "code",
   "execution_count": 6,
   "metadata": {},
   "outputs": [
    {
     "name": "stdout",
     "output_type": "stream",
     "text": [
      "file_2.closed?:  False\n",
      "file_1.closed?:  False\n",
      "file_1.closed?:  True\n",
      "file_2.closed?:  False\n",
      "file_2.closed?:  True\n"
     ]
    }
   ],
   "source": [
    "with open('INPUT/TestData_2.csv','w') as file_2:\n",
    "    file_2.write(\"1235\\n\")\n",
    "    print(\"file_2.closed?: \",file_2.closed)\n",
    "    \n",
    "    with open('INPUT/TestData.csv') as file_1:\n",
    "        file_2.writelines(file_1.readlines())\n",
    "        print(\"file_1.closed?: \",file_1.closed)\n",
    "    #\n",
    "    print(\"file_1.closed?: \",file_1.closed)\n",
    "    print(\"file_2.closed?: \",file_2.closed)\n",
    "#  \n",
    "print(\"file_2.closed?: \",file_2.closed)"
   ]
  },
  {
   "cell_type": "code",
   "execution_count": null,
   "metadata": {},
   "outputs": [],
   "source": [
    "with open('TestData_2.csv') as file:\n",
    "    for line in file:\n",
    "        print(line, end='')\n",
    "    #\n",
    "#\n",
    "\n",
    "with open('TestData_2.csv') as file:\n",
    "    for line in file:\n",
    "        print(line, end='\\n')\n",
    "    #\n",
    "# "
   ]
  },
  {
   "cell_type": "code",
   "execution_count": 7,
   "metadata": {},
   "outputs": [
    {
     "name": "stdout",
     "output_type": "stream",
     "text": [
      "1235\n",
      "\n",
      "x1c2y\n",
      "\n",
      "x3b1y\n",
      "\n",
      "d2z3y\n"
     ]
    }
   ],
   "source": [
    "with open('INPUT/TestData_2.csv') as file:\n",
    "    for line in file:\n",
    "        print(line, end='\\n')\n",
    "    #\n",
    "# "
   ]
  },
  {
   "cell_type": "code",
   "execution_count": 25,
   "metadata": {},
   "outputs": [
    {
     "name": "stdout",
     "output_type": "stream",
     "text": [
      "1abcd\n",
      "2efg\n",
      "3hjklmn\n",
      "4oprs\n",
      "0 . cursor is at  0\n",
      "1 . cursor is at  1 b'1'\n",
      "2 . cursor is at  2 b'a'\n",
      "3 . cursor is at  3 b'b'\n",
      "4 . cursor is at  4 b'c'\n",
      "5 . cursor is at  5 b'd'\n",
      "6 . cursor is at  6 b'\\n'\n",
      "7 . cursor is at  7 b'2'\n",
      "8 . cursor is at  8 b'e'\n",
      "9 . cursor is at  9 b'f'\n",
      "10 . cursor is at  10 b'g'\n",
      "11 . cursor is at  11 b'\\n'\n",
      "12 . cursor is at  12 b'3'\n",
      "13 . cursor is at  13 b'h'\n",
      "14 . cursor is at  14 b'j'\n",
      "15 . cursor is at  15 b'k'\n",
      "16 . cursor is at  16 b'l'\n",
      "17 . cursor is at  17 b'm'\n",
      "18 . cursor is at  18 b'n'\n",
      "19 . cursor is at  19 b'\\n'\n",
      "20 . cursor is at  20 b'4'\n",
      "21 . cursor is at  21 b'o'\n",
      "22 . cursor is at  22 b'p'\n",
      "23 . cursor is at  23 b'r'\n",
      "24 . cursor is at  24 b's'\n",
      "25 . cursor is at  24 b''\n"
     ]
    }
   ],
   "source": [
    "with open('INPUT/TestData_2.csv') as file:\n",
    "    print(file.read())\n",
    "#\n",
    "\n",
    "with open('INPUT/TestData_2.csv','rb') as file:\n",
    "    i = 0\n",
    "    print(i,\". cursor is at \",file.tell())\n",
    "    value = file.read(1)\n",
    "    i +=1 \n",
    "    print(i,\". cursor is at \",file.tell(), value)\n",
    "    while value !=b'':\n",
    "        i +=1 \n",
    "\n",
    "        value = file.read(1)\n",
    "        print(i,\". cursor is at \",file.tell(), value)\n",
    "        \n",
    "        if i == 25:\n",
    "            break\n",
    "    #\n",
    "#"
   ]
  },
  {
   "cell_type": "code",
   "execution_count": 12,
   "metadata": {},
   "outputs": [
    {
     "name": "stdout",
     "output_type": "stream",
     "text": [
      "1abcd\n",
      "2efg\n",
      "3hjklmn\n",
      "4oprs\n",
      "\n",
      "1. cursor is at  5  after seek(5)\n",
      "\tvalue for read(1):  b'\\n'\n",
      "\t\tcursor is at  6  after read(1)\n",
      "\n",
      "2. Cursor is at  0  after seek(0)\n",
      "\tvalue for readlines(1):  [b'1abcd\\n']\n",
      "\t\tCursor is at  6  after readlines(1)\n",
      "\tvalue for readlines(1):  [b'2efg\\n']\n",
      "\t\tCursor is at  11  after readlines(1)\n",
      "\n",
      "3. Cursor is at  0  after seek(0)\n",
      "\tvalue for readlines(6):  [b'1abcd\\n', b'2efg\\n']\n",
      "\t\tCursor is at  11\n",
      "\tvalue for readlines(6):  [b'3hjklmn\\n']\n",
      "\t\tCursor is at  19\n",
      "\n",
      "4. cursor is at  22  after seek(3,1)\n",
      "\tvalue for read(1):  b'r'\n",
      "\t\tCursor is at  23\n",
      "\n",
      "5. cursor is at  3  after seek(3,0)\n",
      "\tvalue for readline():  b'cd\\n'\n",
      "\t\tCursor is at  6\n",
      "\n"
     ]
    }
   ],
   "source": [
    "import io\n",
    "\n",
    "with open('INPUT/TestData_3.csv') as file:\n",
    "    print(file.read())\n",
    "#\n",
    "print()\n",
    "\n",
    "with open('INPUT/TestData_3.csv','rb') as file:\n",
    "    file.seek(5)\n",
    "    print(\"1. cursor is at \",file.tell(), \" after seek(5)\")\n",
    "    print(\"\\tvalue for read(1): \",file.read(1))\n",
    "    print(\"\\t\\tcursor is at \",file.tell(), \" after read(1)\")\n",
    "    print()\n",
    "    \n",
    "    file.seek(0)\n",
    "    print(\"2. Cursor is at \",file.tell(), \" after seek(0)\")\n",
    "    print(\"\\tvalue for readlines(1): \",file.readlines(1))\n",
    "    print(\"\\t\\tCursor is at \",file.tell(), \" after readlines(1)\")\n",
    "    print(\"\\tvalue for readlines(1): \",file.readlines(1))\n",
    "    print(\"\\t\\tCursor is at \",file.tell(), \" after readlines(1)\")\n",
    "    print()\n",
    "    \n",
    "    file.seek(0)\n",
    "    print(\"3. Cursor is at \",file.tell(), \" after seek(0)\")\n",
    "    print(\"\\tvalue for readlines(6): \",file.readlines(6))\n",
    "    print(\"\\t\\tCursor is at \",file.tell())\n",
    "    print(\"\\tvalue for readlines(6): \",file.readlines(6))\n",
    "    print(\"\\t\\tCursor is at \",file.tell())\n",
    "    print()    \n",
    "    \n",
    "    #(https://docs.python.org/3.9/library/io.html?#io.IOBase.seek)\n",
    "    #SEEK_CUR = 1, current stream position; offset may be negative\n",
    "    file.seek(3,io.SEEK_CUR)\n",
    "    print(\"4. cursor is at \",file.tell(),\" after seek(3,1)\")\n",
    "    print(\"\\tvalue for read(1): \",file.read(1))\n",
    "    print(\"\\t\\tCursor is at \",file.tell())\n",
    "    print()\n",
    "    \n",
    "    #start of the stream (the default); offset should be zero or positive\n",
    "    file.seek(3,io.SEEK_SET)\n",
    "    print(\"5. cursor is at \",file.tell(),\" after seek(3,0)\")\n",
    "    print(\"\\tvalue for readline(): \",file.readline())\n",
    "    print(\"\\t\\tCursor is at \",file.tell())\n",
    "    print()\n",
    "#    "
   ]
  },
  {
   "cell_type": "code",
   "execution_count": 57,
   "metadata": {},
   "outputs": [
    {
     "name": "stdout",
     "output_type": "stream",
     "text": [
      "1abcd\n",
      "2efg\n",
      "3hjklmn\n",
      "4oprs\n",
      "\n",
      "value:  [b'1abcd\\n', b'2efg\\n', b'3hjklmn\\n']\n"
     ]
    }
   ],
   "source": [
    "with open('INPUT/TestData_3.csv') as file:\n",
    "    print(file.read())\n",
    "#\n",
    "print()\n",
    "\n",
    "with open('INPUT/TestData_3.csv','rb') as file:\n",
    "    print(\"value: \",file.readlines(12))"
   ]
  },
  {
   "cell_type": "markdown",
   "metadata": {},
   "source": [
    "## Create a Folder"
   ]
  },
  {
   "cell_type": "code",
   "execution_count": null,
   "metadata": {},
   "outputs": [],
   "source": [
    "import os\n",
    "\n",
    "file_path = ''  #specify path\n",
    "directory = ''  #specify directory\n",
    "if not os.path.exists(file_path):\n",
    "    try: \n",
    "        os.makedirs(directory)\n",
    "    except:\n",
    "        print('...') #error or warning message\n",
    "    #\n",
    "#"
   ]
  },
  {
   "cell_type": "markdown",
   "metadata": {},
   "source": [
    "# FUNCTION"
   ]
  },
  {
   "cell_type": "code",
   "execution_count": 13,
   "metadata": {},
   "outputs": [
    {
     "name": "stdout",
     "output_type": "stream",
     "text": [
      "xx:  1 yy:  ['c', 3]\n",
      "True\n",
      "xx:  1 yy:  ['a', 3]\n"
     ]
    }
   ],
   "source": [
    "def my_function(x, y):\n",
    "    '''Help documentation.'''\n",
    "    x = x + 1 '''since x is an int it is immutable. the old x is rewritten and a new x replaced it (same name, diff int)'''\n",
    "    y[0] = 'a'\n",
    "\n",
    "    return True\n",
    "#\n",
    "\n",
    "xx, yy = 1, ['c', 3] '''List have [] and are mutable, Sets have {} and are immutable'''\n",
    "print('xx: ', xx, \"yy: \", yy)\n",
    "print(my_function(xx, yy))\n",
    "print('xx: ', xx, \"yy: \", yy)"
   ]
  },
  {
   "cell_type": "markdown",
   "metadata": {},
   "source": [
    "# CLASSES\n",
    "[Doc](https://docs.python.org/3/tutorial/classes.html)"
   ]
  },
  {
   "cell_type": "code",
   "execution_count": null,
   "metadata": {},
   "outputs": [],
   "source": [
    "#The simplest form of class definition:\n",
    "'''\n",
    "class ClassName:\n",
    "    <statement-1>\n",
    "    .\n",
    "    .\n",
    "    <statement-1>\n",
    "'''"
   ]
  },
  {
   "cell_type": "code",
   "execution_count": 34,
   "metadata": {},
   "outputs": [
    {
     "name": "stdout",
     "output_type": "stream",
     "text": [
      "<__main__.MyClass object at 0x000002599A0E12C8>\n",
      "hello world\n",
      "12345\n",
      "\n",
      "<__main__.MyClass object at 0x000002599A0E1608>\n",
      "hello world\n",
      "12345\n",
      "\n",
      "<class '__main__.MyClass'>\n",
      "Error in printing MyClass.f()\n",
      " (<class 'TypeError'>, TypeError(\"f() missing 1 required positional argument: 'self'\"), <traceback object at 0x000002599A0D6708>)\n",
      "Create an instance of the class MyClass first!\n",
      "Try a different way MyClass.f(''):\n",
      "hello world\n",
      "12345\n"
     ]
    }
   ],
   "source": [
    "class MyClass:\n",
    "    \"\"\"A simple example class\"\"\"\n",
    "    i = 12345\n",
    "    def f(self):\n",
    "        return 'hello world' \n",
    "#\n",
    "\n",
    "#Class Instance\n",
    "x = MyClass()\n",
    "print(x)\n",
    "print(x.f())\n",
    "print(x.i)\n",
    "print()\n",
    "\n",
    "#Class Instance\n",
    "print(MyClass())\n",
    "print(MyClass().f())\n",
    "print(MyClass().i)\n",
    "print()\n",
    "\n",
    "#Class\n",
    "print(MyClass)\n",
    "try:\n",
    "    print(MyClass.f())\n",
    "except:\n",
    "    print(\"Error in printing MyClass.f()\\n\",sys.exc_info())\n",
    "    print(\"Create an instance of the class MyClass first!\")\n",
    "    print(\"Try a different way MyClass.f(''):\")\n",
    "    print(MyClass.f(''))\n",
    "#    \n",
    "print(MyClass.i)"
   ]
  },
  {
   "cell_type": "code",
   "execution_count": 17,
   "metadata": {},
   "outputs": [
    {
     "name": "stdout",
     "output_type": "stream",
     "text": [
      "<__main__.MyClass object at 0x0000022A253CDB48>\n",
      "i:  12345\n",
      "Error in printing i\n",
      " (<class 'NameError'>, NameError(\"name 'i' is not defined\"), <traceback object at 0x0000022A253CDEC8>)\n",
      "hello world\n",
      "12345\n",
      "\n",
      "<__main__.MyClass object at 0x0000022A253CDE48>\n",
      "i:  12345\n",
      "Error in printing i\n",
      " (<class 'NameError'>, NameError(\"name 'i' is not defined\"), <traceback object at 0x0000022A253CDF88>)\n",
      "hello world\n",
      "12345\n",
      "\n",
      "<class '__main__.MyClass'>\n",
      "Error in printing self.i\n",
      " (<class 'AttributeError'>, AttributeError(\"'str' object has no attribute 'i'\"), <traceback object at 0x0000022A252A5108>)\n",
      "Error in printing i\n",
      " (<class 'NameError'>, NameError(\"name 'i' is not defined\"), <traceback object at 0x0000022A252A5108>)\n",
      "hello world\n",
      "12345\n"
     ]
    }
   ],
   "source": [
    "class MyClass:\n",
    "    \"\"\"A simple example class\"\"\"\n",
    "    i = 12345\n",
    "    def f(self):\n",
    "        \n",
    "        try:\n",
    "            print(\"i: \", self.i)\n",
    "        except:\n",
    "            print(\"Error in printing self.i\\n\",sys.exc_info())\n",
    "        #\n",
    "        \n",
    "        try:\n",
    "            #i = 1\n",
    "            print(\"i: \", i,\"\\n\")\n",
    "        except:\n",
    "            print(\"Error in printing i\\n\",sys.exc_info())\n",
    "        #\n",
    "        return 'hello world' \n",
    "    #f()\n",
    "#\n",
    "\n",
    "#Class Instance\n",
    "x = MyClass()\n",
    "print(x)\n",
    "print(x.f())\n",
    "print(x.i)\n",
    "print()\n",
    "\n",
    "#Class Instance\n",
    "print(MyClass())\n",
    "print(MyClass().f())\n",
    "print(MyClass().i)\n",
    "print()\n",
    "\n",
    "#Class\n",
    "print(MyClass)\n",
    "print(MyClass.f(''))\n",
    "print(MyClass.i)"
   ]
  },
  {
   "cell_type": "markdown",
   "metadata": {},
   "source": [
    "<b>NOTES:</b>\n",
    "\n",
    "x = MyClass()\n",
    "creates a new instance of the class and assigns this object to the local variable x.\n",
    "The instantiation operation (“calling” a class object) creates an empty object. Many classes like to create objects with instances customized to a specific initial state. Therefore a class may define a special method named \\__init__(), like this:<br><br>\n",
    "def \\__init__(self):\n",
    ">   self.data = []\n"
   ]
  },
  {
   "cell_type": "code",
   "execution_count": 1,
   "metadata": {},
   "outputs": [
    {
     "name": "stdout",
     "output_type": "stream",
     "text": [
      "3.0 + j ( -4.5 )\n"
     ]
    }
   ],
   "source": [
    "class Complex:\n",
    "    j = 1\n",
    "    \n",
    "    def __init__(self, realpart, imagpart):\n",
    "        self.r = realpart\n",
    "        self.i = imagpart\n",
    "    #\n",
    "        \n",
    "    def print(self):\n",
    "        return print(self.r,'+ j (',self.i,')')\n",
    "    #\n",
    "#\n",
    "x = Complex(3.0, -4.5) \n",
    "x.print()\n",
    "\n"
   ]
  },
  {
   "cell_type": "code",
   "execution_count": 1,
   "metadata": {},
   "outputs": [
    {
     "name": "stdout",
     "output_type": "stream",
     "text": [
      "3.0 + j ( -4.5 )\n",
      "30.0 + j ( -40.5 )\n"
     ]
    }
   ],
   "source": [
    "class Complex:\n",
    "    j = 1\n",
    "    \n",
    "    def __init__(self, realpart, imagpart):\n",
    "        self.r = realpart\n",
    "        self.i = imagpart\n",
    "    #\n",
    "        \n",
    "    def print(self):\n",
    "        return print(self.r,'+ j (',self.i,')')\n",
    "    #\n",
    "#\n",
    "x = Complex(3.0, -4.5) \n",
    "x.print()\n",
    "\n",
    "y = Complex(30.0, -40.5) \n",
    "y.print()\n",
    "\n"
   ]
  },
  {
   "cell_type": "code",
   "execution_count": 15,
   "metadata": {},
   "outputs": [],
   "source": [
    "class NewComplex:\n",
    "    x = 3.0\n",
    "    _x = 2.0\n",
    "    __x = 1.0    #imitation of private variable\n",
    "    \n",
    "    def __init__(self, realpart, imagpart):\n",
    "        self.r = realpart\n",
    "        self.i = imagpart\n",
    "        print(\"In eat\")\n",
    "    #\n",
    "\n",
    "    \n",
    "    def m(self,x):\n",
    "        print(self.x, x, self._x, self.__x)\n",
    "        return True\n",
    "    #\n",
    "\n",
    "\n",
    "    def __m(hello,x):\n",
    "        print(hello.x, x, hello._x, hello.__x)\n",
    "        return False\n",
    "    #\n",
    "#"
   ]
  },
  {
   "cell_type": "code",
   "execution_count": 9,
   "metadata": {},
   "outputs": [
    {
     "name": "stdout",
     "output_type": "stream",
     "text": [
      "In eat\n",
      "o1._NewComplex__x:  1.0\n",
      ":(\n"
     ]
    }
   ],
   "source": [
    "o1 = NewComplex(1, 2)\n",
    "\n",
    "#print(o1.__x)\n",
    "\n",
    "try:\n",
    "    print(\"o1._NewComplex__x: \",o1._NewComplex__x)\n",
    "    print(\"o1.__x: \",o1.__x)\n",
    "except:\n",
    "    print(\":(\")\n",
    "#"
   ]
  },
  {
   "cell_type": "code",
   "execution_count": 16,
   "metadata": {},
   "outputs": [
    {
     "name": "stdout",
     "output_type": "stream",
     "text": [
      "In eat\n",
      "<__main__.NewComplex object at 0x000002159A1E0808>\n",
      "1\n",
      "2.0\n",
      "3.0\n",
      "3.0 55 2.0 1.0\n",
      "True\n",
      "3.0 55 2.0 1.0\n",
      "False\n",
      "1.0\n",
      ":(\n"
     ]
    }
   ],
   "source": [
    "o1 = NewComplex(1, 2)\n",
    "print(o1)\n",
    "print(o1.r)\n",
    "print(o1._x)\n",
    "print(o1.x)\n",
    "print(o1.m(55))\n",
    "print(o1._NewComplex__m(55))\n",
    "\n",
    "try:\n",
    "    print(o1._NewComplex__x)\n",
    "    print(o1.__x)\n",
    "except:\n",
    "    print(\":(\")\n",
    "#"
   ]
  },
  {
   "cell_type": "code",
   "execution_count": 26,
   "metadata": {},
   "outputs": [],
   "source": [
    "class person:\n",
    "    age = 0\n",
    "    className = 'person'\n",
    "    CLASSname = ['person']\n",
    "    \n",
    "    def __init__(self,pName,pAge):\n",
    "        self.name = pName\n",
    "        self.age = pAge\n",
    "        print('a new instance is created')\n",
    "    #\n",
    "#"
   ]
  },
  {
   "cell_type": "code",
   "execution_count": 27,
   "metadata": {},
   "outputs": [
    {
     "name": "stdout",
     "output_type": "stream",
     "text": [
      "a new instance is created\n",
      "a new instance is created\n"
     ]
    }
   ],
   "source": [
    "person_1 = person('Henry','30')\n",
    "person_2 = person('Mary','25')"
   ]
  },
  {
   "cell_type": "code",
   "execution_count": 28,
   "metadata": {},
   "outputs": [
    {
     "name": "stdout",
     "output_type": "stream",
     "text": [
      "\n",
      "~~Class variable \"age\" and instance variable age:~~\n",
      "[0, '30', '25']\n"
     ]
    }
   ],
   "source": [
    "print('\\n~~Class variable \"age\" and instance variable age:~~')\n",
    "print([person.age,person_1.age,person_2.age])"
   ]
  },
  {
   "cell_type": "code",
   "execution_count": null,
   "metadata": {},
   "outputs": [],
   "source": [
    "person_1 = person('Henry','30')\n",
    "person_2 = person('Mary','25')\n",
    "\n",
    "print('\\n\\n~~Class variable \"className\" is not used in a method as an instance variable:~~')\n",
    "print(\"Class variable: \",person.className,\"\\ninstance-1 variable: \",person_1.className,\"\\ninstance-2 variable: \",person_2.className)\n",
    "\n",
    "print('\\nClass variable \"className\" is updated via the class:')\n",
    "person.className = 'PRSN'\n",
    "print(person.className,person_1.className,person_2.className)\n",
    "\n",
    "print('\\nClass variable \"className\" is updated via the class:')\n",
    "person.className = 'PRSN-1'\n",
    "print(person.className,person_1.className,person_2.className)\n",
    "\n",
    "print('\\nClass variable \"className\" is updated via one of the instance objects:')\n",
    "person_1.className = 'prsn-1'  #new instance attribute for person_1\n",
    "print(person.className,person_1.className,person_2.className)\n",
    "person_1.CLASSname = ['person-1']  #new instance attribute for person_1\n",
    "print(person.CLASSname,person_1.CLASSname,person_2.CLASSname)\n",
    "\n",
    "print('\\nClass variable \"className\" is updated via the class:')\n",
    "person.className = 'PRSN-2'\n",
    "print(person.className,person_1.className,person_2.className)\n",
    "\n",
    "print('\\nClass variable \"className\" is updated via another instance object:')\n",
    "person_2.className = 'prsn-2'  #new instance attribute for person_2\n",
    "print(person.className,person_1.className,person_2.className)\n",
    "\n",
    "print('\\nClass variable \"className\" is updated via the class:')\n",
    "person.className = 'PRSN-3'\n",
    "print(person.className,person_1.className,person_2.className)\n",
    "\n",
    "print('\\n~~Class variable \"name\" and instance variable name:~~')\n",
    "print([person.className,person_1.name,person_2.name])\n",
    "print([person.age,person_1.age,person_2.age])"
   ]
  },
  {
   "cell_type": "code",
   "execution_count": 13,
   "metadata": {},
   "outputs": [
    {
     "name": "stdout",
     "output_type": "stream",
     "text": [
      "person.__dict__:\n",
      "  {'__module__': '__main__', 'age': 0, 'className': 'person', 'CLASSname': ['person'], '__init__': <function person.__init__ at 0x000001CC8AAD4CA8>, '__dict__': <attribute '__dict__' of 'person' objects>, '__weakref__': <attribute '__weakref__' of 'person' objects>, '__doc__': None}\n",
      "\n",
      "person_1.__dict__:\n",
      "  {'name': 'Henry', 'age': '30'}\n",
      "\n",
      "person_2.__dict__:\n",
      "  {'name': 'Mary', 'age': '25'}\n"
     ]
    }
   ],
   "source": [
    "print(\"person.__dict__:\\n \",person.__dict__)\n",
    "print(\"\\nperson_1.__dict__:\\n \",person_1.__dict__)\n",
    "print(\"\\nperson_2.__dict__:\\n \",person_2.__dict__)"
   ]
  },
  {
   "cell_type": "markdown",
   "metadata": {},
   "source": [
    "# SCOPE\n",
    "Local -> Enclosing -> Global -> Built-in<br>\n",
    "[scopes-and-namespaces](https://docs.python.org/3/tutorial/classes.html?highlight=enclosing%20scope#python-scopes-and-namespaces)"
   ]
  },
  {
   "cell_type": "code",
   "execution_count": 17,
   "metadata": {},
   "outputs": [
    {
     "name": "stdout",
     "output_type": "stream",
     "text": [
      "Variables defined in a module is global to functions in this module.\n",
      "\n",
      "aG in f1:  2\n"
     ]
    }
   ],
   "source": [
    "print(\"Variables defined in a module is global to functions in this module.\\n\")\n",
    "\n",
    "aG = 2\n",
    "def f1():\n",
    "    print(\"aG in f1: \",aG)\n",
    "#\n",
    "f1()"
   ]
  },
  {
   "cell_type": "code",
   "execution_count": 13,
   "metadata": {},
   "outputs": [
    {
     "name": "stdout",
     "output_type": "stream",
     "text": [
      "x in main module:  1\n",
      "y in main module:  2\n",
      "\n",
      "x in m1:  1  is global x\n",
      "x+y:  11\n",
      "x in main module after m1:  1\n",
      "y in main module after m1:  2\n",
      "\n",
      "x is a local variable\n",
      "x in m2:  10  is local x\n",
      "x in main module after m2:  1\n",
      "y in main module after m2:  2\n",
      "\n",
      "x in m3:  1\n",
      "x in main module after m3:  2\n",
      "y in main module after m3:  2\n"
     ]
    }
   ],
   "source": [
    "x = 1\n",
    "y = 2\n",
    "\n",
    "def m1(y):\n",
    "    print(\"x in m1: \",x, \" is global x\")\n",
    "    print(\"x+y: \",x+y)\n",
    "#\n",
    "\n",
    "def m2(y):\n",
    "    #print(\"x in m2: \",x)\n",
    "    \n",
    "    try:\n",
    "        print(\"x in m2: \",x)\n",
    "    except:\n",
    "        print(\"x is a local variable\")\n",
    "    #\n",
    "    \n",
    "    x = 10\n",
    "    print(\"x in m2: \",x, \" is local x\")\n",
    "#\n",
    "\n",
    "def m3(y):\n",
    "    global x\n",
    "    print(\"x in m3: \",x, \" is global\")\n",
    "    x = x + 1\n",
    "    print(\"x after modification in m3:\", x)\n",
    "#\n",
    "\n",
    "print(\"x in main module: \",x)\n",
    "print(\"y in main module: \",y)\n",
    "print()\n",
    "\n",
    "m1(10)\n",
    "print(\"x in main module after m1: \",x)\n",
    "print(\"y in main module after m1: \",y)\n",
    "print()\n",
    "\n",
    "m2(0)\n",
    "print(\"x in main module after m2: \",x)\n",
    "print(\"y in main module after m2: \",y)\n",
    "print()\n",
    "\n",
    "m3(0)\n",
    "print(\"x in main module after m3: \",x)\n",
    "print(\"y in main module after m3: \",y)"
   ]
  },
  {
   "cell_type": "code",
   "execution_count": 18,
   "metadata": {},
   "outputs": [
    {
     "name": "stdout",
     "output_type": "stream",
     "text": [
      "Keyword ‘global’ allows to refer a global variable inside a function\n",
      "\n",
      "1.0. aG in f1:  2\n",
      "2.0. aG in f2:  3\n",
      "1.1. aG in f1:  4\n"
     ]
    }
   ],
   "source": [
    "print(\"Keyword ‘global’ allows to refer a global variable inside a function\\n\")\n",
    "\n",
    "aG = 2\n",
    "\n",
    "def f1():\n",
    "    global aG\n",
    "    print(\"1.0. aG in f1: \",aG)\n",
    "    aG = aG + 1\n",
    "    \n",
    "    def f2():\n",
    "        global aG\n",
    "        print(\"2.0. aG in f2: \",aG)\n",
    "        aG = aG + 1\n",
    "    #\n",
    "    f2()\n",
    "    print(\"1.1. aG in f1: \",aG)\n",
    "#\n",
    "f1()"
   ]
  },
  {
   "cell_type": "code",
   "execution_count": 20,
   "metadata": {},
   "outputs": [
    {
     "name": "stdout",
     "output_type": "stream",
     "text": [
      "Keyword ‘nonlocal’ allows to refer a local variable in nested functions\n",
      "\n",
      "1.0. aG in f1:  2\n",
      "2.0. aG in f2:  0\n",
      "1.1. aG in f1:  3\n",
      "1.2. aG1 in f1:  1\n"
     ]
    }
   ],
   "source": [
    "print(\"Keyword ‘nonlocal’ allows to refer a local variable in nested functions\\n\")\n",
    "\n",
    "aG = 2\n",
    "\n",
    "def f1():\n",
    "    global aG\n",
    "    aG1 = 0\n",
    "        \n",
    "    print(\"1.0. aG in f1: \",aG)\n",
    "    aG = aG + 1\n",
    "    \n",
    "    def f2():\n",
    "        nonlocal aG1\n",
    "        \n",
    "        print(\"2.0. aG1 in f2: \",aG1)\n",
    "        aG1 = aG1 + 1\n",
    "    #\n",
    "    f2()\n",
    "    print(\"1.1. aG in f1: \",aG)\n",
    "    print(\"1.2. aG1 in f1: \",aG1)\n",
    "#\n",
    "f1()"
   ]
  },
  {
   "cell_type": "code",
   "execution_count": 12,
   "metadata": {},
   "outputs": [
    {
     "name": "stdout",
     "output_type": "stream",
     "text": [
      "1.0. aG in f1:  2\n",
      "2.0. aG in f2:  3\n",
      "2.1. cL in f2:  1\n",
      "2.1. bL is not accessible in f2\n",
      "2.1. bL in f2:  10\n",
      "1.1. c is not accessible in f1\n",
      "1.2. bL in f1:  1\n",
      "1.3. bNL in f1:  11\n",
      "1.4. aG in f1:  4\n"
     ]
    }
   ],
   "source": [
    "aG = 2\n",
    "\n",
    "def f1():\n",
    "    global aG\n",
    "    bL = 1\n",
    "    cL = 1\n",
    "    bNL = 10\n",
    "    \n",
    "    print(\"1.0. aG in f1: \",aG)\n",
    "    aG = aG + 1\n",
    "    \n",
    "    def f2():\n",
    "        global aG\n",
    "        nonlocal bNL\n",
    "        \n",
    "        c = 20\n",
    "        \n",
    "        print(\"2.0. aG in f2: \",aG)\n",
    "        aG = aG + 1\n",
    "        \n",
    "        try:\n",
    "            print(\"2.1. cL in f2: \",cL)\n",
    "            print(\"2.1. bL in f2: \",bL)\n",
    "            bL = bL + 1\n",
    "        except:\n",
    "            print(\"2.1. bL is not accessible in f2\")\n",
    "        #\n",
    "        \n",
    "        \n",
    "        print(\"2.1. bL in f2: \",bNL)\n",
    "        bNL = bNL + 1\n",
    "    #\n",
    "    f2()\n",
    "    try:\n",
    "        print(\"1.1. c in f1: \",c)\n",
    "    except:\n",
    "        print(\"1.1. c is not accessible in f1\")\n",
    "    #\n",
    "    print(\"1.2. bL in f1: \",bL)\n",
    "    print(\"1.3. bNL in f1: \",bNL)\n",
    "    print(\"1.4. aG in f1: \",aG)\n",
    "#\n",
    "f1()"
   ]
  },
  {
   "cell_type": "code",
   "execution_count": 23,
   "metadata": {},
   "outputs": [
    {
     "name": "stdout",
     "output_type": "stream",
     "text": [
      "xC0 in myClass:  0\n",
      "1~~~~~~~~~~~~~~~~~~~~~~~~~~~~~~\n",
      "myClass.xC1:  a\n",
      "myClass.xC2:  b\n",
      "xC0 in __init__ :  0\n",
      "ob1.xC1:  path1_MyC1_init\n",
      "ob1.xC2:  b\n",
      "ob1.x:  path1_self_init\n",
      "myClass.xC1:  path1_MyC1_init\n",
      "myClass.xC2:  b\n",
      "\n",
      "ob1.m:.....\n",
      "xC0 in m() :  0\n",
      "xC1 is not accessible\n",
      "xC2 is not accessible\n",
      "self.x_in_m:  path1_self_init\n",
      "myClass.xC1_in_m:  path1_MyC1_init\n",
      "myClass.xC2_in_m:  b\n",
      "\n",
      "\n",
      "2~~~~~~~~~~~~~~~~~~~~~~~~~~~~~~\n",
      "xC0 in __init__ :  0\n",
      "ob1.xC1:  path2_MyC1_init\n",
      "ob1.xC2:  b\n",
      "ob1.x:  path1_self_init\n",
      "ob2.xC1:  path2_MyC1_init\n",
      "ob2.xC2:  b\n",
      "ob2.x:  path2_self_init\n",
      "myClass.xC1:  path2_MyC1_init\n",
      "myClass.xC2:  b\n",
      "\n",
      "ob1.m:......\n",
      "xC0 in m() :  0\n",
      "xC1 is not accessible\n",
      "xC2 is not accessible\n",
      "self.x_in_m:  path1_self_init\n",
      "myClass.xC1_in_m:  path2_MyC1_init\n",
      "myClass.xC2_in_m:  b\n",
      "\n",
      "ob2.m:......\n",
      "xC0 in m() :  0\n",
      "xC1 is not accessible\n",
      "xC2 is not accessible\n",
      "self.x_in_m:  path2_self_init\n",
      "myClass.xC1_in_m:  path2_MyC1_init\n",
      "myClass.xC2_in_m:  b\n",
      "\n",
      "\n",
      "3~~~~~~~~~~~~~~~~~~~~~~~~~~~~~~\n",
      "ob1.xC1:  path2_MyC1_init\n",
      "ob1.xC2:  b\n",
      "ob1.x:  path1_self_init\n",
      "ob2.xC1:  path2_MyC1_init\n",
      "ob2.xC2:  b\n",
      "ob2.x:  path2_self_init\n",
      "myClass.xC1:  path2_MyC1_init\n",
      "myClass.xC2:  b\n",
      "\n",
      "ob1.m:......\n",
      "xC0 in m() :  0\n",
      "xC1 is not accessible\n",
      "xC2 is not accessible\n",
      "self.x_in_m:  path1_self_init\n",
      "myClass.xC1_in_m:  path2_MyC1_init\n",
      "myClass.xC2_in_m:  b\n",
      "\n",
      "ob2.m:......\n",
      "xC0 in m() :  0\n",
      "xC1 is not accessible\n",
      "xC2 is not accessible\n",
      "self.x_in_m:  path2_self_init\n",
      "myClass.xC1_in_m:  path2_MyC1_init\n",
      "myClass.xC2_in_m:  b\n"
     ]
    },
    {
     "data": {
      "text/plain": [
       "True"
      ]
     },
     "execution_count": 23,
     "metadata": {},
     "output_type": "execute_result"
    }
   ],
   "source": [
    "xC0 = 0\n",
    "\n",
    "class myClass:\n",
    "    print(\"xC0 in myClass: \",xC0)\n",
    "\n",
    "    xC1 = 'a'\n",
    "    xC2 = 'b'\n",
    "    \n",
    "    def __init__(self,px):\n",
    "        print(\"xC0 in __init__ : \",xC0)\n",
    "        xC1 = px  #new instance xC1\n",
    "        self.x = px + '_self_init'\n",
    "        myClass.xC1 = px + '_MyC1_init'\n",
    "    #\n",
    "    \n",
    "    def m(self):\n",
    "        print(\"xC0 in m() : \",xC0)\n",
    "        \n",
    "        try:\n",
    "            print('xC1 in m():',xC1)\n",
    "        except:\n",
    "            print('xC1 is not accessible')\n",
    "        #\n",
    "        \n",
    "        try:\n",
    "            print(\"xC2 in m(): \",xC2)\n",
    "        except:\n",
    "            print('xC2 is not accessible')\n",
    "        #\n",
    "        \n",
    "        print('self.x_in_m: ', self.x)\n",
    "        print('myClass.xC1_in_m: ',myClass.xC1)\n",
    "        print('myClass.xC2_in_m: ',myClass.xC2)\n",
    "        \n",
    "        return True\n",
    "    #\n",
    "#\n",
    "\n",
    "print('1~~~~~~~~~~~~~~~~~~~~~~~~~~~~~~')\n",
    "print(\"myClass.xC1: \",myClass.xC1)\n",
    "print(\"myClass.xC2: \",myClass.xC2)\n",
    "ob1 = myClass('path1')\n",
    "print(\"ob1.xC1: \",ob1.xC1)\n",
    "print(\"ob1.xC2: \",ob1.xC2)\n",
    "print(\"ob1.x: \",ob1.x)\n",
    "print(\"myClass.xC1: \",myClass.xC1)\n",
    "print(\"myClass.xC2: \",myClass.xC2)\n",
    "\n",
    "print(\"\\nob1.m:.....\")\n",
    "ob1.m()\n",
    "\n",
    "print('\\n\\n2~~~~~~~~~~~~~~~~~~~~~~~~~~~~~~')\n",
    "ob2 = myClass('path2')\n",
    "print(\"ob1.xC1: \",ob1.xC1)\n",
    "print(\"ob1.xC2: \",ob1.xC2)\n",
    "print(\"ob1.x: \",ob1.x)\n",
    "print(\"ob2.xC1: \",ob2.xC1)\n",
    "print(\"ob2.xC2: \",ob2.xC2)\n",
    "print(\"ob2.x: \",ob2.x)\n",
    "print(\"myClass.xC1: \",myClass.xC1)\n",
    "print(\"myClass.xC2: \",myClass.xC2)\n",
    "print(\"\\nob1.m:......\")\n",
    "ob1.m()\n",
    "print(\"\\nob2.m:......\")\n",
    "ob2.m()\n",
    "\n",
    "print('\\n\\n3~~~~~~~~~~~~~~~~~~~~~~~~~~~~~~')\n",
    "myClass.xC = 'path3'\n",
    "print(\"ob1.xC1: \",ob1.xC1)\n",
    "print(\"ob1.xC2: \",ob1.xC2)\n",
    "print(\"ob1.x: \",ob1.x)\n",
    "print(\"ob2.xC1: \",ob2.xC1)\n",
    "print(\"ob2.xC2: \",ob2.xC2)\n",
    "print(\"ob2.x: \",ob2.x)\n",
    "print(\"myClass.xC1: \",myClass.xC1)\n",
    "print(\"myClass.xC2: \",myClass.xC2)\n",
    "print(\"\\nob1.m:......\")\n",
    "ob1.m()\n",
    "print(\"\\nob2.m:......\")\n",
    "ob2.m()"
   ]
  },
  {
   "cell_type": "markdown",
   "metadata": {},
   "source": [
    "# Static Methods\n",
    "[decorator](https://docs.python.org/3/glossary.html#term-decorator)<br>\n",
    "[staticmethod](https://docs.python.org/3/library/functions.html?highlight=static%20method#staticmethod)<br>\n",
    "[classmethod](https://docs.python.org/3/library/functions.html?highlight=static%20method#classmethod)"
   ]
  },
  {
   "cell_type": "markdown",
   "metadata": {},
   "source": [
    "## Decorator"
   ]
  },
  {
   "cell_type": "code",
   "execution_count": 2,
   "metadata": {},
   "outputs": [
    {
     "name": "stdout",
     "output_type": "stream",
     "text": [
      "before invoking pFnc() in decorater\n",
      "Sum in f1: 3\n",
      "Sum in main: 3\n",
      "\n",
      "before invoking pFnc() in decorater\n",
      "Division in f2: 0.5\n",
      "Division in main: 0.5\n"
     ]
    }
   ],
   "source": [
    "def decFunc(pFnc):\n",
    "    x = 1\n",
    "    y = 2\n",
    "    print(\"before invoking pFnc() in decorater\")\n",
    "    return pFnc(x,y)\n",
    "    #print(\"after invoking pFnc() in decorater\")\n",
    "#\n",
    "\n",
    "\n",
    "def f1(a,b):\n",
    "    sum = a+b\n",
    "    print(f'Sum in f1: {sum}')\n",
    "    return sum\n",
    "#\n",
    "\n",
    "def f2(a,b):\n",
    "    div = a/b\n",
    "    print(f'Division in f2: {div}')\n",
    "    return div\n",
    "#\n",
    "\n",
    "#-------------------------------\n",
    "\n",
    "sum = decFunc(f1)\n",
    "print(f'Sum in main: {sum}')\n",
    "print()\n",
    "div = decFunc(f2)\n",
    "print(f'Division in main: {div}')\n"
   ]
  },
  {
   "cell_type": "code",
   "execution_count": 4,
   "metadata": {},
   "outputs": [
    {
     "name": "stdout",
     "output_type": "stream",
     "text": [
      "MAIN: BEFORE @decFunc def f11(a,b)\n",
      "MAIN: AFTER @decFunc def f11(a,b)\n",
      "\n"
     ]
    }
   ],
   "source": [
    "def decFunc(pFnc):\n",
    "    x = 1\n",
    "    y = 2\n",
    "    #print(\"before invoking pFnc() in decorater\")\n",
    "    output = pFnc(x,y)\n",
    "    #print(\"after invoking pFnc() in decorater\")\n",
    "    return output\n",
    "#\n",
    "\n",
    "print('MAIN: BEFORE @decFunc def f11(a,b)')\n",
    "@decFunc\n",
    "def f11(a,b):\n",
    "    sum = a+b\n",
    "    #print(f'Sum in f1: {sum}')\n",
    "    return sum\n",
    "#\n",
    "\n",
    "print('MAIN: AFTER @decFunc def f11(a,b)\\n')\n",
    "@decFunc\n",
    "def f21(a,b):\n",
    "    div = a/b\n",
    "    #print(f'Division in f2: {div}')\n",
    "    return div\n",
    "#\n"
   ]
  },
  {
   "cell_type": "code",
   "execution_count": 9,
   "metadata": {},
   "outputs": [
    {
     "name": "stdout",
     "output_type": "stream",
     "text": [
      "MAIN: Sum : 3\n",
      "\n",
      "MAIN: Division : 0.5\n"
     ]
    }
   ],
   "source": [
    "sum_11 = f11  #= decFunc(f11)\n",
    "print(f'MAIN: Sum : {sum_11}')\n",
    "print()\n",
    "div_21 = f21 #= decFunc(f21)\n",
    "print(f'MAIN: Division : {div_21}')"
   ]
  },
  {
   "cell_type": "code",
   "execution_count": 8,
   "metadata": {},
   "outputs": [
    {
     "name": "stdout",
     "output_type": "stream",
     "text": [
      "BEFORE invoking wrapper in decorater\n",
      "AFTER invoking wrapper in decorater\n"
     ]
    }
   ],
   "source": [
    "def decFunc2(pFnc):\n",
    "    print(\"BEFORE invoking wrapper in decorater\")\n",
    "    def wrapper(*args, **kwargs):\n",
    "        print(\"in decorater BEFORE return\")\n",
    "        print(f'Sum in wrapper: {pFnc(*args, **kwargs)}')\n",
    "        #return pFnc(*args, **kwargs)\n",
    "    #\n",
    "    print(\"AFTER invoking wrapper in decorater\")\n",
    "    return wrapper\n",
    "#\n",
    "\n",
    "@decFunc2\n",
    "def f111(a,b):\n",
    "    sum = a+b\n",
    "    print(f'Sum in f111: {sum}')\n",
    "    return sum\n",
    "#"
   ]
  },
  {
   "cell_type": "code",
   "execution_count": 111,
   "metadata": {},
   "outputs": [
    {
     "name": "stdout",
     "output_type": "stream",
     "text": [
      "in decorater BEFORE return\n",
      "Sum in f111: 6\n",
      "Sum in wrapper: 6\n",
      "MAIN: Sum None\n"
     ]
    }
   ],
   "source": [
    "sum2 = f111(2,4)  #= decFunc2(f111)\n",
    "print(f'MAIN: Sum {sum2}')"
   ]
  },
  {
   "cell_type": "code",
   "execution_count": 112,
   "metadata": {},
   "outputs": [
    {
     "name": "stdout",
     "output_type": "stream",
     "text": [
      "BEFORE invoking wrapper in decorater\n",
      "AFTER invoking wrapper in decorater\n"
     ]
    }
   ],
   "source": [
    "def decFunc3(pFnc):\n",
    "    print(\"BEFORE invoking wrapper in decorater\")\n",
    "    def wrapper(*args, **kwargs):\n",
    "        print(\"in decorater BEFORE return\")\n",
    "        print(f'Sum in wrapper: {pFnc(*args, **kwargs)}')\n",
    "        return pFnc(*args, **kwargs)\n",
    "    #\n",
    "    print(\"AFTER invoking wrapper in decorater\")\n",
    "    return wrapper\n",
    "#\n",
    "\n",
    "@decFunc3\n",
    "def f1111(a,b):\n",
    "    sum = a+b\n",
    "    print(f'Sum in f111: {sum}')\n",
    "    return sum\n",
    "#"
   ]
  },
  {
   "cell_type": "code",
   "execution_count": 113,
   "metadata": {},
   "outputs": [
    {
     "name": "stdout",
     "output_type": "stream",
     "text": [
      "in decorater BEFORE return\n",
      "Sum in f111: 6\n",
      "Sum in wrapper: 6\n",
      "Sum in f111: 6\n",
      "MAIN: Sum 6\n"
     ]
    }
   ],
   "source": [
    "sum3 = f1111(2,4)  #= decFunc2(f1111)\n",
    "print(f'MAIN: Sum {sum3}')"
   ]
  },
  {
   "cell_type": "code",
   "execution_count": 29,
   "metadata": {},
   "outputs": [
    {
     "name": "stdout",
     "output_type": "stream",
     "text": [
      "varC: 1, Name: John and Age: 45\n",
      "\n",
      "cls.varC in fCM:  1\n",
      "varC is not accessible in fCM\n",
      "name of the instance is not accessible in fCM\n",
      "varC: 1, Name: Marry and Age: 1978\n",
      "obj2.name:  Marry\n",
      "\n",
      "cls.varC in fCM:  1\n",
      "varC is not accessible in fCM\n",
      "name of the instance is not accessible in fCM\n",
      "varC: 1, Name: Henry and Age: 1155\n",
      "\n",
      "C.varC in fSM:  1\n",
      "varC is not accessible in fSM\n",
      "name of the instance is not accessible in fSM\n",
      "False\n",
      "\n",
      "C.varC in fSM:  1\n",
      "varC is not accessible in fSM\n",
      "name of the instance is not accessible in fSM\n"
     ]
    },
    {
     "data": {
      "text/plain": [
       "False"
      ]
     },
     "execution_count": 29,
     "metadata": {},
     "output_type": "execute_result"
    }
   ],
   "source": [
    "class C:\n",
    "    varC = 1\n",
    "\n",
    "    def __init__(self, name, age):\n",
    "        self.name = name\n",
    "        self.age = age\n",
    "    #\n",
    "\n",
    "    '''\n",
    "    Decorator @classmethod:\n",
    "       Transform a method into a class method.\n",
    "       A class method receives the class as implicit first argument, just like an instance method receives the instance.\n",
    "       A class method can be called either on the class (such as C.f()) or on an instance (such as C().f()).\n",
    "       The instance is ignored except for its class.\n",
    "       If a class method is called for a derived class, the derived class object is passed as the implied first argument.\n",
    "    '''\n",
    "    @classmethod #decorator\n",
    "    def fCM(cls, arg1, arg2):\n",
    "        \n",
    "        print(\"cls.varC in fCM: \", cls.varC)\n",
    "        \n",
    "        try:\n",
    "            print(\"varC: \", varC)\n",
    "        except:\n",
    "            print(\"varC is not accessible in fCM\")\n",
    "        #\n",
    "\n",
    "        try:\n",
    "            print(\"name: \", self.name)\n",
    "        except:\n",
    "            print(\"name of the instance is not accessible in fCM\")\n",
    "        #\n",
    "\n",
    "        return cls(arg1, arg2)\n",
    "    #  \n",
    "        \n",
    "    @staticmethod  #decorator\n",
    "    def fSM(arg1, arg2):\n",
    "        \n",
    "        print(\"C.varC in fSM: \",C.varC)\n",
    "        \n",
    "        try:\n",
    "            print(\"varC: \", varC)\n",
    "        except:\n",
    "            print(\"varC is not accessible in fSM\")\n",
    "        #\n",
    "\n",
    "        try:\n",
    "            print(\"name: \", self.name)\n",
    "        except:\n",
    "            print(\"name of the instance is not accessible in fSM\")\n",
    "        #\n",
    "        \n",
    "        if arg1 > arg2:          \n",
    "            return (True)\n",
    "        else:\n",
    "            return (False)\n",
    "        #\n",
    "    #\n",
    "    \n",
    "    def __str__(self):\n",
    "        return 'varC: {}, Name: {} and Age: {}'.format(self.varC, self.name, self.age)\n",
    "    #\n",
    "#\n",
    "\n",
    "obj1 = C('John', 45)\n",
    "print(obj1)\n",
    "print()\n",
    "\n",
    "obj2 = C.fCM('Marry', 1978) #fCM returns an instance\n",
    "print(obj2)\n",
    "print(\"obj2.name: \",obj2.name)\n",
    "print()\n",
    "print(obj1.fCM(\"Henry\", 1155))\n",
    "print()\n",
    "\n",
    "print(C.fSM(45, 55))\n",
    "print()\n",
    "\n",
    "obj1.fSM(145, 155)\n"
   ]
  },
  {
   "cell_type": "markdown",
   "metadata": {},
   "source": [
    "# INHERITANCE"
   ]
  },
  {
   "cell_type": "code",
   "execution_count": null,
   "metadata": {},
   "outputs": [],
   "source": [
    "'''\n",
    "class DerivedClassName(BaseClassName):\n",
    "   <statement-1>\n",
    "   .\n",
    "   .\n",
    "   <statement-N> \n",
    "'''"
   ]
  },
  {
   "cell_type": "code",
   "execution_count": null,
   "metadata": {},
   "outputs": [],
   "source": [
    "#Multiple Inheritance\n",
    "'''\n",
    "class DerivedClassName(Base1, Base2, Base3):\n",
    "   <statement-1>\n",
    "   .\n",
    "   .\n",
    "   <statement-N> \n",
    "'''"
   ]
  },
  {
   "cell_type": "code",
   "execution_count": 1,
   "metadata": {
    "slideshow": {
     "slide_type": "-"
    }
   },
   "outputs": [],
   "source": [
    "class person:\n",
    "    name = 'name'\n",
    "    age = 0\n",
    "    cName = 'person'\n",
    "    \n",
    "    def __init__(self,pName,pAge):\n",
    "        self.name = pName\n",
    "        self.age = pAge\n",
    "    #\n",
    "#\n",
    "\n",
    "class employee(person):\n",
    "    __eid = 'eid'\n",
    "    department = 'dep'\n",
    "    \n",
    "    def __init__(self,pEid,pDep,pName,pAge):\n",
    "        self.__eid = pEid\n",
    "        self.department = pDep\n",
    "        self.name = pName\n",
    "        self.age = pAge\n",
    "    #\n",
    "    \n",
    "    def getEid(self): return [self.__eid]\n",
    "    \n",
    "    def getName(self): return [self.name, employee.name, person.name]\n",
    "    \n",
    "    def getAge(self): return [self.age, employee.age, person.age]    \n",
    "#"
   ]
  },
  {
   "cell_type": "code",
   "execution_count": 2,
   "metadata": {},
   "outputs": [
    {
     "name": "stdout",
     "output_type": "stream",
     "text": [
      "using parent class, person.name:  name , person.age:  0\n",
      "using child class:  eid ,  dep ,  name ,  0\n",
      "using instance-1:  111 ,  CS ,  Mary ,  25\n",
      "using instance-2:  222 ,  EE ,  Henry ,  30\n"
     ]
    }
   ],
   "source": [
    "emp1 = employee(111,'CS','Mary',25)\n",
    "emp2 = employee(222,'EE','Henry',30)\n",
    "print(\"using parent class, person.name: \", person.name,\", person.age: \",person.age)\n",
    "print(\"using child class: \", employee._employee__eid,\", \",employee.department,\", \",employee.name,\", \",employee.age)\n",
    "print(\"using instance-1: \", emp1._employee__eid,\", \",emp1.department,\", \",emp1.name,\", \",emp1.age)\n",
    "print(\"using instance-2: \", emp2._employee__eid,\", \",emp2.department,\", \",emp2.name,\", \",emp2.age)"
   ]
  },
  {
   "cell_type": "code",
   "execution_count": 3,
   "metadata": {},
   "outputs": [
    {
     "name": "stdout",
     "output_type": "stream",
     "text": [
      "using parent class, person.name:  name person.age:  0\n",
      "using child class:  eid ,  dep ,  NamE ,  0\n",
      "using instance-1:  111 ,  CS ,  Mary ,  25\n",
      "using instance-2:  222 ,  EE ,  Henry ,  30\n"
     ]
    }
   ],
   "source": [
    "employee.name = \"NamE\"\n",
    "print(\"using parent class, person.name: \", person.name,\"person.age: \",person.age)\n",
    "print(\"using child class: \", employee._employee__eid,\", \",employee.department,\", \",employee.name,\", \",employee.age)\n",
    "print(\"using instance-1: \", emp1._employee__eid,\", \",emp1.department,\", \",emp1.name,\", \",emp1.age)\n",
    "print(\"using instance-2: \", emp2._employee__eid,\", \",emp2.department,\", \",emp2.name,\", \",emp2.age)"
   ]
  },
  {
   "cell_type": "code",
   "execution_count": 4,
   "metadata": {},
   "outputs": [
    {
     "name": "stdout",
     "output_type": "stream",
     "text": [
      "\n",
      "\n",
      "~~Parent updated parent class variable 'name' ~~\n",
      "using parent class, person.name:  NAME , person.age:  0\n",
      "using child class:  eid ,  dep ,  NamE ,  0\n",
      "using instance-1:  111 ,  CS ,  Mary ,  25\n",
      "using instance-2:  222 ,  EE ,  Henry ,  30\n"
     ]
    }
   ],
   "source": [
    "print(\"\\n\\n~~Parent updated parent class variable 'name' ~~\")\n",
    "\n",
    "person.name = \"NAME\"\n",
    "print(\"using parent class, person.name: \", person.name,\", person.age: \",person.age)\n",
    "print(\"using child class: \", employee._employee__eid,\", \",employee.department,\", \",employee.name,\", \",employee.age)\n",
    "print(\"using instance-1: \", emp1._employee__eid,\", \",emp1.department,\", \",emp1.name,\", \",emp1.age)\n",
    "print(\"using instance-2: \", emp2._employee__eid,\", \",emp2.department,\", \",emp2.name,\", \",emp2.age)"
   ]
  },
  {
   "cell_type": "code",
   "execution_count": 5,
   "metadata": {},
   "outputs": [
    {
     "name": "stdout",
     "output_type": "stream",
     "text": [
      "\n",
      "\n",
      "~~Child updated parent class variable 'name' ~~\n",
      "using parent class, person.name:  NAME person.age:  0\n",
      "using child class:  eid ,  dep ,  NamE ,  0\n",
      "using instance-1:  111 ,  CS ,  Mary ,  25\n",
      "using instance-2:  222 ,  EE ,  Henry ,  30\n"
     ]
    }
   ],
   "source": [
    "print(\"\\n\\n~~Child updated parent class variable 'name' ~~\")\n",
    "employee.name = \"NamE\"\n",
    "print(\"using parent class, person.name: \", person.name,\"person.age: \",person.age)\n",
    "print(\"using child class: \", employee._employee__eid,\", \",employee.department,\", \",employee.name,\", \",employee.age)\n",
    "print(\"using instance-1: \", emp1._employee__eid,\", \",emp1.department,\", \",emp1.name,\", \",emp1.age)\n",
    "print(\"using instance-2: \", emp2._employee__eid,\", \",emp2.department,\", \",emp2.name,\", \",emp2.age)"
   ]
  },
  {
   "cell_type": "code",
   "execution_count": 6,
   "metadata": {
    "slideshow": {
     "slide_type": "notes"
    }
   },
   "outputs": [
    {
     "name": "stdout",
     "output_type": "stream",
     "text": [
      "access to the class variable in non-local body of the class:  eid ,  dep\n",
      "Direct access to the parent class variable in non-local body of the child class is NOT available\n"
     ]
    }
   ],
   "source": [
    "class person:\n",
    "    name = 'name'\n",
    "    age = 0\n",
    "    __cName = 'person'\n",
    "    \n",
    "    def __init__(self,pName,pAge):\n",
    "        self.name = pName\n",
    "        self.age = pAge\n",
    "    #\n",
    "#\n",
    "\n",
    "class employee(person):\n",
    "    __eid = 'eid'\n",
    "    department = 'dep'\n",
    "    \n",
    "    print(\"access to the class variable in non-local body of the class: \",__eid,\", \",department)\n",
    "    try:\n",
    "        print([name,age]) #parent class variable\n",
    "    except:\n",
    "        print(\"Direct access to the parent class variable in non-local body of the child class is NOT available\")\n",
    "    #\n",
    "    \n",
    "    def __init__(self,pEid,pDep,pName,pAge):\n",
    "        try:\n",
    "            print(\"01. In employee __init__, eid: \",__eid)\n",
    "        except:\n",
    "            print(\"01. Direct access to a class private-variable in a method is NOT available\")\n",
    "        #\n",
    "        \n",
    "        try:\n",
    "            print(\"02. In employee __init__02, department: \",department)\n",
    "        except:\n",
    "            print(\"02. Direct access to a class variable in a method is NOT available\")\n",
    "        #\n",
    "        \n",
    "        try:\n",
    "            print(\"03. In employee __init__, [name, age]: \",name,age)\n",
    "        except:\n",
    "            print(\"03. Direct access to the parent class variable in a method of a child is NOT available\")            \n",
    "        #\n",
    "        \n",
    "        try:\n",
    "            print(\"1. In employee __init__, use 'self': \",[self.__eid,self.department,self.name,self.age])\n",
    "            print(\"Via an instance object, access to child & parent class variables in a method of the child is available\")  \n",
    "        except:\n",
    "            print(\"1. Via an instance object, access to child & parent class variables in a method of the child is NOT available\")  \n",
    "        #\n",
    "        \n",
    "        self.__eid = pEid\n",
    "        self.department = pDep\n",
    "        self.name = pName\n",
    "        self.age = pAge\n",
    "        #__eid = pEid + 1\n",
    "        #_employee__eid = pEid + 10\n",
    "        #department = pDep + pDep\n",
    "        print(\"\\n\\n~~After updating instance variables~~\")\n",
    "        print(\"21. In employee __init__: child class\",[self.__eid,self.department,self.name,self.age,self._employee__eid])\n",
    "        print(\"22. In employee __init__22, parent class's name and age: \",[person.name,person.age])\n",
    "    #\n",
    "    \n",
    "    def getEid(self): return [self.__eid]\n",
    "    \n",
    "    def getName(self): return [self.name, employee.name, person.name]\n",
    "    \n",
    "    def getAge(self): return [self.age, employee.age, person.age]\n",
    "#\n",
    "\n",
    "    "
   ]
  },
  {
   "cell_type": "code",
   "execution_count": 13,
   "metadata": {},
   "outputs": [
    {
     "name": "stdout",
     "output_type": "stream",
     "text": [
      "01. Direct access to a class private-variable in a method is NOT available\n",
      "02. Direct access to a class variable in a method is NOT available\n",
      "03. Direct access to the parent class variable in a method of a child is NOT available\n",
      "1. In employee __init__, use 'self':  ['eid', 'dep', 'name', 0]\n",
      "Via an instance object, access to child & parent class variables in a method of the child is available\n",
      "\n",
      "\n",
      "~~After updating instance variables~~\n",
      "21. In employee __init__: child class [111, 'CS', 'Mary', 25, 111]\n",
      "22. In employee __init__22, parent class's name and age:  ['name', 0]\n"
     ]
    }
   ],
   "source": [
    "emp1 = employee(111,'CS','Mary',25)"
   ]
  },
  {
   "cell_type": "code",
   "execution_count": null,
   "metadata": {},
   "outputs": [],
   "source": [
    "emp1 = employee(111,'CS','Mary',25)\n",
    "\n",
    "print(\"instance-1\",\"instance-2\",\"child class\")\n",
    "print(emp1._employee__eid,emp2._employee__eid,employee._employee__eid)"
   ]
  },
  {
   "cell_type": "code",
   "execution_count": null,
   "metadata": {},
   "outputs": [],
   "source": [
    "emp1 = employee(111,'CS','Mary',25)\n",
    "print(\"instance-1, eid: \", emp1._employee__eid)\n",
    "print(\"child class, eid: \", employee._employee__eid)\n",
    "print(\"instance-1, department: \", emp1.department)\n",
    "print(\"child class, department: \",employee.department)\n",
    "\n",
    "print(\"instance-1, name: \",emp1.name)\n",
    "print(\"parent class, name: \", person.name)\n",
    "print(\"child class, name: \", employee.name)\n",
    "print(\"instance-1, age: \",emp1.age)\n",
    "print(\"parent class, age: \", person.age)\n",
    "print(\"child class, age: \", employee.age)\n",
    "\n",
    "print(\"instance-1, getEid: \", emp1.getEid())\n",
    "print(\"instance-1, getName: \", emp1.getName())\n",
    "print(\"instance-1, getAge: \", emp1.getAge())\n",
    "\n",
    "print('\\nINSTANCE-2\\n')\n",
    "emp2 = employee(555,'EE','Noah',250)\n",
    "print(\"instance-2, eid: \", emp2._employee__eid)\n",
    "print(\"child class, eid: \", employee._employee__eid)\n",
    "print(\"instance-2, department: \", emp2.department)\n",
    "print(\"child class, department: \",employee.department)\n",
    "\n",
    "print(\"instance-2, name: \",emp2.name)\n",
    "print(\"parent class, name: \", person.name)\n",
    "print(\"child class, name: \", employee.name)\n",
    "print(\"instance-2, age: \",emp2.age)\n",
    "print(\"parent class, age: \", person.age)\n",
    "print(\"child class, age: \", employee.age)\n",
    "\n",
    "print(\"instance-2, getEid: \", emp2.getEid())\n",
    "print(\"instance-2, getName: \", emp2.getName())\n",
    "print(\"instance-2, getAge: \", emp2.getAge())"
   ]
  },
  {
   "cell_type": "markdown",
   "metadata": {},
   "source": [
    "# More; Classes, Functions, Models\n",
    "[Data Classes](https://docs.python.org/3/library/dataclasses.html)<p>\n",
    "[Built-in Functions](https://docs.python.org/3/library/functions.html?highlight=static%20method)<p>\n",
    "[Data model](https://docs.python.org/3/reference/datamodel.html)<br>\n",
    "[special-method-names](https://docs.python.org/3/reference/datamodel.html#special-method-names)<br>\n",
    "[\\__str__](https://docs.python.org/3/reference/datamodel.html#object.__str__)"
   ]
  },
  {
   "cell_type": "markdown",
   "metadata": {},
   "source": [
    "# NUMERICAL CALCULATIONS"
   ]
  },
  {
   "cell_type": "markdown",
   "metadata": {},
   "source": [
    "## Float & Decimal\n",
    "[Decimal fixed point and floating point arithmetic](https://docs.python.org/2/library/decimal.html#module-decimal)<br>\n",
    "[Float](https://docs.python.org/3.8/tutorial/floatingpoint.html)"
   ]
  },
  {
   "cell_type": "code",
   "execution_count": 1,
   "metadata": {},
   "outputs": [],
   "source": [
    "from decimal import *"
   ]
  },
  {
   "cell_type": "code",
   "execution_count": 2,
   "metadata": {},
   "outputs": [
    {
     "name": "stdout",
     "output_type": "stream",
     "text": [
      "28\n",
      "d= 0.123456\n",
      "1:0.1\n",
      "2:0.12\n",
      "3:0.123\n",
      "\n",
      "Precision:  3\n",
      "d1/d2= 3.14\n",
      "1:3\n",
      "2:3.1\n",
      "3:3.14\n",
      "4:3.143\n",
      "5:3.1429\n",
      "6:3.14286\n",
      "7:3.142857\n",
      "8:3.1428571\n",
      "9:3.14285714\n",
      "10:3.142857143\n",
      "11:3.1428571429\n",
      "12:3.14285714286\n",
      "13:3.142857142857\n",
      "14:3.1428571428571\n",
      "15:3.14285714285714\n",
      "16:3.142857142857143\n",
      "17:3.1428571428571429\n",
      "18:3.14285714285714286\n",
      "19:3.142857142857142857\n",
      "20:3.1428571428571428571\n",
      "21:3.14285714285714285714\n",
      "22:3.142857142857142857143\n",
      "23:3.1428571428571428571429\n",
      "24:3.14285714285714285714286\n",
      "25:3.142857142857142857142857\n",
      "26:3.1428571428571428571428571\n",
      "27:3.14285714285714285714285714\n",
      "28:3.142857142857142857142857143\n",
      "29:3.1428571428571428571428571429\n",
      "30:3.14285714285714285714285714286\n",
      "31:3.142857142857142857142857142857\n",
      "32:3.1428571428571428571428571428571\n",
      "33:3.14285714285714285714285714285714\n",
      "34:3.142857142857142857142857142857143\n",
      "35:3.1428571428571428571428571428571429\n",
      "36:3.14285714285714285714285714285714286\n",
      "37:3.142857142857142857142857142857142857\n",
      "38:3.1428571428571428571428571428571428571\n",
      "39:3.14285714285714285714285714285714285714\n",
      "40:3.142857142857142857142857142857142857143\n",
      "41:3.1428571428571428571428571428571428571429\n",
      "42:3.14285714285714285714285714285714285714286\n",
      "43:3.142857142857142857142857142857142857142857\n",
      "44:3.1428571428571428571428571428571428571428571\n",
      "45:3.14285714285714285714285714285714285714285714\n",
      "46:3.142857142857142857142857142857142857142857143\n",
      "47:3.1428571428571428571428571428571428571428571429\n",
      "48:3.14285714285714285714285714285714285714285714286\n",
      "49:3.142857142857142857142857142857142857142857142857\n",
      "50:3.1428571428571428571428571428571428571428571428571\n",
      "51:3.14285714285714285714285714285714285714285714285714\n",
      "52:3.142857142857142857142857142857142857142857142857143\n",
      "53:3.1428571428571428571428571428571428571428571428571429\n",
      "54:3.14285714285714285714285714285714285714285714285714286\n",
      "55:3.142857142857142857142857142857142857142857142857142857\n",
      "56:3.1428571428571428571428571428571428571428571428571428571\n",
      "57:3.14285714285714285714285714285714285714285714285714285714\n",
      "58:3.142857142857142857142857142857142857142857142857142857143\n",
      "59:3.1428571428571428571428571428571428571428571428571428571429\n",
      "60:3.14285714285714285714285714285714285714285714285714285714286\n",
      "61:3.142857142857142857142857142857142857142857142857142857142857\n",
      "62:3.1428571428571428571428571428571428571428571428571428571428571\n",
      "63:3.14285714285714285714285714285714285714285714285714285714285714\n",
      "64:3.142857142857142857142857142857142857142857142857142857142857143\n",
      "64:3.142857142857142857142857142857142857142857142857142857142857142857142857142857142857142857142857142857142857142857142857142857142857142857142857142857142857142857142857142857142857142857142857142857142857142857142857142857142857142857142857142857142857142857142857142857142857142857142857142857142857142857142857142857142857142857142857142857142857142857142857142857142857142857142857142857142857142857142857142857142857142857142857142857142857142857142857142857142857142857142857142857142857142857142857142857142857142857142857142857142857142857142857142857142857142857142857142857142857142857142857142857142857142857142857142857142857142857142857142857142857142857142857142857142857142857142857142857142857142857142857142857142857142857142857142857142857142857142857142857142857142857142857142857142857142857142857142857142857142857142857142857142857142857142857142857142857142857142857142857142857142857142857142857142857142857142857142857142857142857142857142857142857142857142857142857142857142857142857142857142857142857143\n"
     ]
    }
   ],
   "source": [
    "print(getcontext().prec)\n",
    "d = Decimal('0.123456')\n",
    "\n",
    "print(\"d= \" + str(d))\n",
    "for i in range(1,4):\n",
    "    getcontext().prec = i\n",
    "    print(str(i) + \":\" + str(d * 1))\n",
    "#\n",
    "\n",
    "d1 = Decimal(22)\n",
    "d2 = Decimal(7)\n",
    "print(\"\\nPrecision: \",getcontext().prec)\n",
    "print(\"d1/d2= \" + str(d1/d2))\n",
    "\n",
    "for i in range(1,65):\n",
    "    getcontext().prec = i\n",
    "    print(str(i) + \":\" + str(d1/d2))\n",
    "#\n",
    "\n",
    "getcontext().prec = 1030\n",
    "print(str(i) + \":\" + str(d1/d2))"
   ]
  },
  {
   "cell_type": "code",
   "execution_count": 7,
   "metadata": {},
   "outputs": [
    {
     "name": "stdout",
     "output_type": "stream",
     "text": [
      "Precision:  28\n",
      "3.14\n",
      "22/7.0=  3.142857142857143\n",
      "float(22/7)=  3.142857142857143\n",
      "22e15/7=  3142857142857143.0\n",
      "22e16/7=  3.1428571428571428e+16\n",
      "22e17/7=  3.142857142857143e+17\n",
      "22e18/7 3.142857142857143e+18\n",
      "Decimal(22/7) =  3.142857142857142793701541449991054832935333251953125\n",
      "Decimal(22/7.0)=  3.142857142857142793701541449991054832935333251953125\n",
      "Decimal(22) / Decimal(7) =  3.142857142857142857142857143\n",
      "Decimal('22') / Decimal('7')=  3.142857142857142857142857143\n",
      "Precision:  50\n",
      "3.14\n",
      "22/7.0=  3.142857142857143\n",
      "float(22/7)=  3.142857142857143\n",
      "22e15/7=  3142857142857143.0\n",
      "22e16/7=  3.1428571428571428e+16\n",
      "22e17/7=  3.142857142857143e+17\n",
      "22e18/7 3.142857142857143e+18\n",
      "Decimal(22/7) =  3.142857142857142793701541449991054832935333251953125\n",
      "Decimal(22/7.0)=  3.142857142857142793701541449991054832935333251953125\n",
      "Decimal(22) / Decimal(7) =  3.1428571428571428571428571428571428571428571428571\n",
      "Decimal('22') / Decimal('7')=  3.1428571428571428571428571428571428571428571428571\n"
     ]
    }
   ],
   "source": [
    "print(\"Precision: \",getcontext().prec)\n",
    "print(3.14)\n",
    "print(\"22/7.0= \",22/7.0)\n",
    "print(\"float(22/7)= \",float(22/7))\n",
    "print(\"22e15/7= \",22e15/7)\n",
    "print(\"22e16/7= \",22e16/7)\n",
    "print(\"22e17/7= \",22e17/7)\n",
    "print(\"22e18/7\",22e18/7)\n",
    "print(\"Decimal(22/7) = \",Decimal(22/7))\n",
    "print(\"Decimal(22/7.0)= \",Decimal(22/7.0))\n",
    "print(\"Decimal(22) / Decimal(7) = \",Decimal(22) / Decimal(7))\n",
    "print(\"Decimal('22') / Decimal('7')= \", Decimal('22') / Decimal('7'))\n",
    "\n",
    "getcontext().prec = 50\n",
    "print(\"Precision: \",getcontext().prec)\n",
    "print(3.14)\n",
    "print(\"22/7.0= \",22/7.0)\n",
    "print(\"float(22/7)= \",float(22/7))\n",
    "print(\"22e15/7= \",22e15/7)\n",
    "print(\"22e16/7= \",22e16/7)\n",
    "print(\"22e17/7= \",22e17/7)\n",
    "print(\"22e18/7\",22e18/7)\n",
    "print(\"Decimal(22/7) = \",Decimal(22/7))\n",
    "print(\"Decimal(22/7.0)= \",Decimal(22/7.0))\n",
    "print(\"Decimal(22) / Decimal(7) = \",Decimal(22) / Decimal(7))\n",
    "print(\"Decimal('22') / Decimal('7')= \", Decimal('22') / Decimal('7'))"
   ]
  },
  {
   "cell_type": "markdown",
   "metadata": {},
   "source": [
    "## Machine Precision"
   ]
  },
  {
   "cell_type": "code",
   "execution_count": 78,
   "metadata": {},
   "outputs": [
    {
     "name": "stdout",
     "output_type": "stream",
     "text": [
      "i:  0\n",
      "\tx:  0.1\n",
      "i:  1\n",
      "\tx:  0.2\n",
      "i:  2\n",
      "\tx:  0.30000000000000004\n",
      "i:  3\n",
      "\tx:  0.4\n",
      "i:  4\n",
      "\tx:  0.5\n",
      "i:  5\n",
      "\tx:  0.6\n",
      "i:  6\n",
      "\tx:  0.7\n",
      "i:  7\n",
      "\tx:  0.7999999999999999\n",
      "i:  8\n",
      "\tx:  0.8999999999999999\n",
      "i:  9\n",
      "\tx:  0.9999999999999999\n",
      "i:  10\n",
      "\tx:  1.0999999999999999\n",
      "i:  11\n",
      "\tx:  1.2\n",
      "\t\ti>10\n"
     ]
    }
   ],
   "source": [
    "x = 0\n",
    "for i in range(20):\n",
    "    print(\"i: \",i)\n",
    "    x = x + 0.1\n",
    "    print(\"\\tx: \",x)\n",
    "    if (x == 1):\n",
    "        print(\"x == 1\")\n",
    "        break\n",
    "    elif i>10:\n",
    "        print(\"\\t\\ti>10\")\n",
    "        break\n",
    "    #\n",
    "#"
   ]
  },
  {
   "cell_type": "code",
   "execution_count": 9,
   "metadata": {},
   "outputs": [
    {
     "name": "stdout",
     "output_type": "stream",
     "text": [
      "epsilon:  1.1102230246251565e-16\n"
     ]
    }
   ],
   "source": [
    "x = 1\n",
    "epsilon = 1\n",
    "while x+epsilon != x:\n",
    "    epsilon = epsilon/2\n",
    "#\n",
    "\n",
    "print(\"epsilon: \", epsilon)"
   ]
  },
  {
   "cell_type": "code",
   "execution_count": 10,
   "metadata": {},
   "outputs": [
    {
     "name": "stdout",
     "output_type": "stream",
     "text": [
      "i:  0\n",
      "\tx:  0.1\n",
      "i:  1\n",
      "\tx:  0.2\n",
      "i:  2\n",
      "\tx:  0.30000000000000004\n",
      "i:  3\n",
      "\tx:  0.4\n",
      "i:  4\n",
      "\tx:  0.5\n",
      "i:  5\n",
      "\tx:  0.6\n",
      "i:  6\n",
      "\tx:  0.7\n",
      "i:  7\n",
      "\tx:  0.7999999999999999\n",
      "i:  8\n",
      "\tx:  0.8999999999999999\n",
      "i:  9\n",
      "\tx:  0.9999999999999999\n",
      "i:  10\n",
      "\tx:  1.0999999999999999\n",
      "i:  11\n",
      "\tx:  1.2\n",
      "\t\ti>10\n"
     ]
    }
   ],
   "source": [
    "x = 0\n",
    "for i in range(20):\n",
    "    print(\"i: \",i)\n",
    "    x = x + 0.1\n",
    "    print(\"\\tx: \",x)\n",
    "    if (abs(x-1) < epsilon):\n",
    "        print(\"x == 1\")\n",
    "        break\n",
    "    elif i>10:\n",
    "        print(\"\\t\\ti>10\")\n",
    "        break\n",
    "    #\n",
    "#"
   ]
  },
  {
   "cell_type": "code",
   "execution_count": 5,
   "metadata": {},
   "outputs": [
    {
     "name": "stdout",
     "output_type": "stream",
     "text": [
      "2.220446049250313e-16\n"
     ]
    }
   ],
   "source": [
    "import numpy as np \n",
    "epsilon= np.finfo(float).eps\n",
    "print(epsilon)\n"
   ]
  },
  {
   "cell_type": "code",
   "execution_count": 1,
   "metadata": {},
   "outputs": [
    {
     "name": "stdout",
     "output_type": "stream",
     "text": [
      "<class 'float'> <class 'float'>\n",
      "Machine Precision 2.220446049250313e-16; the next max value \"2*eps\" that x + 2*eps NOT equal to x \n",
      "machine precision is  2.220446049250313e-16 ; Therefore, use abs(y-x) < 2*eps instead of x==y \n",
      "<class 'float'> <class 'float'>\n",
      "eps=  1.1102230246251565e-16\n",
      "x+eps:  1.0 ; x+eps == x is  True ; x+eps - x:  0.0 ; x+eps - x <= eps is  True\n",
      "x+2*eps:  1.0000000000000002 ; x+2*eps == x is  False ; x+2*eps - x:  2.220446049250313e-16 \n",
      "\t; x+2*eps - x <= eps is  False ; x+2*eps - x <= 2*eps is  True\n",
      "1+eps/2 1.0\n",
      "1+ 1.5 eps 1.0\n",
      "1+ 2 eps 1.0000000000000002\n"
     ]
    }
   ],
   "source": [
    "import math\n",
    "x = 1.0\n",
    "eps = 1.0\n",
    "print(type(x),type(eps))\n",
    "\n",
    "while (not x + eps == x):\n",
    "    eps = eps/2.0\n",
    "#\n",
    "print(f\"Machine Precision {2*eps}; the next max value \\\"2*eps\\\" that x + 2*eps NOT equal to x \")\n",
    "print('machine precision is ', 2*eps,'; Therefore, use abs(y-x) < 2*eps instead of x==y ')\n",
    "\n",
    "print(type(x),type(eps))\n",
    "\n",
    "print(\"eps= \",eps)\n",
    "y = x+eps\n",
    "print(\"x+eps: \", y, \"; x+eps == x is \" , y == x, \"; x+eps - x: \", y - x, \"; x+eps - x <= eps is \", abs(y-x)<=eps)\n",
    "\n",
    "yy = x+2*eps\n",
    "print(\"x+2*eps: \", yy, \"; x+2*eps == x is \" , yy == x, \"; x+2*eps - x: \", yy - x, \"\\n\\t; x+2*eps - x <= eps is \", abs(yy-x)<=eps,\"; x+2*eps - x <= 2*eps is \", abs(yy-x)<= 2*eps)\n",
    "\n",
    "\n",
    "print(\"1+eps/2\",1+eps/2)\n",
    "print(\"1+ 1.5 eps\",1+ eps + eps/2)\n",
    "print(\"1+ 2 eps\",1+ 2*eps)\n",
    "\n"
   ]
  },
  {
   "cell_type": "markdown",
   "metadata": {},
   "source": [
    "[PEP 485 -- A Function for testing approximate equality](https://www.python.org/dev/peps/pep-0485/)"
   ]
  },
  {
   "cell_type": "code",
   "execution_count": 48,
   "metadata": {},
   "outputs": [
    {
     "name": "stdout",
     "output_type": "stream",
     "text": [
      "a-b:  0.0\n",
      "a==b:  True\n",
      "True\n",
      "True\n"
     ]
    }
   ],
   "source": [
    "#Testing for approximate equality\n",
    "a = 1\n",
    "b = 1 + 1*eps\n",
    "rel_tol = 2*eps\n",
    "abs_tol = 0\n",
    "print(\"a-b: \",a-b)\n",
    "print(\"a==b: \",a==b)\n",
    "print(abs(a-b) <= max( rel_tol * max(abs(a), abs(b)), abs_tol ))\n",
    "print(math.isclose(a,b,rel_tol=rel_tol,abs_tol=abs_tol))"
   ]
  },
  {
   "cell_type": "code",
   "execution_count": 49,
   "metadata": {},
   "outputs": [
    {
     "name": "stdout",
     "output_type": "stream",
     "text": [
      "a-b:  -2.220446049250313e-16\n",
      "a==b:  False\n",
      "True\n",
      "True\n"
     ]
    }
   ],
   "source": [
    "a = 1\n",
    "b = 1 + 1.5*eps\n",
    "rel_tol = 2*eps\n",
    "abs_tol = 0\n",
    "print(\"a-b: \",a-b)\n",
    "print(\"a==b: \",a==b)\n",
    "print(abs(a-b) <= max( rel_tol * max(abs(a), abs(b)), abs_tol ))\n",
    "print(math.isclose(a,b,rel_tol=rel_tol,abs_tol=abs_tol))"
   ]
  },
  {
   "cell_type": "code",
   "execution_count": 57,
   "metadata": {},
   "outputs": [
    {
     "name": "stdout",
     "output_type": "stream",
     "text": [
      "a-b:  -4.440892098500626e-16\n",
      "a==b:  False\n",
      "False\n",
      "False\n"
     ]
    }
   ],
   "source": [
    "a = 1\n",
    "b = 1 + 3*eps\n",
    "rel_tol = 2*eps\n",
    "abs_tol = 0\n",
    "print(\"a-b: \",a-b)\n",
    "print(\"a==b: \",a==b)\n",
    "print(abs(a-b) <= max( rel_tol * max(abs(a), abs(b)), abs_tol ))\n",
    "print(math.isclose(a,b,rel_tol=rel_tol,abs_tol=abs_tol))"
   ]
  },
  {
   "cell_type": "markdown",
   "metadata": {},
   "source": [
    "## Round of Error"
   ]
  },
  {
   "cell_type": "markdown",
   "metadata": {},
   "source": [
    "\"Some decimal numbers can't be represented exactly in binary, resulting in small roundoff errors. So we need a decimal data type that represents exactly decimal numbers. Instead of a binary data type, we need a decimal one.\"\n",
    "[Decimal](https://www.python.org/dev/peps/pep-0327/#abstract)"
   ]
  },
  {
   "cell_type": "code",
   "execution_count": 14,
   "metadata": {},
   "outputs": [
    {
     "name": "stdout",
     "output_type": "stream",
     "text": [
      "1:\n",
      "0.1 + 0.1 + 0.1 - 0.3 =\t5.551115123125783e-17\n",
      "Decimal Arithmetic:\t2.775557561565156540423631668E-17\n",
      "0.1 + 0.1 + 0.1 == 0.3:  False\n",
      "1 + 1 + 1 == 3:  True\n",
      "0.1e55 + 0.1e55 + 0.1e55 == 0.3e55:  False\n",
      "\n",
      "2:\n",
      "0.1 is printed as  0.1\n",
      "format(0.1, '.55f'):  0.1000000000000000055511151231257827021181583404541015625\n",
      "Decimal(0.1):  0.1000000000000000055511151231257827021181583404541015625\n",
      "format(0.1, '.56f') 0.10000000000000000555111512312578270211815834045410156250\n",
      "Decimal(3602879701896397 / 2 ** 55):  0.1000000000000000055511151231257827021181583404541015625\n",
      "(0.1).as_integer_ratio():  (3602879701896397, 36028797018963968)\n",
      "0.1e55:  1e+54\n",
      "\n",
      "3:\n",
      "0.1 + 0.1:  0.2\n",
      "Decimal(0.1) + Decimal(0.1):  0.2000000000000000111022302463\n",
      "\n",
      "4:\n",
      "(1 + 1 + 1 - 3) /10:  0.0\n",
      "0\n"
     ]
    }
   ],
   "source": [
    "print(\"1:\")\n",
    "print(\"0.1 + 0.1 + 0.1 - 0.3 =\\t\" + str(0.1 + 0.1 + 0.1 - 0.3 ) )\n",
    "print(\"Decimal Arithmetic:\\t\" + str(Decimal(0.1) + Decimal(0.1) + Decimal(0.1) - Decimal(0.3) ) )\n",
    "print(\"0.1 + 0.1 + 0.1 == 0.3: \", 0.1 + 0.1 + 0.1 == 0.3)\n",
    "print(\"1 + 1 + 1 == 3: \",1 + 1 + 1 == 3)\n",
    "print(\"0.1e55 + 0.1e55 + 0.1e55 == 0.3e55: \",0.1e55 + 0.1e55 + 0.1e55 == 0.3e55)\n",
    "\n",
    "#https://docs.python.org/3/tutorial/floatingpoint.html?highlight=float\n",
    "\n",
    "print(\"\\n2:\")\n",
    "print(\"0.1 is printed as \",0.1)\n",
    "print(\"format(0.1, '.55f'): \",format(0.1, '.55f'))\n",
    "print(\"Decimal(0.1): \",Decimal(0.1))\n",
    "print(\"format(0.1, '.56f')\",format(0.1, '.56f'))\n",
    "print(\"Decimal(3602879701896397 / 2 ** 55): \",Decimal(3602879701896397 / 2 ** 55) )\n",
    "print(\"(0.1).as_integer_ratio(): \",(0.1).as_integer_ratio())\n",
    "print(\"0.1e55: \",0.1e55)\n",
    "\n",
    "print(\"\\n3:\")\n",
    "print(\"0.1 + 0.1: \",0.1 + 0.1)\n",
    "print(\"Decimal(0.1) + Decimal(0.1): \",Decimal(0.1) + Decimal(0.1))\n",
    "\n",
    "print(\"\\n4:\")\n",
    "print(\"(1 + 1 + 1 - 3) /10: \", (1 + 1 + 1 - 3) /10 )\n",
    "print( (Decimal(1) + Decimal(1) + Decimal(1) - Decimal(3)) / Decimal(10) )"
   ]
  },
  {
   "cell_type": "code",
   "execution_count": 2,
   "metadata": {},
   "outputs": [
    {
     "name": "stdout",
     "output_type": "stream",
     "text": [
      "format(0.1, '.55f'):  0.1000000000000000055511151231257827021181583404541015625\n"
     ]
    }
   ],
   "source": [
    "print(\"format(0.1, '.55f'): \",format(1/10, '.55f'))"
   ]
  },
  {
   "cell_type": "markdown",
   "metadata": {},
   "source": [
    "## Time out the Code"
   ]
  },
  {
   "cell_type": "code",
   "execution_count": 15,
   "metadata": {},
   "outputs": [
    {
     "name": "stdout",
     "output_type": "stream",
     "text": [
      "time elapsed: 0.004986286163330078 s\n"
     ]
    }
   ],
   "source": [
    "import time\n",
    "import numpy as np\n",
    "\n",
    "M = 32\n",
    "N = 64\n",
    "xmin = ymin = 0.0\n",
    "xmax = ymax = 1.0\n",
    "\n",
    "x = np.linspace(xmin, xmax, M, endpoint=False)\n",
    "y = np.linspace(ymin, ymax, N, endpoint=False)\n",
    "\n",
    "t0 = time.time()\n",
    "\n",
    "g = np.zeros((M, N))\n",
    "\n",
    "for i in range(M):\n",
    "    for j in range(N):\n",
    "        g[i,j] = np.sin(2.0*np.pi*x[i]*y[j])\n",
    "        \n",
    "t1 = time.time()\n",
    "print(\"time elapsed: {} s\".format(t1-t0))"
   ]
  },
  {
   "cell_type": "markdown",
   "metadata": {},
   "source": [
    "# Copy Operations"
   ]
  },
  {
   "cell_type": "markdown",
   "metadata": {},
   "source": [
    "\"A <font color='red'><b>shallow copy</b></font> creates a new <font color='blue'>*view*</font> into the array -- the data is the same, but the array properties can be different.\n",
    "\n",
    "Since the *underlying* data is in the same memory, changing an element of one is <b>reflected in the other</b>.\n",
    "\n",
    "Even slices into an array are just views, still pointing to the <b>same *base*</b> memory.\"<p>\n",
    "    \n",
    "\"The difference between shallow and deep copying is only relevant for <b>compound objects</b> (objects that contain other objects, like lists or class instances):\n",
    "\n",
    "A shallow copy constructs a new compound object and then (to the extent possible) inserts references into it to the objects found in the original.\n",
    "\n",
    "A deep copy constructs a new compound object and then, recursively, inserts copies into it of the objects found in the original.\"<p>\n",
    "\n",
    "[Copy](https://docs.python.org/3/library/copy.html)\n"
   ]
  },
  {
   "cell_type": "code",
   "execution_count": 1,
   "metadata": {
    "scrolled": true
   },
   "outputs": [
    {
     "name": "stdout",
     "output_type": "stream",
     "text": [
      "ao:\n",
      "[ 0  1  2  3  4  5  6  7  8  9 10 11 12 13 14]\n",
      "\n",
      "co:\n",
      "[ 0  1  2  3  4  5  6  7  8  9 10 11 12 13 14]\n",
      "\n",
      "........... c0= a0 .... a1= reshape of a0  ..... b0= a1[:] ......\n",
      "a1:\n",
      "[[ 0  1  2  3  4]\n",
      " [ 5  6  7  8  9]\n",
      " [10 11 12 13 14]]\n",
      "\n",
      "bo (a1[:]) :\n",
      "[[ 0  1  2  3  4]\n",
      " [ 5  6  7  8  9]\n",
      " [10 11 12 13 14]]\n"
     ]
    }
   ],
   "source": [
    "import numpy as np\n",
    "\n",
    "a0 = np.arange(15)\n",
    "c0 = a0\n",
    "a1 = a0.reshape(3,5)\n",
    "b0 = a1[:]\n",
    "\n",
    "print(\"ao:\"), print(a0)\n",
    "\n",
    "print(\"\\nco:\"), print(c0)\n",
    "\n",
    "print(\"\\n........... c0= a0 .... a1= reshape of a0  ..... b0= a1[:] ......\")\n",
    "print(\"a1:\"), print(a1), print(\"\\nbo (a1[:]) :\")\n",
    "\n",
    "print(b0)"
   ]
  },
  {
   "cell_type": "code",
   "execution_count": 2,
   "metadata": {},
   "outputs": [
    {
     "name": "stdout",
     "output_type": "stream",
     "text": [
      "\n",
      "..... Sharing references .... c0= a0 .... a1= reshape of a0  ..... b0= a1[:] ......\n",
      "a0 points  directly to the same meory where c0 points\n",
      "ID of a0: 2539283132944\n",
      "ID of c0: 2539283132944\n",
      "\n",
      "a0 points  different memory where a1 points\n",
      "a1 points  different memory where b0 points\n",
      "b0 points  different memory where a1 points\n",
      "\n",
      "ID of a1: 2539283133504\n",
      "ID of b0: 2539283134144\n"
     ]
    }
   ],
   "source": [
    "print('\\n..... Sharing references .... c0= a0 .... a1= reshape of a0  ..... b0= a1[:] ......')\n",
    "print(\"a0 points \", \"directly to the same meory where c0 points\" if a0 is c0 else 'different')\n",
    "print(\"ID of a0: \" + str(id(a0))), print(\"ID of c0: \" + str(id(c0)))\n",
    "\n",
    "print(\"\\na0 points \", \"directly to the same meory where a1 points\" if a0 is a1 else \"different memory where a1 points\")\n",
    "print(\"a1 points \", \"directly to the same meory where b0 points\" if a1 is b0 else \"different memory where b0 points\")\n",
    "print(\"b0 points \", \"directly to the same meory where a1 points\" if b0 is a1 else \"different memory where a1 points\")\n",
    "\n",
    "print(\"\\nID of a1: \" + str(id(a1)))\n",
    "print(\"ID of b0: \" + str(id(b0)))"
   ]
  },
  {
   "cell_type": "code",
   "execution_count": 2,
   "metadata": {},
   "outputs": [
    {
     "name": "stdout",
     "output_type": "stream",
     "text": [
      "\n",
      "........... c0= a0 .... a1= reshape of a0  ..... b0= a1[:] ...... \n",
      "\n",
      "a1[1,1] = 111\n",
      "\n",
      "a1:\n",
      "[[  0   1   2   3   4]\n",
      " [  5 111   7   8   9]\n",
      " [ 10  11  12  13  14]]\n",
      "\n",
      "bo:\n",
      "[[  0   1   2   3   4]\n",
      " [  5 111   7   8   9]\n",
      " [ 10  11  12  13  14]]\n",
      "\n",
      "a0:\n",
      "[  0   1   2   3   4   5 111   7   8   9  10  11  12  13  14]\n",
      "\n",
      "co:\n",
      "[  0   1   2   3   4   5 111   7   8   9  10  11  12  13  14]\n"
     ]
    }
   ],
   "source": [
    "print(\"\\n........... c0= a0 .... a1= reshape of a0  ..... b0= a1[:] ...... \")\n",
    "\n",
    "print(\"\\na1[1,1] = 111\"); a1[1,1] = 111\n",
    "\n",
    "print(\"\\na1:\"), print(a1)\n",
    "\n",
    "print(\"\\nbo:\"), print(b0)\n",
    "\n",
    "print(\"\\na0:\"), print(a0)\n",
    "\n",
    "print(\"\\nco:\"), print(c0);"
   ]
  },
  {
   "cell_type": "code",
   "execution_count": 3,
   "metadata": {},
   "outputs": [
    {
     "name": "stdout",
     "output_type": "stream",
     "text": [
      "\n",
      "........... c0= a0 .... a1= reshape of a0  ..... b0= a1[:] ...... a1[1,1] = 222 ...... \n",
      "\n",
      "b1 = b0[1:3,1:3]\n",
      "\n",
      "b1:\n",
      "[[111   7]\n",
      " [ 11  12]]\n",
      "\n",
      "a1[1,1] = 222\n",
      "\n",
      "a1:\n",
      "[[  0   1   2   3   4]\n",
      " [  5 222   7   8   9]\n",
      " [ 10  11  12  13  14]]\n",
      "\n",
      "bo:\n",
      "[[  0   1   2   3   4]\n",
      " [  5 222   7   8   9]\n",
      " [ 10  11  12  13  14]]\n",
      "\n",
      "b1:\n",
      "[[222   7]\n",
      " [ 11  12]]\n",
      "\n",
      "a0:\n",
      "[  0   1   2   3   4   5 222   7   8   9  10  11  12  13  14]\n",
      "\n",
      "co:\n",
      "[  0   1   2   3   4   5 222   7   8   9  10  11  12  13  14]\n"
     ]
    }
   ],
   "source": [
    "print(\"\\n........... c0= a0 .... a1= reshape of a0  ..... b0= a1[:] ...... a1[1,1] = 222 ...... \")\n",
    "b1 = b0[1:3,1:3] #slicing\n",
    "\n",
    "print(\"\\nb1 = b0[1:3,1:3]\")\n",
    "print(\"\\nb1:\"), print(b1),\n",
    "\n",
    "a1[1,1] = 222\n",
    "print(\"\\na1[1,1] = 222\")\n",
    "\n",
    "print(\"\\na1:\"), print(a1)\n",
    "\n",
    "print(\"\\nbo:\"), print(b0)\n",
    "\n",
    "print(\"\\nb1:\"), print(b1)\n",
    "\n",
    "print(\"\\na0:\"), print(a0)\n",
    "\n",
    "print(\"\\nco:\"), print(c0);"
   ]
  },
  {
   "cell_type": "code",
   "execution_count": 4,
   "metadata": {},
   "outputs": [
    {
     "name": "stdout",
     "output_type": "stream",
     "text": [
      "\n",
      "........... c0= a0 .... a1= reshape of a0  ..... b0= a1[:] .......... a1[1,1] = 333\n",
      "\n",
      "b2 copy of b0:\n",
      "[[  0   1   2   3   4]\n",
      " [  5 222   7   8   9]\n",
      " [ 10  11  12  13  14]]\n",
      "\n",
      "..... {b2} --> R2.......\n",
      "\n",
      "a1[1,1] = 333\n",
      "\n",
      "a1:\n",
      "[[  0   1   2   3   4]\n",
      " [  5 333   7   8   9]\n",
      " [ 10  11  12  13  14]]\n",
      "\n",
      "bo:\n",
      "[[  0   1   2   3   4]\n",
      " [  5 333   7   8   9]\n",
      " [ 10  11  12  13  14]]\n",
      "\n",
      "b1:\n",
      "[[333   7]\n",
      " [ 11  12]]\n",
      "\n",
      "a0:\n",
      "[  0   1   2   3   4   5 333   7   8   9  10  11  12  13  14]\n",
      "\n",
      "co:\n",
      "[  0   1   2   3   4   5 333   7   8   9  10  11  12  13  14]\n",
      "\n",
      "b2 copy of b0:\n",
      "[[  0   1   2   3   4]\n",
      " [  5 222   7   8   9]\n",
      " [ 10  11  12  13  14]]\n",
      "\n",
      "b0[1,1] = 666\n",
      "\n",
      "bo:\n",
      "[[  0   1   2   3   4]\n",
      " [  5 666   7   8   9]\n",
      " [ 10  11  12  13  14]]\n",
      "\n",
      "b2 copy of b0:\n",
      "[[  0   1   2   3   4]\n",
      " [  5 222   7   8   9]\n",
      " [ 10  11  12  13  14]]\n",
      "\n",
      "a1:\n",
      "[[  0   1   2   3   4]\n",
      " [  5 666   7   8   9]\n",
      " [ 10  11  12  13  14]]\n",
      "\n",
      "bo:\n",
      "[[  0   1   2   3   4]\n",
      " [  5 666   7   8   9]\n",
      " [ 10  11  12  13  14]]\n",
      "\n",
      "b1:\n",
      "[[666   7]\n",
      " [ 11  12]]\n",
      "\n",
      "a0:\n",
      "[  0   1   2   3   4   5 666   7   8   9  10  11  12  13  14]\n",
      "\n",
      "co:\n",
      "[  0   1   2   3   4   5 666   7   8   9  10  11  12  13  14]\n"
     ]
    }
   ],
   "source": [
    "print(\"\\n........... c0= a0 .... a1= reshape of a0  ..... b0= a1[:] .......... a1[1,1] = 333\")\n",
    "\n",
    "b2 = b0.copy()\n",
    "print(\"\\nb2 copy of b0:\"), print(b2)\n",
    "print(\"\\n..... {b2} --> R2.......\")\n",
    "\n",
    "a1[1,1] = 333; print(\"\\na1[1,1] = 333\")\n",
    "\n",
    "print(\"\\na1:\"), print(a1)\n",
    "print(\"\\nbo:\"), print(b0)\n",
    "print(\"\\nb1:\"), print(b1)\n",
    "print(\"\\na0:\"), print(a0)\n",
    "print(\"\\nco:\"), print(c0);\n",
    "\n",
    "print(\"\\nb2 copy of b0:\"), print(b2)\n",
    "\n",
    "b0[1,1] = 666; print(\"\\nb0[1,1] = 666\")\n",
    "print(\"\\nbo:\"), print(b0)\n",
    "print(\"\\nb2 copy of b0:\"), print(b2)\n",
    "\n",
    "print(\"\\na1:\"), print(a1),\n",
    "\n",
    "print(\"\\nbo:\"), print(b0)\n",
    "\n",
    "print(\"\\nb1:\"), print(b1)\n",
    "\n",
    "print(\"\\na0:\"), print(a0)\n",
    "\n",
    "print(\"\\nco:\"), print(c0);"
   ]
  },
  {
   "cell_type": "code",
   "execution_count": 6,
   "metadata": {},
   "outputs": [
    {
     "name": "stdout",
     "output_type": "stream",
     "text": [
      "\n",
      "b3 copy of b0:\n",
      "[[  0   1   2   3   4]\n",
      " [  5 666   7   8   9]\n",
      " [ 10  11  12  13  14]]\n",
      "\n",
      "..... {b3} --> ???.......\n",
      "\n",
      "a1[1,1] = 777\n",
      "\n",
      "bo:\n",
      "[[  0   1   2   3   4]\n",
      " [  5 777   7   8   9]\n",
      " [ 10  11  12  13  14]]\n",
      "\n",
      "b3 copy of b0:\n",
      "[[  0   1   2   3   4]\n",
      " [  5 666   7   8   9]\n",
      " [ 10  11  12  13  14]]\n",
      "\n",
      "b0[1,1] = 888\n",
      "\n",
      "b3 copy of b0:\n",
      "[[  0   1   2   3   4]\n",
      " [  5 666   7   8   9]\n",
      " [ 10  11  12  13  14]]\n",
      "\n",
      "a1:\n",
      "[[  0   1   2   3   4]\n",
      " [  5 888   7   8   9]\n",
      " [ 10  11  12  13  14]]\n",
      "\n",
      "bo:\n",
      "[[  0   1   2   3   4]\n",
      " [  5 888   7   8   9]\n",
      " [ 10  11  12  13  14]]\n",
      "\n",
      "b1:\n",
      "[[888   7]\n",
      " [ 11  12]]\n",
      "\n",
      "a0:\n",
      "[  0   1   2   3   4   5 888   7   8   9  10  11  12  13  14]\n",
      "\n",
      "co:\n",
      "[  0   1   2   3   4   5 888   7   8   9  10  11  12  13  14]\n",
      "\n",
      "b2:\n",
      "[[  0   1   2   3   4]\n",
      " [  5 222   7   8   9]\n",
      " [ 10  11  12  13  14]]\n"
     ]
    }
   ],
   "source": [
    "import copy\n",
    "\n",
    "b3 = copy.copy(b0)\n",
    "\n",
    "print(\"\\nb3 copy of b0:\"), print(b3)\n",
    "print(\"\\n..... {b3} --> ???.......\")\n",
    "\n",
    "a1[1,1] = 777; print(\"\\na1[1,1] = 777\")\n",
    "\n",
    "print(\"\\nbo:\"), print(b0)\n",
    "print(\"\\nb3 copy of b0:\"), print(b3)\n",
    "\n",
    "b0[1,1] = 888; print(\"\\nb0[1,1] = 888\")\n",
    "print(\"\\nb3 copy of b0:\"), print(b3)\n",
    "print(\"\\na1:\"), print(a1),\n",
    "print(\"\\nbo:\"), print(b0)\n",
    "print(\"\\nb1:\"), print(b1)\n",
    "print(\"\\na0:\"), print(a0)\n",
    "print(\"\\nco:\"), print(c0)\n",
    "print(\"\\nb2:\"), print(b2);"
   ]
  },
  {
   "cell_type": "code",
   "execution_count": 7,
   "metadata": {},
   "outputs": [
    {
     "name": "stdout",
     "output_type": "stream",
     "text": [
      "...... Originals ....... \n",
      "L1:\n",
      " [1, 2, [3, 5], 4]\n",
      "L21:\n",
      " [1, 2, [3, 5], 4]\n",
      "\n",
      "...... L21 = [1, 3, [7,5], 4]  .......  \n",
      "\n",
      "L1:\n",
      " [1, 2, [7, 5], 4]\n",
      "L21:\n",
      " [1, 3, [7, 5], 4]\n",
      "\n",
      "...... L1 = [1, 8, [0,5], 4]  .......  \n",
      "L1:\n",
      " [1, 8, [0, 5], 4]\n",
      "L21:\n",
      " [1, 3, [0, 5], 4]\n"
     ]
    }
   ],
   "source": [
    "L1 = [1, 2, [3,5], 4]\n",
    "L21 = L1.copy()\n",
    "\n",
    "print('...... Originals ....... ')\n",
    "print(\"L1:\\n\",L1)\n",
    "print(\"L21:\\n\",L21)\n",
    "\n",
    "L21[1] = 3\n",
    "L21[2][0] = 7\n",
    "\n",
    "print('\\n...... L21 = [1, 3, [7,5], 4]  .......  ')\n",
    "print()\n",
    "print(\"L1:\\n\",L1)\n",
    "print(\"L21:\\n\",L21)\n",
    "\n",
    "L1[1] = 8\n",
    "L1[2][0] = 0\n",
    "\n",
    "print('\\n...... L1 = [1, 8, [0,5], 4]  .......  ')\n",
    "print(\"L1:\\n\",L1)\n",
    "print(\"L21:\\n\",L21)"
   ]
  },
  {
   "cell_type": "code",
   "execution_count": 8,
   "metadata": {},
   "outputs": [
    {
     "name": "stdout",
     "output_type": "stream",
     "text": [
      "...... Originals ....... \n",
      "L1:\n",
      " [1, 2, [3, 5], 4]\n",
      "L20:\n",
      " [1, 2, [3, 5], 4]\n",
      "L21:\n",
      " [1, 2, [3, 5], 4]\n",
      "L22:\n",
      " [1, 2, [3, 5], 4]\n",
      "\n",
      "...... L21 = [1, 3, [7,5], 4]  ....... L22 = [1, 2, [9,5], 4] \n",
      "\n",
      "L1:\n",
      " [1, 2, [7, 5], 4]\n",
      "L20:\n",
      " [1, 2, [7, 5], 4]\n",
      "L21:\n",
      " [1, 3, [7, 5], 4]\n",
      "L22:\n",
      " [1, 2, [9, 5], 4]\n",
      "\n",
      "...... L1 = [1, 8, [0,5], 4]  .......  \n",
      "L1:\n",
      " [1, 8, [0, 5], 4]\n",
      "L20:\n",
      " [1, 2, [0, 5], 4]\n",
      "L21:\n",
      " [1, 3, [0, 5], 4]\n",
      "L22:\n",
      " [1, 2, [9, 5], 4]\n"
     ]
    }
   ],
   "source": [
    "L1 = [1, 2, [3,5], 4]\n",
    "L20 = L1.copy()\n",
    "L21 = copy.copy(L1)\n",
    "L22 = copy.deepcopy(L1)\n",
    "\n",
    "print('...... Originals ....... ')\n",
    "print(\"L1:\\n\",L1)\n",
    "print(\"L20:\\n\",L20)\n",
    "print(\"L21:\\n\",L21)\n",
    "print(\"L22:\\n\",L22)\n",
    "\n",
    "L21[1] = 3\n",
    "L21[2][0] = 7\n",
    "L22[2][0] = 9\n",
    "\n",
    "print('\\n...... L21 = [1, 3, [7,5], 4]  ....... L22 = [1, 2, [9,5], 4] ')\n",
    "print()\n",
    "print(\"L1:\\n\",L1)\n",
    "print(\"L20:\\n\",L20)\n",
    "print(\"L21:\\n\",L21)\n",
    "print(\"L22:\\n\",L22)\n",
    "\n",
    "L1[1] = 8\n",
    "L1[2][0] = 0\n",
    "\n",
    "print('\\n...... L1 = [1, 8, [0,5], 4]  .......  ')\n",
    "print(\"L1:\\n\",L1)\n",
    "print(\"L20:\\n\",L20)\n",
    "print(\"L21:\\n\",L21)\n",
    "print(\"L22:\\n\",L22)"
   ]
  },
  {
   "cell_type": "code",
   "execution_count": 9,
   "metadata": {},
   "outputs": [
    {
     "name": "stdout",
     "output_type": "stream",
     "text": [
      "L3:\n",
      " [1, 2, 3, 4]\n",
      "L4:\n",
      " [1, 2, 3, 4]\n",
      "\n",
      "L3[2] = 8:\n",
      "L3:\n",
      " [1, 2, 8, 4]\n",
      "L4:\n",
      " [1, 2, 3, 4]\n",
      "\n",
      "L4[2] = 7:\n",
      "L3:\n",
      " [1, 2, 8, 4]\n",
      "L4:\n",
      " [1, 2, 7, 4]\n"
     ]
    }
   ],
   "source": [
    "L3 = [1, 2, 3, 4]\n",
    "L4 = copy.deepcopy(L3)\n",
    "\n",
    "print(\"L3:\\n\",L3)\n",
    "print(\"L4:\\n\",L4)\n",
    "\n",
    "L3[2] = 8\n",
    "print(\"\\nL3[2] = 8:\")\n",
    "print(\"L3:\\n\",L3)\n",
    "print(\"L4:\\n\",L4)\n",
    "\n",
    "\n",
    "L4[2] = 7\n",
    "print(\"\\nL4[2] = 7:\")\n",
    "print(\"L3:\\n\",L3)\n",
    "print(\"L4:\\n\",L4)"
   ]
  },
  {
   "cell_type": "code",
   "execution_count": null,
   "metadata": {},
   "outputs": [],
   "source": []
  }
 ],
 "metadata": {
  "kernelspec": {
   "display_name": "Python 3 (ipykernel)",
   "language": "python",
   "name": "python3"
  },
  "language_info": {
   "codemirror_mode": {
    "name": "ipython",
    "version": 3
   },
   "file_extension": ".py",
   "mimetype": "text/x-python",
   "name": "python",
   "nbconvert_exporter": "python",
   "pygments_lexer": "ipython3",
   "version": "3.11.5"
  }
 },
 "nbformat": 4,
 "nbformat_minor": 2
}

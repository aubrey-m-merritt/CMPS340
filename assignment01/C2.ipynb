{
 "cells": [
  {
   "cell_type": "markdown",
   "metadata": {},
   "source": [
    "# Challenge 2 Python Programming"
   ]
  },
  {
   "cell_type": "markdown",
   "metadata": {},
   "source": [
    "<p>Team Name: Morse Coders\n",
    "<p>Student Name: Carrington Wynn and Aubrey Merritt \n",
    "<p>Student W#: W#0731024 and W#0749642"
   ]
  },
  {
   "cell_type": "markdown",
   "metadata": {},
   "source": [
    "## Instructions\n",
    "Use generic coding style unless hard-coded values are really necessary.<br>\n",
    "Your code must be efficient and use self-explanatory naming.<br>\n",
    "Use appropriate Python library methods for each task instead of using loops.<br>\n",
    "Run your entire code and save. Then submit this <b>saved</b> copy."
   ]
  },
  {
   "cell_type": "markdown",
   "metadata": {},
   "source": [
    "## Imports"
   ]
  },
  {
   "cell_type": "code",
   "execution_count": 27,
   "metadata": {},
   "outputs": [],
   "source": [
    "import csv\n",
    "import os\n",
    "import shutil"
   ]
  },
  {
   "cell_type": "markdown",
   "metadata": {},
   "source": [
    "## <center> Part I </center>"
   ]
  },
  {
   "cell_type": "markdown",
   "metadata": {},
   "source": [
    "### 1) Read  student records from the file Student.csv in INPUT and store into a dictionary \"stdRec\":"
   ]
  },
  {
   "cell_type": "code",
   "execution_count": 28,
   "metadata": {},
   "outputs": [
    {
     "ename": "FileExistsError",
     "evalue": "[WinError 183] Cannot create a file when that file already exists: './RESULT2'",
     "output_type": "error",
     "traceback": [
      "\u001b[1;31m---------------------------------------------------------------------------\u001b[0m",
      "\u001b[1;31mFileExistsError\u001b[0m                           Traceback (most recent call last)",
      "Cell \u001b[1;32mIn[28], line 2\u001b[0m\n\u001b[0;32m      1\u001b[0m path \u001b[38;5;241m=\u001b[39m \u001b[38;5;124m'\u001b[39m\u001b[38;5;124m./RESULT2\u001b[39m\u001b[38;5;124m'\u001b[39m \u001b[38;5;66;03m#path directory (aka folder)\u001b[39;00m\n\u001b[1;32m----> 2\u001b[0m os\u001b[38;5;241m.\u001b[39mmkdir(path)\n\u001b[0;32m      3\u001b[0m stdRec \u001b[38;5;241m=\u001b[39m \u001b[38;5;28mdict\u001b[39m()\n\u001b[0;32m      5\u001b[0m \u001b[38;5;28;01mwith\u001b[39;00m \u001b[38;5;28mopen\u001b[39m(\u001b[38;5;124m\"\u001b[39m\u001b[38;5;124mINPUT\u001b[39m\u001b[38;5;130;01m\\\\\u001b[39;00m\u001b[38;5;124mStudent.csv\u001b[39m\u001b[38;5;124m\"\u001b[39m) \u001b[38;5;28;01mas\u001b[39;00m file:\n",
      "\u001b[1;31mFileExistsError\u001b[0m: [WinError 183] Cannot create a file when that file already exists: './RESULT2'"
     ]
    }
   ],
   "source": [
    "\n",
    "path = './RESULT2' #path directory (aka folder)\n",
    "os.mkdir(path)\n",
    "stdRec = dict()\n",
    "\n",
    "with open(\"INPUT\\\\Student.csv\") as file:\n",
    "    infile = csv.reader(file)\n",
    "    next(infile)\n",
    "    for line in infile:\n",
    "        if len(line) == 6:\n",
    "            studentId, firstName, lastName, courseID, midtermGrade, finalGrade = line\n",
    "            stdRec[studentId] = {\n",
    "                'First Name' : firstName,\n",
    "                'Last Name'  : lastName,\n",
    "                'Course Id'   : courseID,\n",
    "                'Midterm Grade': midtermGrade, \n",
    "                'Final Grade': finalGrade\n",
    "            }\n",
    "print(stdRec)\n",
    "        \n",
    "\n"
   ]
  },
  {
   "cell_type": "markdown",
   "metadata": {},
   "source": [
    "### 2) Store headers into a tuple \"header\":"
   ]
  },
  {
   "cell_type": "code",
   "execution_count": null,
   "metadata": {},
   "outputs": [],
   "source": [
    "header = ()\n",
    "\n",
    "with open(\"INPUT\\\\Student.csv\") as file:\n",
    "    infile = csv.reader(file)\n",
    "    header = next(infile)\n",
    "print(header)\n"
   ]
  },
  {
   "cell_type": "markdown",
   "metadata": {},
   "source": [
    "### 3) Store data into a list \"data\":"
   ]
  },
  {
   "cell_type": "code",
   "execution_count": null,
   "metadata": {},
   "outputs": [],
   "source": [
    "data = []\n",
    "\n",
    "with open(\"INPUT\\\\Student.csv\") as file:\n",
    "    infile = csv.reader(file)\n",
    "    next(infile)\n",
    "    for line in infile:\n",
    "        if len(line) == 6:\n",
    "            studentId, firstName, lastName, courseID, midtermGrade, finalGrade = line\n",
    "            data.append(line)\n",
    "\n",
    "print(data)\n"
   ]
  },
  {
   "cell_type": "markdown",
   "metadata": {},
   "source": [
    "### 4) Ask user to enter a student number to search \"data\" for the W# and return all his/her grades for the classes taken:"
   ]
  },
  {
   "cell_type": "code",
   "execution_count": null,
   "metadata": {},
   "outputs": [],
   "source": [
    "stNumber = input(\"Enter your 5-digit student number: \")\n",
    "listOfIds = []\n",
    "result = {}\n",
    "\n",
    "for i in data:\n",
    "    #print(i)\n",
    "    num = i[0]\n",
    "    listOfIds.append(num)\n",
    "\n",
    "#3,4,5\n",
    "for j in data:\n",
    "    if j[0] == stNumber:\n",
    "        resultNum = j[0]\n",
    "        courseID = j[3]\n",
    "        midtermGrade = j[4]\n",
    "        finalGrade = j[5]\n",
    "        #studentId, courseID, midtermGrade, finalGrade = line\n",
    "        result[resultNum,courseID,midtermGrade,finalGrade] = {\n",
    "                'Course Id'   : courseID,\n",
    "                'Midterm Grade': midtermGrade, \n",
    "                'Final Grade': finalGrade\n",
    "            }\n",
    "    \n",
    "        print(\"Course Id: \" + j[3])\n",
    "        print(\"Midterm Grade: \" + j[4])\n",
    "        print(\"Final Grade: \" + j[5])\n",
    "\n",
    "print(result)"
   ]
  },
  {
   "cell_type": "markdown",
   "metadata": {},
   "source": [
    "### 5) Write the search result into a file with a file name which is consisted of W# and extention \"csv\". The file will be stored into the folder \"RESULT\". The first line of the file will have headers:"
   ]
  },
  {
   "cell_type": "code",
   "execution_count": null,
   "metadata": {
    "jupyter": {
     "outputs_hidden": true
    }
   },
   "outputs": [],
   "source": [
    "\n",
    "\n",
    "f = open(f'{resultNum}.csv', \"x\")\n",
    "f.close()\n",
    "\n",
    "\n",
    "\n",
    "header = ['Student Id ', 'Course Id ', 'Midterm Grade ', 'Final Grade ']\n",
    "\n",
    "\n",
    "with open(f'{resultNum}.csv', \"w\") as file:\n",
    "    writer = csv.writer(file)\n",
    "\n",
    "    writer.writerow(header)\n",
    "    writer.writerow(result)\n",
    "\n",
    "\n",
    "source_file = f'{resultNum}.csv'\n",
    "destination_folder = f'RESULT\\\\{resultNum}.csv'\n",
    "\n",
    "shutil.move(source_file, destination_folder)\n",
    "\n"
   ]
  },
  {
   "cell_type": "markdown",
   "metadata": {},
   "source": [
    "## <center> Part II </center>"
   ]
  },
  {
   "cell_type": "markdown",
   "metadata": {},
   "source": [
    "### 1) Ask user to enter two strings \"reference\" and \"pattern\":"
   ]
  },
  {
   "cell_type": "code",
   "execution_count": null,
   "metadata": {},
   "outputs": [],
   "source": [
    "ref = input(\"Enter your reference as a string: \")\n",
    "pat = input(\"Enter your pattern as a string: \")"
   ]
  },
  {
   "cell_type": "markdown",
   "metadata": {},
   "source": [
    "### 2) Check if the pattern string is in the reference string. Display the result together with the input data:"
   ]
  },
  {
   "cell_type": "code",
   "execution_count": null,
   "metadata": {},
   "outputs": [],
   "source": [
    "try:\n",
    "    if pat in ref: # checking\n",
    "        print(\"Input data: \", pat , \"for the pattern string and \" , ref, \" for the reference string\")\n",
    "        print(\"The input data together: \", pat + ref, \".\")\n",
    "    else:\n",
    "        print(\"Pattern is not in the reference string.\")\n",
    "except:\n",
    "    print(\"Error when checking if the pattern string is in the reference string.\")"
   ]
  },
  {
   "cell_type": "markdown",
   "metadata": {},
   "source": [
    "### 3) Split characters of both strings into the sets \"sRef\" and \"sPat\":"
   ]
  },
  {
   "cell_type": "code",
   "execution_count": null,
   "metadata": {},
   "outputs": [],
   "source": [
    "sRef = set(ref)\n",
    "sPat = set(pat)"
   ]
  },
  {
   "cell_type": "markdown",
   "metadata": {},
   "source": [
    "### 4) Check if sPat is a subset of sRef. Display the result together with the input data:"
   ]
  },
  {
   "cell_type": "code",
   "execution_count": null,
   "metadata": {},
   "outputs": [],
   "source": [
    "try:\n",
    "    if sPat.issubset(sRef):\n",
    "        print(\"Input data: \", sPat , \"for the character set of pattern string and \" , sRef, \" for character set of reference string.\")\n",
    "        print(\"The set\", sPat, \" is a subset of \" , sRef, \".\")\n",
    "    else:\n",
    "        print(\"sPat is not a subset of sRef.\")\n",
    "except:\n",
    "    print(\"Error when checking if sPat is a subset of sRef. Display the result together with the input data.\")"
   ]
  },
  {
   "cell_type": "markdown",
   "metadata": {},
   "source": [
    "## <center> Part III </center>"
   ]
  },
  {
   "cell_type": "markdown",
   "metadata": {},
   "source": [
    "### 1) Write a class \"Search_Pattern\" which will accomplish the tasks listed in Part-II. In the task-1, the string pairs \"reference\" and \"pattern\" must be read from a file:"
   ]
  },
  {
   "cell_type": "code",
   "execution_count": null,
   "metadata": {},
   "outputs": [],
   "source": [
    "class Search_Pattern:\n",
    "\n",
    "\n",
    "    def __int__(self):\n",
    "        self.wordList = []\n",
    "        self.ref = \"\"\n",
    "        self.pat = \"\"\n",
    "    \n",
    "    @staticmethod\n",
    "    def readFile(filename):\n",
    "            wordList = []\n",
    "            try:\n",
    "                with open(filename) as file:\n",
    "                    infile = csv.reader(file)\n",
    "                    for fileLine in infile:\n",
    "                        word = fileLine.pop()\n",
    "                        wordList.append(word)\n",
    "                        \n",
    "            except FileNotFoundError:\n",
    "                    print(\"File Not Found Error\")\n",
    "            return wordList\n",
    "    #\n",
    "\n",
    "    @staticmethod\n",
    "    def testSubset(filename):\n",
    "        try: \n",
    "            fileRead = Search_Pattern.readFile(filename)\n",
    "            count = 0\n",
    "\n",
    "            try:\n",
    "                while(count != len(fileRead)):\n",
    "                    if fileRead[count+1] in fileRead[count]: \n",
    "                        print(\"The test data is '\" + fileRead[count+1]+ \"' and '\" +  fileRead[count]+\"' . The pattern is in the reference.\")\n",
    "                    elif fileRead[count+1] not in fileRead[count] and set(fileRead[count+1]).issubset(fileRead[count]): \n",
    "                        print(\"The test data is '\" + fileRead[count+1]+ \"' and '\" +  fileRead[count]+ \"'. The pattern is NOT in the reference but its items make a subset of the reference\")\n",
    "                    elif fileRead[count+1] not in fileRead[count]: \n",
    "                        print(\"The test data is '\" + fileRead[count+1]+ \"'and '\" +  fileRead[count]+ \"'.The pattern is NOT in the reference.\")\n",
    "                    count += 2\n",
    "            \n",
    "            except:\n",
    "                print(\"Error when checking if the pattern string is in the reference string.\")\n",
    "        except: \n",
    "             print(\"Error with accessing elements within the wordList\")\n",
    "    #\n",
    "\n",
    "Search_Pattern.testSubset(\"INPUT\\\\Patterns.csv\") #Quick test/ delete when done"
   ]
  },
  {
   "cell_type": "markdown",
   "metadata": {},
   "source": [
    "### 2) Generate a test set of \"reference\" and \"pattern\" into a file \"Test_Data\" in INPUT. The test data must test following cases:\n",
    ">   <p>a. The pattern is in the reference.\n",
    "    <p>b. The pattern is NOT in the reference.\n",
    "    <p>c. The pattern is NOT in the reference but its items make a subset of the reference\n",
    "<h3>Test the class Search_Pattern using the test data. Display the result together with the input data:"
   ]
  },
  {
   "cell_type": "code",
   "execution_count": 29,
   "metadata": {},
   "outputs": [
    {
     "name": "stdout",
     "output_type": "stream",
     "text": [
      "The test data is bob and bob. The pattern is in the reference.\n",
      "The test data is pattern  and reference . The pattern is NOT in the reference.\n",
      "The test data is 'hel' and 'leh' . The pattern is NOT in the reference but its items make a subset of the reference\n"
     ]
    }
   ],
   "source": [
    "testClass = Search_Pattern()\n",
    "result1 = testClass.testSubset(\"INPUT\\\\Test_Data.csv\")"
   ]
  },
  {
   "cell_type": "code",
   "execution_count": null,
   "metadata": {},
   "outputs": [],
   "source": []
  }
 ],
 "metadata": {
  "kernelspec": {
   "display_name": "Python 3 (ipykernel)",
   "language": "python",
   "name": "python3"
  },
  "language_info": {
   "codemirror_mode": {
    "name": "ipython",
    "version": 3
   },
   "file_extension": ".py",
   "mimetype": "text/x-python",
   "name": "python",
   "nbconvert_exporter": "python",
   "pygments_lexer": "ipython3",
   "version": "undefined.undefined.undefined"
  }
 },
 "nbformat": 4,
 "nbformat_minor": 4
}

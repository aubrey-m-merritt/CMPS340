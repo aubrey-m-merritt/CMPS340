{
 "cells": [
  {
   "cell_type": "markdown",
   "metadata": {},
   "source": [
    "# Challenge 2 Python Programming"
   ]
  },
  {
   "cell_type": "markdown",
   "metadata": {},
   "source": [
    "<p>Team Name: Morse Coders\n",
    "<p>Student Name: Carrington Wynn and Aubrey Merritt \n",
    "<p>Student W#: W#0731024 and W#0749642"
   ]
  },
  {
   "cell_type": "markdown",
   "metadata": {},
   "source": [
    "## Instructions\n",
    "Use generic coding style unless hard-coded values are really necessary.<br>\n",
    "Your code must be efficient and use self-explanatory naming.<br>\n",
    "Use appropriate Python library methods for each task instead of using loops.<br>\n",
    "Run your entire code and save. Then submit this <b>saved</b> copy."
   ]
  },
  {
   "cell_type": "markdown",
   "metadata": {},
   "source": [
    "## Imports"
   ]
  },
  {
   "cell_type": "code",
   "execution_count": 23,
   "metadata": {},
   "outputs": [],
   "source": [
    "import csv\n",
    "import os\n",
    "import shutil"
   ]
  },
  {
   "cell_type": "markdown",
   "metadata": {},
   "source": [
    "## <center> Part I </center>"
   ]
  },
  {
   "cell_type": "markdown",
   "metadata": {},
   "source": [
    "### 1) Read  student records from the file Student.csv in INPUT and store into a dictionary \"stdRec\":"
   ]
  },
  {
   "cell_type": "code",
   "execution_count": 12,
   "metadata": {},
   "outputs": [
    {
     "name": "stdout",
     "output_type": "stream",
     "text": [
      "{'03732': {'First Name': ' Alexis', 'Last Name': ' Baker', 'Course Id': ' 1234', 'Midterm Grade': ' 84.4', 'Final Grade': '  77.2'}, '03733': {'First Name': ' Torin', 'Last Name': ' Butler', 'Course Id': ' 1554', 'Midterm Grade': ' 90.4', 'Final Grade': ' 90.2'}, '03734': {'First Name': ' Claire', 'Last Name': ' Williams', 'Course Id': ' 6734', 'Midterm Grade': ' 100', 'Final Grade': ' 89.43'}, '03735': {'First Name': ' Tonia', 'Last Name': ' Claire', 'Course Id': ' 1234', 'Midterm Grade': ' 55.34', 'Final Grade': ' 77.2'}, '03736': {'First Name': ' Brianna', 'Last Name': ' Holding', 'Course Id': ' 4455', 'Midterm Grade': ' 70.4', 'Final Grade': ' 77.2'}, '03737': {'First Name': ' Samantha', 'Last Name': ' Himms', 'Course Id': ' 5783', 'Midterm Grade': ' 67', 'Final Grade': ' 89.2'}, '03738': {'First Name': ' Alex', 'Last Name': ' Turner', 'Course Id': ' 1267', 'Midterm Grade': ' 80.4', 'Final Grade': ' 100.2'}, '03739': {'First Name': ' Blake', 'Last Name': ' Washington', 'Course Id': ' 1244', 'Midterm Grade': ' 34.4', 'Final Grade': ' 55.2'}, '03740': {'First Name': ' Austin', 'Last Name': ' Bloom', 'Course Id': ' 3464', 'Midterm Grade': ' 70.4', 'Final Grade': ' 72.2'}}\n"
     ]
    }
   ],
   "source": [
    "\n",
    "stdRec = dict()\n",
    "\n",
    "with open(\"INPUT\\\\Student.csv\") as file:\n",
    "    infile = csv.reader(file)\n",
    "    next(infile)\n",
    "    for line in infile:\n",
    "        if len(line) == 6:\n",
    "            studentId, firstName, lastName, courseID, midtermGrade, finalGrade = line\n",
    "            stdRec[studentId] = {\n",
    "                'First Name' : firstName,\n",
    "                'Last Name'  : lastName,\n",
    "                'Course Id'   : courseID,\n",
    "                'Midterm Grade': midtermGrade, \n",
    "                'Final Grade': finalGrade\n",
    "            }\n",
    "print(stdRec)\n",
    "        \n",
    "\n"
   ]
  },
  {
   "cell_type": "markdown",
   "metadata": {},
   "source": [
    "### 2) Store headers into a tuple \"header\":"
   ]
  },
  {
   "cell_type": "code",
   "execution_count": 18,
   "metadata": {},
   "outputs": [
    {
     "name": "stdout",
     "output_type": "stream",
     "text": [
      "['STUDENT ID', 'STUDENT FIRST NAME', 'STUDENT LAST NAME', 'COURSE ID', 'MIDTERM', 'FINAL']\n"
     ]
    }
   ],
   "source": [
    "header = ()\n",
    "\n",
    "#***********DOUBLE CHECK**********\n",
    "with open(\"INPUT\\\\Student.csv\") as file:\n",
    "    infile = csv.reader(file)\n",
    "    header = next(infile)\n",
    "print(header)\n"
   ]
  },
  {
   "cell_type": "markdown",
   "metadata": {},
   "source": [
    "### 3) Store data into a list \"data\":"
   ]
  },
  {
   "cell_type": "code",
   "execution_count": 4,
   "metadata": {},
   "outputs": [
    {
     "name": "stdout",
     "output_type": "stream",
     "text": [
      "[['03732', ' Alexis', ' Baker', ' 1234', ' 84.4', '  77.2'], ['03733', ' Torin', ' Butler', ' 1554', ' 90.4', ' 90.2'], ['03734', ' Claire', ' Williams', ' 6734', ' 100', ' 89.43'], ['03735', ' Tonia', ' Claire', ' 1234', ' 55.34', ' 77.2'], ['03736', ' Brianna', ' Holding', ' 4455', ' 70.4', ' 77.2'], ['03737', ' Samantha', ' Himms', ' 5783', ' 67', ' 89.2'], ['03738', ' Alex', ' Turner', ' 1267', ' 80.4', ' 100.2'], ['03739', ' Blake', ' Washington', ' 1244', ' 34.4', ' 55.2'], ['03740', ' Austin', ' Bloom', ' 3464', ' 70.4', ' 72.2']]\n"
     ]
    }
   ],
   "source": [
    "data = []\n",
    "\n",
    "with open(\"INPUT\\\\Student.csv\") as file:\n",
    "    infile = csv.reader(file)\n",
    "    next(infile)\n",
    "    for line in infile:\n",
    "        if len(line) == 6:\n",
    "            studentId, firstName, lastName, courseID, midtermGrade, finalGrade = line\n",
    "            data.append(line)\n",
    "\n",
    "print(data)\n"
   ]
  },
  {
   "cell_type": "markdown",
   "metadata": {},
   "source": [
    "### 4) Ask user to enter a student number to search \"data\" for the W# and return all his/her grades for the classes taken:"
   ]
  },
  {
   "cell_type": "code",
   "execution_count": 35,
   "metadata": {
    "collapsed": true,
    "jupyter": {
     "outputs_hidden": true
    }
   },
   "outputs": [
    {
     "name": "stdout",
     "output_type": "stream",
     "text": [
      "Course Id:  3464\n",
      "Midterm Grade:  70.4\n",
      "Final Grade:  72.2\n",
      "{('03740', ' 3464', ' 70.4', ' 72.2'): {}}\n"
     ]
    }
   ],
   "source": [
    "stNumber = input(\"Enter your 5-digit student number: \")\n",
    "listOfIds = []\n",
    "result = {}\n",
    "\n",
    "for i in data:\n",
    "    #print(i)\n",
    "    num = i[0]\n",
    "    listOfIds.append(num)\n",
    "\n",
    "#3,4,5\n",
    "for j in data:\n",
    "    if j[0] == stNumber:\n",
    "        resultNum = j[0]\n",
    "        #studentId, courseID, midtermGrade, finalGrade = line\n",
    "        result[studentId,courseID,midtermGrade,finalGrade] = {\n",
    "                'Course Id'   : courseID,\n",
    "                'Midterm Grade': midtermGrade, \n",
    "                'Final Grade': finalGrade\n",
    "            }\n",
    "    \n",
    "        print(\"Course Id: \" + j[3])\n",
    "        print(\"Midterm Grade: \" + j[4])\n",
    "        print(\"Final Grade: \" + j[5])\n",
    "\n",
    "print(result)"
   ]
  },
  {
   "cell_type": "markdown",
   "metadata": {},
   "source": [
    "### 5) Write the search result into a file with a file name which is consisted of W# and extention \"csv\". The file will be stored into the folder \"RESULT\". The first line of the file will have headers:"
   ]
  },
  {
   "cell_type": "code",
   "execution_count": 48,
   "metadata": {
    "collapsed": true,
    "jupyter": {
     "outputs_hidden": true
    }
   },
   "outputs": [
    {
     "data": {
      "text/plain": [
       "'RESULT\\\\03740.csv'"
      ]
     },
     "execution_count": 48,
     "metadata": {},
     "output_type": "execute_result"
    }
   ],
   "source": [
    "\n",
    "path = './RESULT' #path directory (aka folder)\n",
    "os.mkdir(path)\n",
    "\n",
    "#newFile = open(resultNum.csv, \"w\")\n",
    "\n",
    "f = open(f'{resultNum}.csv', \"x\")\n",
    "f.close()\n",
    "\n",
    "\n",
    "\n",
    "header = ['Student Id ', 'Course Id ', 'Midterm Grade ', 'Final Grade ']\n",
    "\n",
    "\n",
    "with open(f'{resultNum}.csv', \"w\") as file:\n",
    "    writer = csv.writer(file)\n",
    "\n",
    "    writer.writerow(header)\n",
    "    writer.writerow(result)\n",
    "    #file.write(\"Hello, world!\\n\")\n",
    "    #file.write(\"This is a new line.\")\n",
    "\n",
    "\n",
    "source_file = f'{resultNum}.csv'\n",
    "destination_folder = f'RESULT\\\\{resultNum}.csv'\n",
    "\n",
    "shutil.move(source_file, destination_folder)\n",
    "\n"
   ]
  },
  {
   "cell_type": "markdown",
   "metadata": {},
   "source": [
    "## <center> Part II </center>"
   ]
  },
  {
   "cell_type": "markdown",
   "metadata": {},
   "source": [
    "### 1) Ask user to enter two strings \"reference\" and \"pattern\":"
   ]
  },
  {
   "cell_type": "code",
   "execution_count": 139,
   "metadata": {},
   "outputs": [
    {
     "name": "stdin",
     "output_type": "stream",
     "text": [
      "Enter your reference as a string:  hello\n",
      "Enter your pattern as a string:  sad\n"
     ]
    }
   ],
   "source": [
    "ref = input(\"Enter your reference as a string: \")\n",
    "pat = input(\"Enter your pattern as a string: \")"
   ]
  },
  {
   "cell_type": "markdown",
   "metadata": {},
   "source": [
    "### 2) Check if the pattern string is in the reference string. Display the result together with the input data:"
   ]
  },
  {
   "cell_type": "code",
   "execution_count": 144,
   "metadata": {},
   "outputs": [
    {
     "name": "stdout",
     "output_type": "stream",
     "text": [
      "Pattern is not in the reference string.\n"
     ]
    }
   ],
   "source": [
    "try:\n",
    "    if pat in ref: # checking\n",
    "        print(\"Input data: \", pat , \"for the pattern string and \" , ref, \" for the reference string\")\n",
    "        print(\"The input data together: \", pat + ref, \".\")\n",
    "    else:\n",
    "        print(\"Pattern is not in the reference string.\")\n",
    "except:\n",
    "    print(\"Error when checking if the pattern string is in the reference string.\")"
   ]
  },
  {
   "cell_type": "markdown",
   "metadata": {},
   "source": [
    "### 3) Split characters of both strings into the sets \"sRef\" and \"sPat\":"
   ]
  },
  {
   "cell_type": "code",
   "execution_count": 141,
   "metadata": {},
   "outputs": [],
   "source": [
    "sRef = set(ref)\n",
    "sPat = set(pat)"
   ]
  },
  {
   "cell_type": "markdown",
   "metadata": {},
   "source": [
    "### 4) Check if sPat is a subset of sRef. Display the result together with the input data:"
   ]
  },
  {
   "cell_type": "code",
   "execution_count": 146,
   "metadata": {},
   "outputs": [
    {
     "name": "stdout",
     "output_type": "stream",
     "text": [
      "sPat is not a subset of sRef.\n"
     ]
    }
   ],
   "source": [
    "try:\n",
    "    if sPat.issubset(sRef):\n",
    "        print(\"Input data: \", sPat , \"for the character set of pattern string and \" , ref, \" for character set of reference string.\")\n",
    "        print(\"The set\", sPat, \" is a subset of \" , sRef, \".\")\n",
    "    else:\n",
    "        print(\"sPat is not a subset of sRef.\")\n",
    "except:\n",
    "    print(\"Error when checking if sPat is a subset of sRef. Display the result together with the input data.\")"
   ]
  },
  {
   "cell_type": "markdown",
   "metadata": {},
   "source": [
    "## <center> Part III </center>"
   ]
  },
  {
   "cell_type": "markdown",
   "metadata": {},
   "source": [
    "### 1) Write a class \"Search_Pattern\" which will accomplish the tasks listed in Part-II. In the task-1, the string pairs \"reference\" and \"pattern\" must be read from a file:"
   ]
  },
  {
   "cell_type": "code",
   "execution_count": null,
   "metadata": {},
   "outputs": [
    {
     "ename": "SyntaxError",
     "evalue": "invalid syntax (2626048530.py, line 1)",
     "output_type": "error",
     "traceback": [
      "\u001b[1;36m  Cell \u001b[1;32mIn[23], line 1\u001b[1;36m\u001b[0m\n\u001b[1;33m    class Search_Pattern\u001b[0m\n\u001b[1;37m                         ^\u001b[0m\n\u001b[1;31mSyntaxError\u001b[0m\u001b[1;31m:\u001b[0m invalid syntax\n"
     ]
    }
   ],
   "source": []
  },
  {
   "cell_type": "markdown",
   "metadata": {},
   "source": [
    "### 2) Generate a test set of \"reference\" and \"pattern\" into a file \"Test_Data\" in INPUT. The test data must test following cases:\n",
    ">   <p>a. The pattern is in the reference.\n",
    "    <p>b. The pattern is NOT in the reference.\n",
    "    <p>c. The pattern is NOT in the reference but its items make a subset of the reference\n",
    "<h3>Test the class Search_Pattern using the test data. Display the result together with the input data:"
   ]
  },
  {
   "cell_type": "code",
   "execution_count": null,
   "metadata": {},
   "outputs": [],
   "source": []
  }
 ],
 "metadata": {
  "kernelspec": {
   "display_name": "Python 3 (ipykernel)",
   "language": "python",
   "name": "python3"
  },
  "language_info": {
   "codemirror_mode": {
    "name": "ipython",
    "version": 3
   },
   "file_extension": ".py",
   "mimetype": "text/x-python",
   "name": "python",
   "nbconvert_exporter": "python",
   "pygments_lexer": "ipython3",
   "version": "3.9.18"
  }
 },
 "nbformat": 4,
 "nbformat_minor": 4
}

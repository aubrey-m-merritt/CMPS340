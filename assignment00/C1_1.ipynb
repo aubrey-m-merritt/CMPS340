{
 "cells": [
  {
   "cell_type": "markdown",
   "metadata": {},
   "source": [
    "# <center>CHALLENGE 1.1<center>"
   ]
  },
  {
   "cell_type": "markdown",
   "metadata": {},
   "source": [
    "<p>Team Name: Morse Coders\n",
    "<p>Student Names: Aubrey Merritt and Carrington Wynn\n",
    "<p>Student W#s: W0749642 and W0731024"
   ]
  },
  {
   "cell_type": "markdown",
   "metadata": {},
   "source": [
    "## Instructions\n",
    "Use generic coding style unless hard-coded values are really necessary.<br>\n",
    "Your code must be efficient and use self-explanatory naming.<br>\n",
    "Run your entire code and save. Then submit this <b>saved</b> copy."
   ]
  },
  {
   "cell_type": "markdown",
   "metadata": {},
   "source": [
    "## Imports"
   ]
  },
  {
   "cell_type": "markdown",
   "metadata": {},
   "source": []
  },
  {
   "cell_type": "code",
   "execution_count": null,
   "metadata": {},
   "outputs": [],
   "source": []
  },
  {
   "cell_type": "markdown",
   "metadata": {},
   "source": [
    "# PART I"
   ]
  },
  {
   "cell_type": "markdown",
   "metadata": {},
   "source": [
    "## Format"
   ]
  },
  {
   "cell_type": "code",
   "execution_count": 1,
   "metadata": {},
   "outputs": [
    {
     "name": "stdout",
     "output_type": "stream",
     "text": [
      "id(A):  2242659282416\n",
      "<class 'str'>  is a mutable data type!\n",
      "id(A):  2242659282416\n"
     ]
    }
   ],
   "source": [
    "A = 'string'#initialize your variable with a value of the data type. Remove this comment.\n",
    "\n",
    "print(\"id(A): \",id(A))\n",
    "\n",
    "try:\n",
    "    #at this line, write your code to modify the variable \"A\",\n",
    "    #do not 'assign' a new value to \"A\"!. See the example below.\n",
    "    #Remove this comment section and the example section below.\n",
    "    '''\n",
    "    Remove this example section before submit your work\n",
    "    Example:\n",
    "\n",
    "    A = 'str1'\n",
    "    A[0] = 'b'\n",
    "    '''\n",
    "    \n",
    "    print(type(A),\" is a mutable data type!\")\n",
    "\n",
    "except:\n",
    "    print(type(A),\" is an immutable data type!\")\n",
    "finally:\n",
    "    print(\"id(A): \",id(A))    \n",
    "#\n"
   ]
  },
  {
   "cell_type": "markdown",
   "metadata": {},
   "source": [
    "# IMMUTABLE OBJECTS"
   ]
  },
  {
   "cell_type": "markdown",
   "metadata": {},
   "source": [
    "## 1 - String"
   ]
  },
  {
   "cell_type": "code",
   "execution_count": 2,
   "metadata": {},
   "outputs": [
    {
     "name": "stdout",
     "output_type": "stream",
     "text": [
      "id(A):  2242735740272\n",
      "<class 'str'>  is an immutable data type!\n",
      "id(A):  2242735740272\n"
     ]
    }
   ],
   "source": [
    "A = 'abcd'\n",
    "print(\"id(A): \",id(A))\n",
    "try:\n",
    "    A[0] = 'b'\n",
    "    print(type(A),\" is a mutable data type!\")\n",
    "except:\n",
    "    print(type(A),\" is an immutable data type!\")\n",
    "finally:\n",
    "    print(\"id(A): \",id(A))\n",
    "#"
   ]
  },
  {
   "cell_type": "markdown",
   "metadata": {},
   "source": [
    "## 2 - Tuple"
   ]
  },
  {
   "cell_type": "code",
   "execution_count": 3,
   "metadata": {},
   "outputs": [
    {
     "name": "stdout",
     "output_type": "stream",
     "text": [
      "id(A):  2242653143104\n",
      "<class 'tuple'>  is an immutable data type!\n",
      "id(A):  2242735481280\n"
     ]
    }
   ],
   "source": [
    "A = ()\n",
    "print(\"id(A): \",id(A))\n",
    "try:\n",
    "    A = (3, 6, 9, 12, 15, 18)\n",
    "    A[1] = 9\n",
    "    print(type(A),\" is a mutable data type!\")\n",
    "except:\n",
    "    print(type(A),\" is an immutable data type!\")\n",
    "finally:\n",
    "    print(\"id(A): \",id(A))\n",
    "#"
   ]
  },
  {
   "cell_type": "markdown",
   "metadata": {},
   "source": [
    "## 3 - Frozen Set "
   ]
  },
  {
   "cell_type": "code",
   "execution_count": 27,
   "metadata": {},
   "outputs": [
    {
     "name": "stdout",
     "output_type": "stream",
     "text": [
      "id(A):  2242735831968\n",
      "<class 'frozenset'>  is an immutable data type!\n",
      "id(A):  2242735831968\n"
     ]
    }
   ],
   "source": [
    "A = frozenset([\"dog\", \"lizard\", \"cheetah\"])\n",
    "print(\"id(A): \",id(A))\n",
    "try:\n",
    "    A.add(\"bear\")\n",
    "    print(type(A),\" is a mutable data type!\")\n",
    "except:\n",
    "    print(type(A),\" is an immutable data type!\")\n",
    "finally:\n",
    "    print(\"id(A): \",id(A))    \n",
    "#"
   ]
  },
  {
   "cell_type": "markdown",
   "metadata": {},
   "source": [
    "## 4 - Int  "
   ]
  },
  {
   "cell_type": "code",
   "execution_count": 28,
   "metadata": {},
   "outputs": [
    {
     "name": "stdout",
     "output_type": "stream",
     "text": [
      "id(A):  2242653153648\n",
      "<class 'int'>  is a immutable data type!\n",
      "id(A):  2242653153680\n"
     ]
    }
   ],
   "source": [
    "A = 3 \n",
    "\n",
    "print(\"id(A): \",id(A))\n",
    "\n",
    "try:\n",
    "    B = A\n",
    "    A = A + 1\n",
    "    print(type(A),\" is a immutable data type!\")\n",
    "    \n",
    "\n",
    "except:\n",
    "    print(type(A),\" is an mutable data type!\")\n",
    "\n",
    "finally:\n",
    "    print(\"id(A): \",id(A))    \n",
    "#"
   ]
  },
  {
   "cell_type": "markdown",
   "metadata": {},
   "source": [
    "## 5 - Boolean"
   ]
  },
  {
   "cell_type": "code",
   "execution_count": 29,
   "metadata": {},
   "outputs": [
    {
     "name": "stdout",
     "output_type": "stream",
     "text": [
      "id(A):  140732439656552\n",
      "<class 'bool'>  is a immutable data type!\n",
      "id(A):  140732439656584\n"
     ]
    }
   ],
   "source": [
    "A = True \n",
    "\n",
    "print(\"id(A): \",id(A))\n",
    "\n",
    "try:\n",
    "    A = False\n",
    "    print(type(A),\" is a immutable data type!\")\n",
    "    \n",
    "\n",
    "except:\n",
    "    print(type(A),\" is an mutable data type!\")\n",
    "\n",
    "finally:\n",
    "    print(\"id(A): \",id(A))    "
   ]
  },
  {
   "cell_type": "markdown",
   "metadata": {},
   "source": [
    "## 6 - Float"
   ]
  },
  {
   "cell_type": "code",
   "execution_count": 30,
   "metadata": {},
   "outputs": [
    {
     "name": "stdout",
     "output_type": "stream",
     "text": [
      "id(A):  2242735709840\n",
      "<class 'float'>  is a immutable data type!\n",
      "id(B):  2242735709840 , which is the same as A's first id value\n",
      "id(A):  2242735709680 , which is different from the first A id value\n"
     ]
    }
   ],
   "source": [
    "A = 5.7 \n",
    "\n",
    "print(\"id(A): \",id(A))\n",
    "\n",
    "try:\n",
    "    B = A\n",
    "    A = 4.58\n",
    "    print(type(A),\" is a immutable data type!\")\n",
    "    \n",
    "\n",
    "except:\n",
    "    print(type(A),\" is an mutable data type!\")\n",
    "\n",
    "finally:\n",
    "    print(\"id(B): \", id(B), \", which is the same as A's first id value\")\n",
    "    print(\"id(A): \",id(A), \", which is different from the first A id value\")    "
   ]
  },
  {
   "cell_type": "markdown",
   "metadata": {},
   "source": [
    "## 7 - Complex"
   ]
  },
  {
   "cell_type": "code",
   "execution_count": 31,
   "metadata": {},
   "outputs": [
    {
     "name": "stdout",
     "output_type": "stream",
     "text": [
      "id(A):  2242735708496\n",
      "<class 'complex'>  is a immutable data type!\n",
      "id(B):  2242735708496 , which is the same as A's first id value\n",
      "id(A):  2242735709872 , which is different from the first A id value\n"
     ]
    }
   ],
   "source": [
    "A = complex(7,6)\n",
    "\n",
    "print(\"id(A): \",id(A))\n",
    "\n",
    "try:\n",
    "    B = A\n",
    "    A = complex(5,1)\n",
    "    print(type(A),\" is a immutable data type!\")\n",
    "    \n",
    "\n",
    "except:\n",
    "    print(type(A),\" is an mutable data type!\")\n",
    "\n",
    "finally:\n",
    "    print(\"id(B): \", id(B), \", which is the same as A's first id value\")\n",
    "    print(\"id(A): \",id(A), \", which is different from the first A id value\")"
   ]
  },
  {
   "cell_type": "markdown",
   "metadata": {},
   "source": [
    "## 8 -Character "
   ]
  },
  {
   "cell_type": "code",
   "execution_count": 35,
   "metadata": {},
   "outputs": [
    {
     "name": "stdout",
     "output_type": "stream",
     "text": [
      "id(A):  2242659489648\n",
      "<class 'str'>  is a immutable data type!\n",
      "id(B):  2242659489648 , which is the same as A's first id value\n",
      "id(A):  2242662210288 , which is different from the first A id value\n"
     ]
    }
   ],
   "source": [
    "A = 'I'\n",
    "\n",
    "print(\"id(A): \",id(A))\n",
    "\n",
    "try:\n",
    "    B = A\n",
    "    A = 'U'\n",
    "    print(type(A),\" is a immutable data type!\")\n",
    "except:\n",
    "    print(type(A),\" is an mutable data type!\")\n",
    "\n",
    "finally:\n",
    "    print(\"id(B): \", id(B), \", which is the same as A's first id value\")\n",
    "    print(\"id(A): \",id(A), \", which is different from the first A id value\")"
   ]
  },
  {
   "cell_type": "markdown",
   "metadata": {},
   "source": [
    "## 9 - Byte Sequence "
   ]
  },
  {
   "cell_type": "code",
   "execution_count": 47,
   "metadata": {},
   "outputs": [
    {
     "name": "stdout",
     "output_type": "stream",
     "text": [
      "id(A):  2242735828640\n",
      "<class 'bytes'>  is an immutable data type!\n",
      "id(A):  2242735828640\n"
     ]
    }
   ],
   "source": [
    "A = bytes([0, 1, 2, 3, 4, 5, 6, 7])\n",
    "\n",
    "print(\"id(A): \",id(A))\n",
    "\n",
    "try:\n",
    "    A.append(99)\n",
    "    print(type(A),\" is a mutable data type!\")\n",
    "except:\n",
    "    print(type(A),\" is an immutable data type!\")\n",
    "\n",
    "finally:\n",
    "    print(\"id(A): \",id(A))"
   ]
  },
  {
   "cell_type": "markdown",
   "metadata": {},
   "source": [
    "## 10 - Byte()"
   ]
  },
  {
   "cell_type": "code",
   "execution_count": 63,
   "metadata": {},
   "outputs": [
    {
     "name": "stdout",
     "output_type": "stream",
     "text": [
      "id(A):  2242735827104\n",
      "<class 'bytes'>  is a immutable data type!\n",
      "id(B):  2242735827104 , which is the same as A's first id value\n",
      "id(A):  2242736179504 , which is different from the first A id value\n"
     ]
    }
   ],
   "source": [
    "A = bytes(9)\n",
    "\n",
    "print(\"id(A): \",id(A))\n",
    "\n",
    "try:\n",
    "    B = A\n",
    "    A = bytes(84)\n",
    "    print(type(A),\" is a immutable data type!\")\n",
    "except:\n",
    "    print(type(A),\" is an mutable data type!\")\n",
    "\n",
    "finally:\n",
    "    print(\"id(B): \", id(B), \", which is the same as A's first id value\")\n",
    "    print(\"id(A): \",id(A), \", which is different from the first A id value\")"
   ]
  },
  {
   "cell_type": "markdown",
   "metadata": {},
   "source": [
    "# MUTABLE OBJECTS"
   ]
  },
  {
   "cell_type": "markdown",
   "metadata": {},
   "source": [
    "## 1 - List"
   ]
  },
  {
   "cell_type": "code",
   "execution_count": 64,
   "metadata": {
    "scrolled": true
   },
   "outputs": [
    {
     "name": "stdout",
     "output_type": "stream",
     "text": [
      "id(A):  2242736179504\n",
      "<class 'list'>  is a mutable data type!\n",
      "id(aLst):  2242736179504\n"
     ]
    }
   ],
   "source": [
    "aLst = ['a','b','c','d']\n",
    "print(\"id(A): \",id(A))\n",
    "try:\n",
    "    aLst[0] = 'A'\n",
    "    print(type(aLst),\" is a mutable data type!\")\n",
    "except:\n",
    "    print(type(aLst),\" is an immutable data type!\")\n",
    "finally:\n",
    "    print(\"id(aLst): \",id(A))\n",
    "#"
   ]
  },
  {
   "cell_type": "markdown",
   "metadata": {},
   "source": [
    "## 2 - Dictionary       "
   ]
  },
  {
   "cell_type": "code",
   "execution_count": 65,
   "metadata": {},
   "outputs": [
    {
     "name": "stdout",
     "output_type": "stream",
     "text": [
      "id(A):  2242736179504\n",
      "<class 'dict'>  is a mutable data type!\n",
      "id(bDi):  2242736179504\n"
     ]
    }
   ],
   "source": [
    "bDi = {1: 'love', 2: 'heart', 3: 'change'}\n",
    "print(\"id(A): \",id(A))\n",
    "try:\n",
    "    bDi[2] = 'A'\n",
    "    print(type(bDi),\" is a mutable data type!\")\n",
    "except:\n",
    "    print(type(bDi),\" is an immutable data type!\")\n",
    "finally:\n",
    "    print(\"id(bDi): \",id(A))\n",
    "#"
   ]
  },
  {
   "cell_type": "markdown",
   "metadata": {},
   "source": [
    "## 3 - Set"
   ]
  },
  {
   "cell_type": "code",
   "execution_count": 66,
   "metadata": {},
   "outputs": [
    {
     "name": "stdout",
     "output_type": "stream",
     "text": [
      "id(A):  2242735831520\n",
      "<class 'set'>  is a mutable data type!\n",
      "id(A):  2242735831520\n"
     ]
    }
   ],
   "source": [
    "A = set([\"a\", \"b\", \"c\"])\n",
    "print(\"id(A): \",id(A))\n",
    "try:\n",
    "    A.add(\"G\")\n",
    "    print(type(A),\" is a mutable data type!\")\n",
    "except:\n",
    "    print(type(A),\" is an immutable data type!\")\n",
    "finally:\n",
    "    print(\"id(A): \",id(A))    \n",
    "#"
   ]
  },
  {
   "cell_type": "markdown",
   "metadata": {},
   "source": [
    "## 4 - Byte Array"
   ]
  },
  {
   "cell_type": "code",
   "execution_count": 67,
   "metadata": {},
   "outputs": [
    {
     "name": "stdout",
     "output_type": "stream",
     "text": [
      "id(A):  2242735840560\n",
      "<class 'bytearray'>  is a mutable data type!\n",
      "id(A):  2242735840560\n"
     ]
    }
   ],
   "source": [
    "A = bytearray([1,2,3,4,5])\n",
    "print(\"id(A): \",id(A))\n",
    "try:\n",
    "    A.append(88)\n",
    "    print(type(A),\" is a mutable data type!\")\n",
    "except:\n",
    "    print(type(A),\" is an immutable data type!\")\n",
    "finally:\n",
    "    print(\"id(A): \",id(A))    \n",
    "#"
   ]
  },
  {
   "cell_type": "markdown",
   "metadata": {},
   "source": [
    "## 5 - User Define Classes (if not designed to be immutable)"
   ]
  },
  {
   "cell_type": "code",
   "execution_count": 72,
   "metadata": {},
   "outputs": [
    {
     "name": "stdout",
     "output_type": "stream",
     "text": [
      "id(A):  2242736238800\n",
      "<class '__main__.Dog'>  is a mutable data type!\n",
      "id(A):  2242736238800\n"
     ]
    }
   ],
   "source": [
    "\n",
    "class Dog:\n",
    "    attr1 = \"mammal\"\n",
    "    name = \"golden\"\n",
    "    def __init__(self, name, att1):\n",
    "        self.name = name\n",
    "        self.attr1 = att1\n",
    "    def nameChange(self, newName):\n",
    "        self.name = newName\n",
    "    \n",
    "\n",
    "goldenDoodle = Dog(\"doodle\", \"skinny\")\n",
    "print(\"id(A): \",id(goldenDoodle))  \n",
    "try:\n",
    "    goldenDoodle.nameChange(\"Demi\")\n",
    "    print(type(goldenDoodle),\" is a mutable data type!\")\n",
    "except:\n",
    "    print(type(goldenDoodle),\" is an immutable data type!\")\n",
    "finally:\n",
    "    print(\"id(A): \",id(goldenDoodle))    \n",
    "#"
   ]
  }
 ],
 "metadata": {
  "kernelspec": {
   "display_name": "Python 3 (ipykernel)",
   "language": "python",
   "name": "python3"
  },
  "language_info": {
   "codemirror_mode": {
    "name": "ipython",
    "version": 3
   },
   "file_extension": ".py",
   "mimetype": "text/x-python",
   "name": "python",
   "nbconvert_exporter": "python",
   "pygments_lexer": "ipython3",
   "version": "3.9.18"
  }
 },
 "nbformat": 4,
 "nbformat_minor": 2
}

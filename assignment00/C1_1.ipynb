{
 "cells": [
  {
   "cell_type": "markdown",
   "metadata": {},
   "source": [
    "# <center>CHALLENGE 1.1<center>"
   ]
  },
  {
   "cell_type": "markdown",
   "metadata": {},
   "source": [
    "<p>Team Name: Morse Coders\n",
    "<p>Student Names: Aubrey Merritt and Carrington Wynn\n",
    "<p>Student W#s: W0749642 and W"
   ]
  },
  {
   "cell_type": "markdown",
   "metadata": {},
   "source": [
    "## Instructions\n",
    "Use generic coding style unless hard-coded values are really necessary.<br>\n",
    "Your code must be efficient and use self-explanatory naming.<br>\n",
    "Run your entire code and save. Then submit this <b>saved</b> copy."
   ]
  },
  {
   "cell_type": "markdown",
   "metadata": {},
   "source": [
    "## Imports"
   ]
  },
  {
   "cell_type": "code",
   "execution_count": null,
   "metadata": {},
   "outputs": [],
   "source": []
  },
  {
   "cell_type": "markdown",
   "metadata": {},
   "source": [
    "# PART I"
   ]
  },
  {
   "cell_type": "markdown",
   "metadata": {},
   "source": [
    "## Format"
   ]
  },
  {
   "cell_type": "code",
   "execution_count": null,
   "metadata": {},
   "outputs": [],
   "source": [
    "A = 'string'#initialize your variable with a value of the data type. Remove this comment.\n",
    "\n",
    "print(\"id(A): \",id(A))\n",
    "\n",
    "try:\n",
    "    #at this line, write your code to modify the variable \"A\",\n",
    "    #do not 'assign' a new value to \"A\"!. See the example below.\n",
    "    #Remove this comment section and the example section below.\n",
    "    '''\n",
    "    Remove this example section before submit your work\n",
    "    Example:\n",
    "\n",
    "    A = 'str1'\n",
    "    A[0] = 'b'\n",
    "    '''\n",
    "    \n",
    "    print(type(A),\" is a mutable data type!\")\n",
    "\n",
    "except:\n",
    "    print(type(A),\" is an immutable data type!\")\n",
    "finally:\n",
    "    print(\"id(A): \",id(A))    \n",
    "#\n"
   ]
  },
  {
   "cell_type": "markdown",
   "metadata": {},
   "source": [
    "# IMMUTABLE OBJECTS"
   ]
  },
  {
   "cell_type": "markdown",
   "metadata": {},
   "source": [
    "## 1 - String"
   ]
  },
  {
   "cell_type": "code",
   "execution_count": 7,
   "metadata": {},
   "outputs": [
    {
     "name": "stdout",
     "output_type": "stream",
     "text": [
      "id(A):  2079101830896\n",
      "<class 'str'>  is an immutable data type!\n",
      "id(A):  2079101830896\n"
     ]
    }
   ],
   "source": [
    "A = 'abcd'\n",
    "print(\"id(A): \",id(A))\n",
    "try:\n",
    "    A[0] = 'b'\n",
    "    print(type(A),\" is a mutable data type!\")\n",
    "except:\n",
    "    print(type(A),\" is an immutable data type!\")\n",
    "finally:\n",
    "    print(\"id(A): \",id(A))\n",
    "#"
   ]
  },
  {
   "cell_type": "markdown",
   "metadata": {},
   "source": [
    "## 2 - Tuple"
   ]
  },
  {
   "cell_type": "code",
   "execution_count": 2,
   "metadata": {},
   "outputs": [
    {
     "name": "stdout",
     "output_type": "stream",
     "text": [
      "id(A):  2447962685504\n",
      "<class 'tuple'>  is an immutable data type!\n",
      "id(A):  2448074762560\n"
     ]
    }
   ],
   "source": [
    "A = ()\n",
    "print(\"id(A): \",id(A))\n",
    "try:\n",
    "    A = (3, 6, 9, 12, 15, 18)\n",
    "    A[1] = 9\n",
    "    print(type(A),\" is a mutable data type!\")\n",
    "except:\n",
    "    print(type(A),\" is an immutable data type!\")\n",
    "finally:\n",
    "    print(\"id(A): \",id(A))\n",
    "#"
   ]
  },
  {
   "cell_type": "markdown",
   "metadata": {},
   "source": [
    "## 3 - Set"
   ]
  },
  {
   "cell_type": "code",
   "execution_count": 13,
   "metadata": {},
   "outputs": [
    {
     "name": "stdout",
     "output_type": "stream",
     "text": [
      "id(A):  2448074817088\n",
      "<class 'set'>  is an immutable data type!\n",
      "id(A):  2448074817088\n"
     ]
    }
   ],
   "source": [
    "A = {2, 'int'}\n",
    "print(\"id(A): \",id(A))\n",
    "try:\n",
    "    A[1] = 'why'\n",
    "    print(type(A),\" is a mutable data type!\")\n",
    "except:\n",
    "    print(type(A),\" is an immutable data type!\")\n",
    "finally:\n",
    "    print(\"id(A): \",id(A))    \n",
    "#"
   ]
  },
  {
   "cell_type": "markdown",
   "metadata": {},
   "source": [
    "## 4 - Int"
   ]
  },
  {
   "cell_type": "code",
   "execution_count": 19,
   "metadata": {},
   "outputs": [
    {
     "name": "stdout",
     "output_type": "stream",
     "text": [
      "id(A):  2770975222320\n",
      "<class 'int'>  is an immutable data type!\n",
      "id(A):  2770975222320\n"
     ]
    }
   ],
   "source": [
    "A = 9\n",
    "print(\"id(A): \",id(A))\n",
    "try:\n",
    "    A[0] = 3\n",
    "    print(type(A),\" is a mutable data type!\")\n",
    "except:\n",
    "    print(type(A),\" is an immutable data type!\")\n",
    "finally:\n",
    "    print(\"id(A): \",id(A))    \n",
    "#"
   ]
  },
  {
   "cell_type": "markdown",
   "metadata": {},
   "source": [
    "## 5 - Complex"
   ]
  },
  {
   "cell_type": "code",
   "execution_count": 20,
   "metadata": {},
   "outputs": [
    {
     "name": "stdout",
     "output_type": "stream",
     "text": [
      "id(A):  2771059273520\n",
      "<class 'complex'>  is an immutable data type!\n",
      "id(A):  2771059273520\n"
     ]
    }
   ],
   "source": [
    "A = complex(1,2)\n",
    "print(\"id(A): \",id(A))\n",
    "try:\n",
    "    A[0] = 2\n",
    "    print(type(A),\" is a mutable data type!\")\n",
    "except:\n",
    "    print(type(A),\" is an immutable data type!\")\n",
    "finally:\n",
    "    print(\"id(A): \",id(A))    \n",
    "#"
   ]
  },
  {
   "cell_type": "markdown",
   "metadata": {},
   "source": [
    "## 6 - Float"
   ]
  },
  {
   "cell_type": "code",
   "execution_count": 24,
   "metadata": {},
   "outputs": [
    {
     "name": "stdout",
     "output_type": "stream",
     "text": [
      "id(A):  2771057106448\n",
      "<class 'float'>  is an immutable data type!\n",
      "id(A):  2771057106448\n"
     ]
    }
   ],
   "source": [
    "A = 3.15\n",
    "print(\"id(A): \",id(A))\n",
    "try:\n",
    "    A[0] = 3.2\n",
    "    print(type(A),\" is a mutable data type!\")\n",
    "except:\n",
    "    print(type(A),\" is an immutable data type!\")\n",
    "finally:\n",
    "    print(\"id(A): \",id(A))    \n",
    "#"
   ]
  },
  {
   "cell_type": "markdown",
   "metadata": {},
   "source": [
    "## 7 - Boolean"
   ]
  },
  {
   "cell_type": "code",
   "execution_count": 25,
   "metadata": {},
   "outputs": [
    {
     "name": "stdout",
     "output_type": "stream",
     "text": [
      "id(A):  140717830568040\n",
      "<class 'bool'>  is an immutable data type!\n",
      "id(A):  140717830568040\n"
     ]
    }
   ],
   "source": [
    "A = True\n",
    "print(\"id(A): \",id(A))\n",
    "try:\n",
    "    A[0] = False\n",
    "    print(type(A),\" is a mutable data type!\")\n",
    "except:\n",
    "    print(type(A),\" is an immutable data type!\")\n",
    "finally:\n",
    "    print(\"id(A): \",id(A))    \n",
    "#"
   ]
  },
  {
   "cell_type": "markdown",
   "metadata": {},
   "source": [
    "## 8 -"
   ]
  },
  {
   "cell_type": "code",
   "execution_count": null,
   "metadata": {},
   "outputs": [],
   "source": []
  },
  {
   "cell_type": "markdown",
   "metadata": {},
   "source": [
    "## 9 - "
   ]
  },
  {
   "cell_type": "code",
   "execution_count": null,
   "metadata": {},
   "outputs": [],
   "source": []
  },
  {
   "cell_type": "markdown",
   "metadata": {},
   "source": [
    "## 10 -"
   ]
  },
  {
   "cell_type": "code",
   "execution_count": null,
   "metadata": {},
   "outputs": [],
   "source": []
  },
  {
   "cell_type": "markdown",
   "metadata": {},
   "source": [
    "# MUTABLE OBJECTS"
   ]
  },
  {
   "cell_type": "markdown",
   "metadata": {},
   "source": [
    "## 1 - List"
   ]
  },
  {
   "cell_type": "code",
   "execution_count": 26,
   "metadata": {
    "scrolled": true
   },
   "outputs": [
    {
     "name": "stdout",
     "output_type": "stream",
     "text": [
      "id(A):  140717830568040\n",
      "<class 'bool'>  is a mutable data type!\n",
      "id(A):  140717830568040\n"
     ]
    }
   ],
   "source": [
    "aLst = ['a','b','c','d']\n",
    "print(\"id(A): \",id(A))\n",
    "try:\n",
    "    aLst[0] = 'A'\n",
    "    print(type(A),\" is a mutable data type!\")\n",
    "except:\n",
    "    print(type(A),\" is an immutable data type!\")\n",
    "finally:\n",
    "    print(\"id(A): \",id(A))\n",
    "#"
   ]
  },
  {
   "cell_type": "markdown",
   "metadata": {},
   "source": [
    "## 2 - "
   ]
  },
  {
   "cell_type": "code",
   "execution_count": null,
   "metadata": {},
   "outputs": [],
   "source": []
  },
  {
   "cell_type": "markdown",
   "metadata": {},
   "source": [
    "## 3 - "
   ]
  },
  {
   "cell_type": "code",
   "execution_count": null,
   "metadata": {},
   "outputs": [],
   "source": []
  },
  {
   "cell_type": "markdown",
   "metadata": {},
   "source": [
    "## 4 -"
   ]
  },
  {
   "cell_type": "code",
   "execution_count": null,
   "metadata": {},
   "outputs": [],
   "source": []
  },
  {
   "cell_type": "markdown",
   "metadata": {},
   "source": [
    "## 5 - "
   ]
  },
  {
   "cell_type": "code",
   "execution_count": null,
   "metadata": {},
   "outputs": [],
   "source": []
  }
 ],
 "metadata": {
  "kernelspec": {
   "display_name": "Python 3 (ipykernel)",
   "language": "python",
   "name": "python3"
  },
  "language_info": {
   "codemirror_mode": {
    "name": "ipython",
    "version": 3
   },
   "file_extension": ".py",
   "mimetype": "text/x-python",
   "name": "python",
   "nbconvert_exporter": "python",
   "pygments_lexer": "ipython3",
   "version": "3.9.18"
  }
 },
 "nbformat": 4,
 "nbformat_minor": 2
}

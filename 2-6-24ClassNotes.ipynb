{
 "cells": [
  {
   "cell_type": "code",
   "execution_count": null,
   "id": "6c5774ff",
   "metadata": {},
   "outputs": [],
   "source": [
    "class Person: \n",
    "    \"A simple example class\"\n",
    "    age = None\n",
    "    def __init__(self, pAge):\n",
    "        self.age = pAge\n",
    "        \n",
    "#end "
   ]
  },
  {
   "cell_type": "code",
   "execution_count": 3,
   "id": "8710646b",
   "metadata": {},
   "outputs": [
    {
     "ename": "SyntaxError",
     "evalue": "invalid syntax (116962593.py, line 1)",
     "output_type": "error",
     "traceback": [
      "\u001b[1;36m  Cell \u001b[1;32mIn[3], line 1\u001b[1;36m\u001b[0m\n\u001b[1;33m    import class Person\u001b[0m\n\u001b[1;37m           ^\u001b[0m\n\u001b[1;31mSyntaxError\u001b[0m\u001b[1;31m:\u001b[0m invalid syntax\n"
     ]
    }
   ],
   "source": [
    "\n",
    "person1 = Person(50)\n",
    "person2 = Person(500)\n",
    "print(f\"Person:{Person.age}\\t Person(): {Person('-').age}\\tperson2: {person2.age} \")\n",
    "Person.age=0\n"
   ]
  },
  {
   "cell_type": "code",
   "execution_count": null,
   "id": "a88b4535",
   "metadata": {},
   "outputs": [],
   "source": []
  }
 ],
 "metadata": {
  "kernelspec": {
   "display_name": "Python 3 (ipykernel)",
   "language": "python",
   "name": "python3"
  },
  "language_info": {
   "codemirror_mode": {
    "name": "ipython",
    "version": 3
   },
   "file_extension": ".py",
   "mimetype": "text/x-python",
   "name": "python",
   "nbconvert_exporter": "python",
   "pygments_lexer": "ipython3",
   "version": "3.11.5"
  }
 },
 "nbformat": 4,
 "nbformat_minor": 5
}

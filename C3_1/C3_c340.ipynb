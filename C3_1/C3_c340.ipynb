{
 "cells": [
  {
   "cell_type": "markdown",
   "metadata": {},
   "source": [
    "# <center>CHALLENGE 3<center>"
   ]
  },
  {
   "cell_type": "markdown",
   "metadata": {},
   "source": [
    "<p>Team Name: Morse Coders\n",
    "<p>Student Names: Aubrey Merritt and Carrington Wynn\n",
    "<p>Student W#s: W0749642 and W0731024"
   ]
  },
  {
   "cell_type": "markdown",
   "metadata": {},
   "source": [
    "## Instructions\n",
    "Use generic coding style unless hard-coded values are really necessary.<br>\n",
    "Your code must be efficient and use self-explanatory naming.<br>\n",
    "Use appropriate Python library methods for each task instead of using loops.<br>\n",
    "Run your entire code and save. Then submit this <b>saved</b> copy."
   ]
  },
  {
   "cell_type": "markdown",
   "metadata": {
    "collapsed": true
   },
   "source": [
    "## Imports"
   ]
  },
  {
   "cell_type": "code",
   "execution_count": 1,
   "metadata": {},
   "outputs": [],
   "source": [
    "import pandas as pd"
   ]
  },
  {
   "cell_type": "markdown",
   "metadata": {},
   "source": [
    "## Loading Data"
   ]
  },
  {
   "cell_type": "markdown",
   "metadata": {
    "collapsed": true
   },
   "source": [
    "Load \"titanic.csv\" into the data frame object \"data\"</br>\n",
    "[train.csv](https://github.com/wesm/pydata-book/blob/2nd-edition/datasets/titanic/train.csv)"
   ]
  },
  {
   "cell_type": "code",
   "execution_count": 2,
   "metadata": {},
   "outputs": [
    {
     "name": "stdout",
     "output_type": "stream",
     "text": [
      "     PassengerId  Survived  Pclass  \\\n",
      "0              1         0       3   \n",
      "1              2         1       1   \n",
      "2              3         1       3   \n",
      "3              4         1       1   \n",
      "4              5         0       3   \n",
      "..           ...       ...     ...   \n",
      "886          887         0       2   \n",
      "887          888         1       1   \n",
      "888          889         0       3   \n",
      "889          890         1       1   \n",
      "890          891         0       3   \n",
      "\n",
      "                                                  Name     Sex   Age  SibSp  \\\n",
      "0                              Braund, Mr. Owen Harris    male  22.0      1   \n",
      "1    Cumings, Mrs. John Bradley (Florence Briggs Th...  female  38.0      1   \n",
      "2                               Heikkinen, Miss. Laina  female  26.0      0   \n",
      "3         Futrelle, Mrs. Jacques Heath (Lily May Peel)  female  35.0      1   \n",
      "4                             Allen, Mr. William Henry    male  35.0      0   \n",
      "..                                                 ...     ...   ...    ...   \n",
      "886                              Montvila, Rev. Juozas    male  27.0      0   \n",
      "887                       Graham, Miss. Margaret Edith  female  19.0      0   \n",
      "888           Johnston, Miss. Catherine Helen \"Carrie\"  female   NaN      1   \n",
      "889                              Behr, Mr. Karl Howell    male  26.0      0   \n",
      "890                                Dooley, Mr. Patrick    male  32.0      0   \n",
      "\n",
      "     Parch            Ticket     Fare Cabin Embarked  \n",
      "0        0         A/5 21171   7.2500   NaN        S  \n",
      "1        0          PC 17599  71.2833   C85        C  \n",
      "2        0  STON/O2. 3101282   7.9250   NaN        S  \n",
      "3        0            113803  53.1000  C123        S  \n",
      "4        0            373450   8.0500   NaN        S  \n",
      "..     ...               ...      ...   ...      ...  \n",
      "886      0            211536  13.0000   NaN        S  \n",
      "887      0            112053  30.0000   B42        S  \n",
      "888      2        W./C. 6607  23.4500   NaN        S  \n",
      "889      0            111369  30.0000  C148        C  \n",
      "890      0            370376   7.7500   NaN        Q  \n",
      "\n",
      "[891 rows x 12 columns]\n"
     ]
    }
   ],
   "source": [
    "info = pd.read_csv('train.csv')\n",
    "\n",
    "#are we supposed to have the syntax: \n",
    "data = pd.DataFrame(info)\n",
    "#since we want 'data' to be a data frame opject?\n",
    "\n",
    "\n",
    "print(data) # checking"
   ]
  },
  {
   "cell_type": "markdown",
   "metadata": {},
   "source": [
    "## Data Processing"
   ]
  },
  {
   "cell_type": "markdown",
   "metadata": {},
   "source": [
    "Create a data frame object \"pasUpto19\".\n",
    "> Columns of pasUpto19 = {AGE_12, AGE_TEEN, PCLASS}.<br>\n",
    "> AGE_12 : Passengers with age in \\[1, 12]<br>\n",
    "> AGE_TEEN : Passengers with age in \\[13, 19]<br>"
   ]
  },
  {
   "cell_type": "code",
   "execution_count": 16,
   "metadata": {},
   "outputs": [
    {
     "name": "stdout",
     "output_type": "stream",
     "text": [
      "     AGE_12  AGE_TEEN  Pclass\n",
      "0       2.0       NaN       3\n",
      "1       NaN      14.0       2\n",
      "2       4.0       NaN       3\n",
      "3       NaN      14.0       3\n",
      "4       2.0       NaN       3\n",
      "..      ...       ...     ...\n",
      "152     NaN      18.0       3\n",
      "153     4.0       NaN       3\n",
      "154     NaN      15.0       3\n",
      "155     NaN      19.0       3\n",
      "156     NaN      19.0       1\n",
      "\n",
      "[157 rows x 3 columns]\n"
     ]
    },
    {
     "name": "stderr",
     "output_type": "stream",
     "text": [
      "C:\\Users\\carri\\AppData\\Local\\Temp\\ipykernel_13724\\405831515.py:3: SettingWithCopyWarning: \n",
      "A value is trying to be set on a copy of a slice from a DataFrame\n",
      "\n",
      "See the caveats in the documentation: https://pandas.pydata.org/pandas-docs/stable/user_guide/indexing.html#returning-a-view-versus-a-copy\n",
      "  pasUpto19.AGE_12.iloc[pasUpto19[pasUpto19[\"AGE_12\"].between(13,19)].index] = None\n",
      "C:\\Users\\carri\\AppData\\Local\\Temp\\ipykernel_13724\\405831515.py:4: SettingWithCopyWarning: \n",
      "A value is trying to be set on a copy of a slice from a DataFrame\n",
      "\n",
      "See the caveats in the documentation: https://pandas.pydata.org/pandas-docs/stable/user_guide/indexing.html#returning-a-view-versus-a-copy\n",
      "  pasUpto19.AGE_TEEN.iloc[pasUpto19[pasUpto19[\"AGE_TEEN\"].between(1,12)].index] = None\n"
     ]
    }
   ],
   "source": [
    "pasUpto19 = pd.DataFrame(zip(data[data[\"Age\"].between(1,19)].Age, data[data[\"Age\"].between(1,19)].Age, data[data[\"Age\"].between(1,19)].Pclass), columns = ['AGE_12', 'AGE_TEEN','Pclass'])\n",
    "\n",
    "pasUpto19.AGE_12.iloc[pasUpto19[pasUpto19[\"AGE_12\"].between(13,19)].index] = None\n",
    "pasUpto19.AGE_TEEN.iloc[pasUpto19[pasUpto19[\"AGE_TEEN\"].between(1,12)].index] = None\n",
    "\n",
    "print(pasUpto19)\n",
    "\n",
    "\n",
    "#1st data is calling dataframe \n",
    "#2nd data is calling the specific column 'Age' within the dataframe that have the ages bettween 1 -19\n",
    "#.Age is retreving the actual column from the data DataFrame \n",
    "#'Age' is retreving the reference of the Age column so we can retreive the age ranges that we need \n",
    "# 157 is the number of passangers \n"
   ]
  },
  {
   "cell_type": "markdown",
   "metadata": {},
   "source": [
    "Display 5 rows below and above the middle row of \"pasUpto19\":"
   ]
  },
  {
   "cell_type": "code",
   "execution_count": 22,
   "metadata": {},
   "outputs": [
    {
     "name": "stdout",
     "output_type": "stream",
     "text": [
      "Enter how many rows you want to display from the middle: 5\n",
      "Middle row index value is:  78 \n",
      "\n",
      "    AGE_12  AGE_TEEN  Pclass\n",
      "73     1.0       NaN       3 \n",
      "\n",
      " \n",
      "    AGE_12  AGE_TEEN  Pclass\n",
      "74     NaN      18.0       2 \n",
      "\n",
      " \n",
      "    AGE_12  AGE_TEEN  Pclass\n",
      "75     1.0       NaN       3 \n",
      "\n",
      " \n",
      "    AGE_12  AGE_TEEN  Pclass\n",
      "76     NaN      17.0       2 \n",
      "\n",
      " \n",
      "    AGE_12  AGE_TEEN  Pclass\n",
      "77     3.0       NaN       2 \n",
      "\n",
      " \n",
      "\n",
      " ------Middle------ \n",
      "\n",
      "\n",
      "    AGE_12  AGE_TEEN  Pclass\n",
      "79    10.0       NaN       3 \n",
      "\n",
      "    AGE_12  AGE_TEEN  Pclass\n",
      "80     NaN      18.0       3 \n",
      "\n",
      "    AGE_12  AGE_TEEN  Pclass\n",
      "81     NaN      19.0       2 \n",
      "\n",
      "    AGE_12  AGE_TEEN  Pclass\n",
      "82     NaN      17.0       3 \n",
      "\n",
      "    AGE_12  AGE_TEEN  Pclass\n",
      "83     NaN      14.0       1 \n",
      "\n"
     ]
    }
   ],
   "source": [
    "userInput = input(\"Enter how many rows you want to display from the middle: \")\n",
    "rowRange = int(userInput)\n",
    "row = int((len(pasUpto19))/2)\n",
    "count= rowRange\n",
    "\n",
    "print(\"Middle row index value is: \" , row, \"\\n\")\n",
    "\n",
    "for i in range(1,rowRange+1):\n",
    "    print(pasUpto19.loc[[row-count]], \"\\n\")\n",
    "    count = count - 1\n",
    "    print(\" \")\n",
    "    \n",
    "print(\"\\n\", \"------Middle------\" ,\"\\n\\n\")\n",
    "\n",
    "for i in range(1,rowRange+1):\n",
    "    print(pasUpto19.loc[[row+i]], \"\\n\")\n"
   ]
  },
  {
   "cell_type": "markdown",
   "metadata": {},
   "source": [
    "Group pasUpto19 by AGE_TEEN:"
   ]
  },
  {
   "cell_type": "code",
   "execution_count": 11,
   "metadata": {},
   "outputs": [],
   "source": [
    "groupedAgeTeen = pasUpto19.groupby([\"AGE_TEEN\"]).Pclass"
   ]
  },
  {
   "cell_type": "markdown",
   "metadata": {},
   "source": [
    "Get the mean of PCLASS for each group of AGE_TEEN and display the mean by age groups:"
   ]
  },
  {
   "cell_type": "code",
   "execution_count": 21,
   "metadata": {
    "jupyter": {
     "outputs_hidden": true
    }
   },
   "outputs": [
    {
     "data": {
      "text/plain": [
       "AGE_TEEN\n",
       "13.0    2.500000\n",
       "14.0    2.500000\n",
       "14.5    3.000000\n",
       "15.0    2.600000\n",
       "16.0    2.529412\n",
       "17.0    2.384615\n",
       "18.0    2.461538\n",
       "19.0    2.360000\n",
       "Name: Pclass, dtype: float64"
      ]
     },
     "execution_count": 21,
     "metadata": {},
     "output_type": "execute_result"
    }
   ],
   "source": [
    "groupedAgeTeen.mean()"
   ]
  },
  {
   "cell_type": "markdown",
   "metadata": {},
   "source": [
    "Sort \"pasUpto19\" by the age of teenages and store into a DF object \"pasUpto19_sortTeen\":"
   ]
  },
  {
   "cell_type": "code",
   "execution_count": 20,
   "metadata": {
    "jupyter": {
     "outputs_hidden": true
    }
   },
   "outputs": [
    {
     "name": "stdout",
     "output_type": "stream",
     "text": [
      "     AGE_12  AGE_TEEN  Pclass\n",
      "133     NaN      13.0       3\n",
      "85      NaN      13.0       2\n",
      "114     NaN      14.0       3\n",
      "113     NaN      14.0       3\n",
      "83      NaN      14.0       1\n",
      "..      ...       ...     ...\n",
      "143     2.0       NaN       3\n",
      "144     1.0       NaN       2\n",
      "149     4.0       NaN       3\n",
      "150     9.0       NaN       3\n",
      "153     4.0       NaN       3\n",
      "\n",
      "[157 rows x 3 columns]\n"
     ]
    }
   ],
   "source": [
    "pasUpto19_sortTeen = pd.DataFrame(pasUpto19).sort_values(by=['AGE_TEEN'])\n",
    "print(pasUpto19_sortTeen)"
   ]
  },
  {
   "cell_type": "markdown",
   "metadata": {},
   "source": [
    "## Summarize Data"
   ]
  },
  {
   "cell_type": "markdown",
   "metadata": {},
   "source": [
    "Create \"pasUpto19_stat\" an object from the statistics of pasUpto19. Use the method describe(). Print the statistics."
   ]
  },
  {
   "cell_type": "code",
   "execution_count": 19,
   "metadata": {
    "jupyter": {
     "outputs_hidden": true
    }
   },
   "outputs": [
    {
     "name": "stdout",
     "output_type": "stream",
     "text": [
      "          AGE_12   AGE_TEEN      Pclass\n",
      "count  62.000000  95.000000  157.000000\n",
      "mean    5.225806  17.215789    2.541401\n",
      "std     3.276440   1.633513    0.711539\n",
      "min     1.000000  13.000000    1.000000\n",
      "25%     2.000000  16.000000    2.000000\n",
      "50%     4.000000  18.000000    3.000000\n",
      "75%     8.000000  19.000000    3.000000\n",
      "max    12.000000  19.000000    3.000000\n"
     ]
    }
   ],
   "source": [
    "pasUpto19_stat = pd.DataFrame(pasUpto19).describe()\n",
    "print(pasUpto19_stat)"
   ]
  },
  {
   "cell_type": "markdown",
   "metadata": {},
   "source": [
    "Store each statistics of pasUpto19_stat into a multi-dimensional list \"pasUpto19_stat_lst\" individually. Print the list."
   ]
  },
  {
   "cell_type": "code",
   "execution_count": 18,
   "metadata": {
    "jupyter": {
     "outputs_hidden": true
    }
   },
   "outputs": [
    {
     "name": "stdout",
     "output_type": "stream",
     "text": [
      "<xarray.Dataset>\n",
      "Dimensions:   (index: 8)\n",
      "Coordinates:\n",
      "  * index     (index) object 'count' 'mean' 'std' 'min' '25%' '50%' '75%' 'max'\n",
      "Data variables:\n",
      "    AGE_12    (index) float64 62.0 5.226 3.276 1.0 2.0 4.0 8.0 12.0\n",
      "    AGE_TEEN  (index) float64 95.0 17.22 1.634 13.0 16.0 18.0 19.0 19.0\n",
      "    Pclass    (index) float64 157.0 2.541 0.7115 1.0 2.0 3.0 3.0 3.0\n"
     ]
    }
   ],
   "source": [
    "pasUpto19_stat_lst = pasUpto19_stat.to_xarray()\n",
    "print(pasUpto19_stat_lst)"
   ]
  },
  {
   "cell_type": "markdown",
   "metadata": {},
   "source": [
    "Print rows where AGE_12 >= mean of AGE_12 or AGE_TEEN >= mean AGE_TEEN."
   ]
  },
  {
   "cell_type": "code",
   "execution_count": 28,
   "metadata": {
    "jupyter": {
     "outputs_hidden": true
    }
   },
   "outputs": [
    {
     "name": "stdout",
     "output_type": "stream",
     "text": [
      "Rows where AGE_12 >= mean of AGE_12: \n",
      "Mean of AGE_12: 5.225806451612903\n",
      " \n",
      "    AGE_12  AGE_TEEN  Pclass\n",
      "0      8.0       NaN     3.0\n",
      "1      7.0       NaN     3.0\n",
      "2     11.0       NaN     3.0\n",
      "3     12.0       NaN     3.0\n",
      "4      9.0       NaN     3.0\n",
      "5      9.0       NaN     3.0\n",
      "6      9.0       NaN     3.0\n",
      "7      8.0       NaN     2.0\n",
      "8      7.0       NaN     3.0\n",
      "9     10.0       NaN     3.0\n",
      "10     9.0       NaN     3.0\n",
      "11     9.0       NaN     3.0\n",
      "12     7.0       NaN     2.0\n",
      "13     9.0       NaN     3.0\n",
      "14    11.0       NaN     3.0\n",
      "15     8.0       NaN     2.0\n",
      "16     9.0       NaN     3.0\n",
      "17     6.0       NaN     2.0\n",
      "18    11.0       NaN     3.0\n",
      "19     6.0       NaN     3.0\n",
      "20     8.0       NaN     3.0\n",
      "21    11.0       NaN     1.0\n",
      "22     6.0       NaN     3.0\n",
      "23    10.0       NaN     3.0\n",
      "24     9.0       NaN     3.0\n"
     ]
    }
   ],
   "source": [
    "#find the mean of either Age_12 or Age_Teen \n",
    "#display the rows that have greater or equal the mean \n",
    "# possible function iterrows()\n",
    "\n",
    "meanOfAge12 = pd.DataFrame(columns = ['AGE_12', 'AGE_TEEN','Pclass'] )\n",
    "info = pasUpto19_stat.at[\"mean\", \"AGE_12\"]\n",
    "mean = float(info)\n",
    "\n",
    "rows = len(pasUpto19)\n",
    "\n",
    "print(\"Rows where AGE_12 >= mean of AGE_12: \")\n",
    "print(\"Mean of AGE_12:\",mean)\n",
    "print(\" \")\n",
    "\n",
    "for i in range(rows):\n",
    "    test = float(pasUpto19.at[i,\"AGE_12\"])\n",
    "    if(test > mean):\n",
    "        meanOfAge12.loc[len(meanOfAge12)] = pasUpto19.loc[i]\n",
    "        \n",
    "print(meanOfAge12)\n"
   ]
  },
  {
   "cell_type": "markdown",
   "metadata": {
    "collapsed": true
   },
   "source": [
    "## Use of method \"eval(Age ...)\""
   ]
  },
  {
   "cell_type": "markdown",
   "metadata": {
    "collapsed": true
   },
   "source": [
    "<b>Sample Code Snippet:</b><br>\n",
    "<p>\n",
    "dic = {\"x\": pd.Series([2,-1,3,5], name=\"x\"),\n",
    "      \"y\": pd.Series((10,11,12), name=\"y\")\n",
    "      }<br>\n",
    "df = pd.DataFrame(dic)<br>\n",
    "print(df)<br>\n",
    "df.eval(\"x == 5\")\n",
    "</p>"
   ]
  },
  {
   "cell_type": "markdown",
   "metadata": {},
   "source": [
    "Get passengers whose age is in \\[3,7) or in \\[12, 15] and store into \"pas3to6_12to15\":"
   ]
  },
  {
   "cell_type": "code",
   "execution_count": null,
   "metadata": {
    "jupyter": {
     "outputs_hidden": true
    }
   },
   "outputs": [],
   "source": []
  },
  {
   "cell_type": "markdown",
   "metadata": {},
   "source": [
    "## Plots"
   ]
  },
  {
   "cell_type": "markdown",
   "metadata": {},
   "source": [
    "Create a figure \"Plots for Pclass and Age\"<br>\n",
    "Plot histograms for \"PCLASS\", \"AGE_12\", and \"AGE_TEEN\" side by side:"
   ]
  },
  {
   "cell_type": "code",
   "execution_count": null,
   "metadata": {
    "jupyter": {
     "outputs_hidden": true
    }
   },
   "outputs": [],
   "source": []
  },
  {
   "cell_type": "markdown",
   "metadata": {},
   "source": [
    "Add a scatter plot for \"PCLASS\" vs. \"AGE_12\" into the first cell and \"PCLASS\" vs. \"AGE_TEEN\" into the last cell on the same figure at the second row:"
   ]
  },
  {
   "cell_type": "code",
   "execution_count": null,
   "metadata": {},
   "outputs": [],
   "source": []
  },
  {
   "cell_type": "markdown",
   "metadata": {
    "collapsed": true
   },
   "source": [
    "## <center> REFERENCES </center>\n",
    "List resources (book, internet page, etc.) that you used to complete this challenge."
   ]
  },
  {
   "cell_type": "markdown",
   "metadata": {},
   "source": [
    "pandas: Comparison with SAS - https://pandas.pydata.org/pandas-docs/stable/getting_started/comparison/comparison_with_sas.html \n",
    "\n",
    "GeeksForGeeks: Split Pandas Dataframe by Rows - https://www.geeksforgeeks.org/split-pandas-dataframe-by-rows/ \n",
    "\n",
    "https://pandas.pydata.org/docs/getting_started/intro_tutorials/02_read_write.html\n",
    "\n",
    "https://pandas.pydata.org/docs/reference/api/pandas.DataFrame.loc.html#pandas.DataFrame.loc\n",
    "\n",
    "https://www.geeksforgeeks.org/python-pandas-dataframe-groupby/\n",
    "\n",
    "https://pandas.pydata.org/docs/reference/api/pandas.DataFrame.sort_values.html\n",
    "\n",
    "https://pandas.pydata.org/docs/reference/api/pandas.DataFrame.mean.html\n",
    "\n",
    "https://pandas.pydata.org/docs/reference/api/pandas.DataFrame.describe.html\n",
    "\n",
    "https://pandas.pydata.org/docs/reference/api/pandas.DataFrame.to_xarray.html\n",
    "\n",
    "https://pandas.pydata.org/pandas-docs/stable/reference/api/pandas.DataFrame.at.html#pandas.DataFrame.at\n",
    "\n",
    "https://www.geeksforgeeks.org/zip-in-python/\n",
    "\n",
    "https://www.geeksforgeeks.org/create-pandas-dataframe-from-lists-using-zip/"
   ]
  },
  {
   "cell_type": "code",
   "execution_count": null,
   "metadata": {},
   "outputs": [],
   "source": []
  }
 ],
 "metadata": {
  "kernelspec": {
   "display_name": "Python 3 (ipykernel)",
   "language": "python",
   "name": "python3"
  },
  "language_info": {
   "codemirror_mode": {
    "name": "ipython",
    "version": 3
   },
   "file_extension": ".py",
   "mimetype": "text/x-python",
   "name": "python",
   "nbconvert_exporter": "python",
   "pygments_lexer": "ipython3",
   "version": "3.11.5"
  }
 },
 "nbformat": 4,
 "nbformat_minor": 2
}

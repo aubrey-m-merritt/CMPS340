{
 "cells": [
  {
   "cell_type": "markdown",
   "metadata": {},
   "source": [
    "# <center>CHALLENGE 3<center>"
   ]
  },
  {
   "cell_type": "markdown",
   "metadata": {},
   "source": [
    "<p>Team Name: Morse Coders\n",
    "<p>Student Names: Aubrey Merritt and Carrington Wynn\n",
    "<p>Student W#s: W0749642 and W0731024"
   ]
  },
  {
   "cell_type": "markdown",
   "metadata": {},
   "source": [
    "## Instructions\n",
    "Use generic coding style unless hard-coded values are really necessary.<br>\n",
    "Your code must be efficient and use self-explanatory naming.<br>\n",
    "Use appropriate Python library methods for each task instead of using loops.<br>\n",
    "Run your entire code and save. Then submit this <b>saved</b> copy."
   ]
  },
  {
   "cell_type": "markdown",
   "metadata": {
    "collapsed": true
   },
   "source": [
    "## Imports"
   ]
  },
  {
   "cell_type": "code",
   "execution_count": 108,
   "metadata": {},
   "outputs": [],
   "source": [
    "import pandas as pd\n",
    "import numpy as np\n",
    "import matplotlib.pyplot as plt\n",
    "import seaborn as sns"
   ]
  },
  {
   "cell_type": "markdown",
   "metadata": {},
   "source": [
    "## Loading Data"
   ]
  },
  {
   "cell_type": "markdown",
   "metadata": {
    "collapsed": true
   },
   "source": [
    "Load \"titanic.csv\" into the data frame object \"data\"</br>\n",
    "[train.csv](https://github.com/wesm/pydata-book/blob/2nd-edition/datasets/titanic/train.csv)"
   ]
  },
  {
   "cell_type": "code",
   "execution_count": 109,
   "metadata": {},
   "outputs": [
    {
     "name": "stdout",
     "output_type": "stream",
     "text": [
      "     PassengerId  Survived  Pclass  \\\n",
      "0              1         0       3   \n",
      "1              2         1       1   \n",
      "2              3         1       3   \n",
      "3              4         1       1   \n",
      "4              5         0       3   \n",
      "..           ...       ...     ...   \n",
      "886          887         0       2   \n",
      "887          888         1       1   \n",
      "888          889         0       3   \n",
      "889          890         1       1   \n",
      "890          891         0       3   \n",
      "\n",
      "                                                  Name     Sex   Age  SibSp  \\\n",
      "0                              Braund, Mr. Owen Harris    male  22.0      1   \n",
      "1    Cumings, Mrs. John Bradley (Florence Briggs Th...  female  38.0      1   \n",
      "2                               Heikkinen, Miss. Laina  female  26.0      0   \n",
      "3         Futrelle, Mrs. Jacques Heath (Lily May Peel)  female  35.0      1   \n",
      "4                             Allen, Mr. William Henry    male  35.0      0   \n",
      "..                                                 ...     ...   ...    ...   \n",
      "886                              Montvila, Rev. Juozas    male  27.0      0   \n",
      "887                       Graham, Miss. Margaret Edith  female  19.0      0   \n",
      "888           Johnston, Miss. Catherine Helen \"Carrie\"  female   NaN      1   \n",
      "889                              Behr, Mr. Karl Howell    male  26.0      0   \n",
      "890                                Dooley, Mr. Patrick    male  32.0      0   \n",
      "\n",
      "     Parch            Ticket     Fare Cabin Embarked  \n",
      "0        0         A/5 21171   7.2500   NaN        S  \n",
      "1        0          PC 17599  71.2833   C85        C  \n",
      "2        0  STON/O2. 3101282   7.9250   NaN        S  \n",
      "3        0            113803  53.1000  C123        S  \n",
      "4        0            373450   8.0500   NaN        S  \n",
      "..     ...               ...      ...   ...      ...  \n",
      "886      0            211536  13.0000   NaN        S  \n",
      "887      0            112053  30.0000   B42        S  \n",
      "888      2        W./C. 6607  23.4500   NaN        S  \n",
      "889      0            111369  30.0000  C148        C  \n",
      "890      0            370376   7.7500   NaN        Q  \n",
      "\n",
      "[891 rows x 12 columns]\n"
     ]
    }
   ],
   "source": [
    "url = (\"https://raw.githubusercontent.com/wesm/pydata-book/2nd-edition/datasets/titanic/train.csv\")\n",
    "\n",
    "\n",
    "info = pd.read_csv(url)\n",
    "\n",
    "#are we supposed to have the syntax: \n",
    "data = pd.DataFrame(info)\n",
    "#since we want 'data' to be a data frame opject?\n",
    "\n",
    "print(data) # checking"
   ]
  },
  {
   "cell_type": "markdown",
   "metadata": {},
   "source": [
    "## Data Processing"
   ]
  },
  {
   "cell_type": "markdown",
   "metadata": {},
   "source": [
    "Create a data frame object \"pasUpto19\".\n",
    "> Columns of pasUpto19 = {AGE_12, AGE_TEEN, PCLASS}.<br>\n",
    "> AGE_12 : Passengers with age in \\[1, 12]<br>\n",
    "> AGE_TEEN : Passengers with age in \\[13, 19]<br>"
   ]
  },
  {
   "cell_type": "code",
   "execution_count": 110,
   "metadata": {},
   "outputs": [
    {
     "name": "stdout",
     "output_type": "stream",
     "text": [
      "     AGE_12  AGE_TEEN  Pclass\n",
      "0       2.0       NaN       3\n",
      "1       NaN      14.0       2\n",
      "2       4.0       NaN       3\n",
      "3       NaN      14.0       3\n",
      "4       2.0       NaN       3\n",
      "..      ...       ...     ...\n",
      "152     NaN      18.0       3\n",
      "153     4.0       NaN       3\n",
      "154     NaN      15.0       3\n",
      "155     NaN      19.0       3\n",
      "156     NaN      19.0       1\n",
      "\n",
      "[157 rows x 3 columns]\n"
     ]
    }
   ],
   "source": [
    "pd.options.mode.chained_assignment = None # default='warn'\n",
    "\n",
    "pasUpto19 = pd.DataFrame(zip(data[data[\"Age\"].between(1,19)].Age, data[data[\"Age\"].between(1,19)].Age, data[data[\"Age\"].between(1,19)].Pclass), columns = ['AGE_12', 'AGE_TEEN','Pclass'])\n",
    "\n",
    "pasUpto19.AGE_12.iloc[pasUpto19[pasUpto19[\"AGE_12\"].between(13,19)].index] = None\n",
    "pasUpto19.AGE_TEEN.iloc[pasUpto19[pasUpto19[\"AGE_TEEN\"].between(1,12)].index] = None\n",
    "\n",
    "print(pasUpto19)\n",
    "\n",
    "#1st data is calling dataframe \n",
    "#2nd data is calling the specific column 'Age' within the dataframe that have the ages bettween 1 -19\n",
    "#.Age is retreving the actual column from the data DataFrame \n",
    "#'Age' is retreving the reference of the Age column so we can retreive the age ranges that we need \n",
    "# 157 is the number of passangers"
   ]
  },
  {
   "cell_type": "markdown",
   "metadata": {},
   "source": [
    "Display 5 rows below and above the middle row of \"pasUpto19\":"
   ]
  },
  {
   "cell_type": "code",
   "execution_count": 111,
   "metadata": {},
   "outputs": [
    {
     "name": "stdout",
     "output_type": "stream",
     "text": [
      "Enter how many rows you want to display from the middle: 5\n",
      "Middle row index value is:  78 \n",
      "\n",
      "    AGE_12  AGE_TEEN  Pclass\n",
      "73     1.0       NaN       3 \n",
      "\n",
      " \n",
      "    AGE_12  AGE_TEEN  Pclass\n",
      "74     NaN      18.0       2 \n",
      "\n",
      " \n",
      "    AGE_12  AGE_TEEN  Pclass\n",
      "75     1.0       NaN       3 \n",
      "\n",
      " \n",
      "    AGE_12  AGE_TEEN  Pclass\n",
      "76     NaN      17.0       2 \n",
      "\n",
      " \n",
      "    AGE_12  AGE_TEEN  Pclass\n",
      "77     3.0       NaN       2 \n",
      "\n",
      " \n",
      "\n",
      " ------Middle------ \n",
      "\n",
      "\n",
      "    AGE_12  AGE_TEEN  Pclass\n",
      "79    10.0       NaN       3 \n",
      "\n",
      "    AGE_12  AGE_TEEN  Pclass\n",
      "80     NaN      18.0       3 \n",
      "\n",
      "    AGE_12  AGE_TEEN  Pclass\n",
      "81     NaN      19.0       2 \n",
      "\n",
      "    AGE_12  AGE_TEEN  Pclass\n",
      "82     NaN      17.0       3 \n",
      "\n",
      "    AGE_12  AGE_TEEN  Pclass\n",
      "83     NaN      14.0       1 \n",
      "\n"
     ]
    }
   ],
   "source": [
    "userInput = input(\"Enter how many rows you want to display from the middle: \")\n",
    "rowRange = int(userInput)\n",
    "row = int((len(pasUpto19))/2)\n",
    "count= rowRange\n",
    "\n",
    "print(\"Middle row index value is: \", row, \"\\n\")\n",
    "\n",
    "for i in range(1,rowRange+1):\n",
    "    print(pasUpto19.loc[[row-count]], \"\\n\")\n",
    "    count = count - 1\n",
    "    print(\" \")\n",
    "#\n",
    "\n",
    "print(\"\\n\", \"------Middle------\" ,\"\\n\\n\")\n",
    "\n",
    "for i in range(1,rowRange+1):\n",
    "    print(pasUpto19.loc[[row+i]], \"\\n\")\n",
    "#"
   ]
  },
  {
   "cell_type": "markdown",
   "metadata": {},
   "source": [
    "Group pasUpto19 by AGE_TEEN:"
   ]
  },
  {
   "cell_type": "code",
   "execution_count": 112,
   "metadata": {},
   "outputs": [],
   "source": [
    "groupedAgeTeen = pasUpto19.groupby([\"AGE_TEEN\"]).Pclass"
   ]
  },
  {
   "cell_type": "markdown",
   "metadata": {},
   "source": [
    "Get the mean of PCLASS for each group of AGE_TEEN and display the mean by age groups:"
   ]
  },
  {
   "cell_type": "code",
   "execution_count": 113,
   "metadata": {
    "jupyter": {
     "outputs_hidden": true
    }
   },
   "outputs": [
    {
     "data": {
      "text/plain": [
       "AGE_TEEN\n",
       "13.0    2.500000\n",
       "14.0    2.500000\n",
       "14.5    3.000000\n",
       "15.0    2.600000\n",
       "16.0    2.529412\n",
       "17.0    2.384615\n",
       "18.0    2.461538\n",
       "19.0    2.360000\n",
       "Name: Pclass, dtype: float64"
      ]
     },
     "execution_count": 113,
     "metadata": {},
     "output_type": "execute_result"
    }
   ],
   "source": [
    "groupedAgeTeen.mean()"
   ]
  },
  {
   "cell_type": "markdown",
   "metadata": {},
   "source": [
    "Sort \"pasUpto19\" by the age of teenages and store into a DF object \"pasUpto19_sortTeen\":"
   ]
  },
  {
   "cell_type": "code",
   "execution_count": 114,
   "metadata": {
    "jupyter": {
     "outputs_hidden": true
    }
   },
   "outputs": [
    {
     "name": "stdout",
     "output_type": "stream",
     "text": [
      "     AGE_12  AGE_TEEN  Pclass\n",
      "133     NaN      13.0       3\n",
      "85      NaN      13.0       2\n",
      "114     NaN      14.0       3\n",
      "113     NaN      14.0       3\n",
      "83      NaN      14.0       1\n",
      "..      ...       ...     ...\n",
      "143     2.0       NaN       3\n",
      "144     1.0       NaN       2\n",
      "149     4.0       NaN       3\n",
      "150     9.0       NaN       3\n",
      "153     4.0       NaN       3\n",
      "\n",
      "[157 rows x 3 columns]\n"
     ]
    }
   ],
   "source": [
    "pasUpto19_sortTeen = pd.DataFrame(pasUpto19).sort_values(by=['AGE_TEEN'])\n",
    "print(pasUpto19_sortTeen)"
   ]
  },
  {
   "cell_type": "markdown",
   "metadata": {},
   "source": [
    "## Summarize Data"
   ]
  },
  {
   "cell_type": "markdown",
   "metadata": {},
   "source": [
    "Create \"pasUpto19_stat\" an object from the statistics of pasUpto19. Use the method describe(). Print the statistics."
   ]
  },
  {
   "cell_type": "code",
   "execution_count": 115,
   "metadata": {
    "jupyter": {
     "outputs_hidden": true
    }
   },
   "outputs": [
    {
     "name": "stdout",
     "output_type": "stream",
     "text": [
      "          AGE_12   AGE_TEEN      Pclass\n",
      "count  62.000000  95.000000  157.000000\n",
      "mean    5.225806  17.215789    2.541401\n",
      "std     3.276440   1.633513    0.711539\n",
      "min     1.000000  13.000000    1.000000\n",
      "25%     2.000000  16.000000    2.000000\n",
      "50%     4.000000  18.000000    3.000000\n",
      "75%     8.000000  19.000000    3.000000\n",
      "max    12.000000  19.000000    3.000000\n"
     ]
    }
   ],
   "source": [
    "pasUpto19_stat = pd.DataFrame(pasUpto19).describe()\n",
    "print(pasUpto19_stat)"
   ]
  },
  {
   "cell_type": "markdown",
   "metadata": {},
   "source": [
    "Store each statistics of pasUpto19_stat into a multi-dimensional list \"pasUpto19_stat_lst\" individually. Print the list."
   ]
  },
  {
   "cell_type": "code",
   "execution_count": 116,
   "metadata": {
    "jupyter": {
     "outputs_hidden": true
    }
   },
   "outputs": [
    {
     "name": "stdout",
     "output_type": "stream",
     "text": [
      "<xarray.Dataset>\n",
      "Dimensions:   (index: 8)\n",
      "Coordinates:\n",
      "  * index     (index) object 'count' 'mean' 'std' 'min' '25%' '50%' '75%' 'max'\n",
      "Data variables:\n",
      "    AGE_12    (index) float64 62.0 5.226 3.276 1.0 2.0 4.0 8.0 12.0\n",
      "    AGE_TEEN  (index) float64 95.0 17.22 1.634 13.0 16.0 18.0 19.0 19.0\n",
      "    Pclass    (index) float64 157.0 2.541 0.7115 1.0 2.0 3.0 3.0 3.0\n"
     ]
    }
   ],
   "source": [
    "pasUpto19_stat_lst = pasUpto19_stat.to_xarray()\n",
    "print(pasUpto19_stat_lst)"
   ]
  },
  {
   "cell_type": "markdown",
   "metadata": {},
   "source": [
    "Print rows where AGE_12 >= mean of AGE_12 or AGE_TEEN >= mean AGE_TEEN."
   ]
  },
  {
   "cell_type": "code",
   "execution_count": 117,
   "metadata": {
    "jupyter": {
     "outputs_hidden": true
    }
   },
   "outputs": [
    {
     "name": "stdout",
     "output_type": "stream",
     "text": [
      "Rows where AGE_12 >= mean of AGE_12: \n",
      "Mean of AGE_12: 5.225806451612903 \n",
      "\n",
      "    AGE_12  AGE_TEEN  Pclass\n",
      "0      8.0       NaN     3.0\n",
      "1      7.0       NaN     3.0\n",
      "2     11.0       NaN     3.0\n",
      "3     12.0       NaN     3.0\n",
      "4      9.0       NaN     3.0\n",
      "5      9.0       NaN     3.0\n",
      "6      9.0       NaN     3.0\n",
      "7      8.0       NaN     2.0\n",
      "8      7.0       NaN     3.0\n",
      "9     10.0       NaN     3.0\n",
      "10     9.0       NaN     3.0\n",
      "11     9.0       NaN     3.0\n",
      "12     7.0       NaN     2.0\n",
      "13     9.0       NaN     3.0\n",
      "14    11.0       NaN     3.0\n",
      "15     8.0       NaN     2.0\n",
      "16     9.0       NaN     3.0\n",
      "17     6.0       NaN     2.0\n",
      "18    11.0       NaN     3.0\n",
      "19     6.0       NaN     3.0\n",
      "20     8.0       NaN     3.0\n",
      "21    11.0       NaN     1.0\n",
      "22     6.0       NaN     3.0\n",
      "23    10.0       NaN     3.0\n",
      "24     9.0       NaN     3.0\n"
     ]
    }
   ],
   "source": [
    "#find the mean of either Age_12 or Age_Teen \n",
    "#display the rows that have greater or equal the mean \n",
    "#possible function iterrows()\n",
    "\n",
    "meanOfAge12 = pd.DataFrame(columns = ['AGE_12', 'AGE_TEEN','Pclass'] )\n",
    "info = pasUpto19_stat.at[\"mean\", \"AGE_12\"]\n",
    "mean = float(info)\n",
    "\n",
    "rows = len(pasUpto19)\n",
    "\n",
    "print(\"Rows where AGE_12 >= mean of AGE_12: \")\n",
    "print(\"Mean of AGE_12:\",mean, \"\\n\")\n",
    "\n",
    "for i in range(rows):\n",
    "    test = float(pasUpto19.at[i,\"AGE_12\"])\n",
    "    if(test > mean):\n",
    "        meanOfAge12.loc[len(meanOfAge12)] = pasUpto19.loc[i]\n",
    "    #\n",
    "#   \n",
    "print(meanOfAge12)"
   ]
  },
  {
   "cell_type": "markdown",
   "metadata": {
    "collapsed": true
   },
   "source": [
    "## Use of method \"eval(Age ...)\""
   ]
  },
  {
   "cell_type": "markdown",
   "metadata": {
    "collapsed": true
   },
   "source": [
    "<b>Sample Code Snippet:</b><br>\n",
    "<p>\n",
    "dic = {\"x\": pd.Series([2,-1,3,5], name=\"x\"),\n",
    "      \"y\": pd.Series((10,11,12), name=\"y\")\n",
    "      }<br>\n",
    "df = pd.DataFrame(dic)<br>\n",
    "print(df)<br>\n",
    "df.eval(\"x == 5\")\n",
    "</p>"
   ]
  },
  {
   "cell_type": "markdown",
   "metadata": {},
   "source": [
    "Get passengers whose age is in \\[3,7) or in \\[12, 15] and store into \"pas3to6_12to15\":"
   ]
  },
  {
   "cell_type": "code",
   "execution_count": 118,
   "metadata": {
    "jupyter": {
     "outputs_hidden": true
    }
   },
   "outputs": [
    {
     "data": {
      "text/html": [
       "<div>\n",
       "<style scoped>\n",
       "    .dataframe tbody tr th:only-of-type {\n",
       "        vertical-align: middle;\n",
       "    }\n",
       "\n",
       "    .dataframe tbody tr th {\n",
       "        vertical-align: top;\n",
       "    }\n",
       "\n",
       "    .dataframe thead th {\n",
       "        text-align: right;\n",
       "    }\n",
       "</style>\n",
       "<table border=\"1\" class=\"dataframe\">\n",
       "  <thead>\n",
       "    <tr style=\"text-align: right;\">\n",
       "      <th></th>\n",
       "      <th>Name</th>\n",
       "      <th>Age</th>\n",
       "      <th>Pclass</th>\n",
       "    </tr>\n",
       "  </thead>\n",
       "  <tbody>\n",
       "    <tr>\n",
       "      <th>0</th>\n",
       "      <td>Nasser, Mrs. Nicholas (Adele Achem)</td>\n",
       "      <td>14.0</td>\n",
       "      <td>2</td>\n",
       "    </tr>\n",
       "    <tr>\n",
       "      <th>1</th>\n",
       "      <td>Sandstrom, Miss. Marguerite Rut</td>\n",
       "      <td>4.0</td>\n",
       "      <td>3</td>\n",
       "    </tr>\n",
       "    <tr>\n",
       "      <th>2</th>\n",
       "      <td>Vestrom, Miss. Hulda Amanda Adolfina</td>\n",
       "      <td>14.0</td>\n",
       "      <td>3</td>\n",
       "    </tr>\n",
       "    <tr>\n",
       "      <th>3</th>\n",
       "      <td>McGowan, Miss. Anna \"Annie\"</td>\n",
       "      <td>15.0</td>\n",
       "      <td>3</td>\n",
       "    </tr>\n",
       "    <tr>\n",
       "      <th>5</th>\n",
       "      <td>Nicola-Yarred, Miss. Jamila</td>\n",
       "      <td>14.0</td>\n",
       "      <td>3</td>\n",
       "    </tr>\n",
       "    <tr>\n",
       "      <th>6</th>\n",
       "      <td>Laroche, Miss. Simonne Marie Anne Andree</td>\n",
       "      <td>3.0</td>\n",
       "      <td>2</td>\n",
       "    </tr>\n",
       "    <tr>\n",
       "      <th>8</th>\n",
       "      <td>West, Miss. Constance Mirium</td>\n",
       "      <td>5.0</td>\n",
       "      <td>2</td>\n",
       "    </tr>\n",
       "    <tr>\n",
       "      <th>10</th>\n",
       "      <td>Skoog, Master. Harald</td>\n",
       "      <td>4.0</td>\n",
       "      <td>3</td>\n",
       "    </tr>\n",
       "    <tr>\n",
       "      <th>11</th>\n",
       "      <td>Zabour, Miss. Hileni</td>\n",
       "      <td>14.5</td>\n",
       "      <td>3</td>\n",
       "    </tr>\n",
       "    <tr>\n",
       "      <th>12</th>\n",
       "      <td>Nicola-Yarred, Master. Elias</td>\n",
       "      <td>12.0</td>\n",
       "      <td>3</td>\n",
       "    </tr>\n",
       "    <tr>\n",
       "      <th>15</th>\n",
       "      <td>Rice, Master. Arthur</td>\n",
       "      <td>4.0</td>\n",
       "      <td>3</td>\n",
       "    </tr>\n",
       "    <tr>\n",
       "      <th>17</th>\n",
       "      <td>Kink-Heilmann, Miss. Luise Gretchen</td>\n",
       "      <td>4.0</td>\n",
       "      <td>3</td>\n",
       "    </tr>\n",
       "    <tr>\n",
       "      <th>18</th>\n",
       "      <td>Navratil, Master. Michel M</td>\n",
       "      <td>3.0</td>\n",
       "      <td>2</td>\n",
       "    </tr>\n",
       "    <tr>\n",
       "      <th>19</th>\n",
       "      <td>Asplund, Miss. Lillian Gertrud</td>\n",
       "      <td>5.0</td>\n",
       "      <td>3</td>\n",
       "    </tr>\n",
       "    <tr>\n",
       "      <th>21</th>\n",
       "      <td>Asplund, Master. Edvin Rojj Felix</td>\n",
       "      <td>3.0</td>\n",
       "      <td>3</td>\n",
       "    </tr>\n",
       "    <tr>\n",
       "      <th>23</th>\n",
       "      <td>Coutts, Master. William Loch \"William\"</td>\n",
       "      <td>3.0</td>\n",
       "      <td>3</td>\n",
       "    </tr>\n",
       "    <tr>\n",
       "      <th>24</th>\n",
       "      <td>Elias, Mr. Tannous</td>\n",
       "      <td>15.0</td>\n",
       "      <td>3</td>\n",
       "    </tr>\n",
       "    <tr>\n",
       "      <th>25</th>\n",
       "      <td>Palsson, Miss. Stina Viola</td>\n",
       "      <td>3.0</td>\n",
       "      <td>3</td>\n",
       "    </tr>\n",
       "    <tr>\n",
       "      <th>26</th>\n",
       "      <td>Richards, Master. William Rowe</td>\n",
       "      <td>3.0</td>\n",
       "      <td>2</td>\n",
       "    </tr>\n",
       "    <tr>\n",
       "      <th>28</th>\n",
       "      <td>Carter, Miss. Lucile Polk</td>\n",
       "      <td>14.0</td>\n",
       "      <td>1</td>\n",
       "    </tr>\n",
       "    <tr>\n",
       "      <th>29</th>\n",
       "      <td>Dodge, Master. Washington</td>\n",
       "      <td>4.0</td>\n",
       "      <td>1</td>\n",
       "    </tr>\n",
       "    <tr>\n",
       "      <th>30</th>\n",
       "      <td>Mellinger, Miss. Madeleine Violet</td>\n",
       "      <td>13.0</td>\n",
       "      <td>2</td>\n",
       "    </tr>\n",
       "    <tr>\n",
       "      <th>31</th>\n",
       "      <td>Baclini, Miss. Marie Catherine</td>\n",
       "      <td>5.0</td>\n",
       "      <td>3</td>\n",
       "    </tr>\n",
       "    <tr>\n",
       "      <th>38</th>\n",
       "      <td>Becker, Miss. Marion Louise</td>\n",
       "      <td>4.0</td>\n",
       "      <td>2</td>\n",
       "    </tr>\n",
       "    <tr>\n",
       "      <th>40</th>\n",
       "      <td>Goodwin, Mr. Charles Edward</td>\n",
       "      <td>14.0</td>\n",
       "      <td>3</td>\n",
       "    </tr>\n",
       "    <tr>\n",
       "      <th>41</th>\n",
       "      <td>Panula, Mr. Jaako Arnold</td>\n",
       "      <td>14.0</td>\n",
       "      <td>3</td>\n",
       "    </tr>\n",
       "    <tr>\n",
       "      <th>42</th>\n",
       "      <td>Madill, Miss. Georgette Alexandra</td>\n",
       "      <td>15.0</td>\n",
       "      <td>1</td>\n",
       "    </tr>\n",
       "    <tr>\n",
       "      <th>43</th>\n",
       "      <td>Karun, Miss. Manca</td>\n",
       "      <td>4.0</td>\n",
       "      <td>3</td>\n",
       "    </tr>\n",
       "    <tr>\n",
       "      <th>44</th>\n",
       "      <td>Harper, Miss. Annie Jessie \"Nina\"</td>\n",
       "      <td>6.0</td>\n",
       "      <td>2</td>\n",
       "    </tr>\n",
       "    <tr>\n",
       "      <th>46</th>\n",
       "      <td>Wells, Miss. Joan</td>\n",
       "      <td>4.0</td>\n",
       "      <td>2</td>\n",
       "    </tr>\n",
       "    <tr>\n",
       "      <th>47</th>\n",
       "      <td>Moor, Master. Meier</td>\n",
       "      <td>6.0</td>\n",
       "      <td>3</td>\n",
       "    </tr>\n",
       "    <tr>\n",
       "      <th>48</th>\n",
       "      <td>Emanuel, Miss. Virginia Ethel</td>\n",
       "      <td>5.0</td>\n",
       "      <td>3</td>\n",
       "    </tr>\n",
       "    <tr>\n",
       "      <th>49</th>\n",
       "      <td>Ayoub, Miss. Banoura</td>\n",
       "      <td>13.0</td>\n",
       "      <td>3</td>\n",
       "    </tr>\n",
       "    <tr>\n",
       "      <th>52</th>\n",
       "      <td>Andersson, Miss. Ebba Iris Alfrida</td>\n",
       "      <td>6.0</td>\n",
       "      <td>3</td>\n",
       "    </tr>\n",
       "    <tr>\n",
       "      <th>54</th>\n",
       "      <td>Yasbeck, Mrs. Antoni (Selini Alexander)</td>\n",
       "      <td>15.0</td>\n",
       "      <td>3</td>\n",
       "    </tr>\n",
       "    <tr>\n",
       "      <th>55</th>\n",
       "      <td>Andersson, Master. Sigvard Harald Elias</td>\n",
       "      <td>4.0</td>\n",
       "      <td>3</td>\n",
       "    </tr>\n",
       "    <tr>\n",
       "      <th>57</th>\n",
       "      <td>Johnson, Master. Harold Theodor</td>\n",
       "      <td>4.0</td>\n",
       "      <td>3</td>\n",
       "    </tr>\n",
       "    <tr>\n",
       "      <th>58</th>\n",
       "      <td>Najib, Miss. Adele Kiamie \"Jane\"</td>\n",
       "      <td>15.0</td>\n",
       "      <td>3</td>\n",
       "    </tr>\n",
       "  </tbody>\n",
       "</table>\n",
       "</div>"
      ],
      "text/plain": [
       "                                        Name   Age  Pclass\n",
       "0        Nasser, Mrs. Nicholas (Adele Achem)  14.0       2\n",
       "1            Sandstrom, Miss. Marguerite Rut   4.0       3\n",
       "2       Vestrom, Miss. Hulda Amanda Adolfina  14.0       3\n",
       "3                McGowan, Miss. Anna \"Annie\"  15.0       3\n",
       "5                Nicola-Yarred, Miss. Jamila  14.0       3\n",
       "6   Laroche, Miss. Simonne Marie Anne Andree   3.0       2\n",
       "8               West, Miss. Constance Mirium   5.0       2\n",
       "10                     Skoog, Master. Harald   4.0       3\n",
       "11                      Zabour, Miss. Hileni  14.5       3\n",
       "12              Nicola-Yarred, Master. Elias  12.0       3\n",
       "15                      Rice, Master. Arthur   4.0       3\n",
       "17       Kink-Heilmann, Miss. Luise Gretchen   4.0       3\n",
       "18                Navratil, Master. Michel M   3.0       2\n",
       "19            Asplund, Miss. Lillian Gertrud   5.0       3\n",
       "21         Asplund, Master. Edvin Rojj Felix   3.0       3\n",
       "23    Coutts, Master. William Loch \"William\"   3.0       3\n",
       "24                        Elias, Mr. Tannous  15.0       3\n",
       "25                Palsson, Miss. Stina Viola   3.0       3\n",
       "26            Richards, Master. William Rowe   3.0       2\n",
       "28                 Carter, Miss. Lucile Polk  14.0       1\n",
       "29                 Dodge, Master. Washington   4.0       1\n",
       "30         Mellinger, Miss. Madeleine Violet  13.0       2\n",
       "31            Baclini, Miss. Marie Catherine   5.0       3\n",
       "38               Becker, Miss. Marion Louise   4.0       2\n",
       "40               Goodwin, Mr. Charles Edward  14.0       3\n",
       "41                  Panula, Mr. Jaako Arnold  14.0       3\n",
       "42         Madill, Miss. Georgette Alexandra  15.0       1\n",
       "43                        Karun, Miss. Manca   4.0       3\n",
       "44         Harper, Miss. Annie Jessie \"Nina\"   6.0       2\n",
       "46                         Wells, Miss. Joan   4.0       2\n",
       "47                       Moor, Master. Meier   6.0       3\n",
       "48             Emanuel, Miss. Virginia Ethel   5.0       3\n",
       "49                      Ayoub, Miss. Banoura  13.0       3\n",
       "52        Andersson, Miss. Ebba Iris Alfrida   6.0       3\n",
       "54   Yasbeck, Mrs. Antoni (Selini Alexander)  15.0       3\n",
       "55   Andersson, Master. Sigvard Harald Elias   4.0       3\n",
       "57           Johnson, Master. Harold Theodor   4.0       3\n",
       "58          Najib, Miss. Adele Kiamie \"Jane\"  15.0       3"
      ]
     },
     "execution_count": 118,
     "metadata": {},
     "output_type": "execute_result"
    }
   ],
   "source": [
    "#[3,7) means 3 - 7 including 3 but not including 7 \n",
    "#[12,15] means 12-15 including both 12 and 15\n",
    "\n",
    "#inital creation of pas3to6_12to15 dataframe\n",
    "pas3to6_12to15 = pd.DataFrame(zip(data[data[\"Age\"].between(3,15)].Name, data[data[\"Age\"].between(3,15)].Age, data[data[\"Age\"].between(3,15)].Pclass), columns = ['Name', 'Age', 'Pclass'])\n",
    "\n",
    "#evaluate dataframe and return boolean result on whether or not the age falls in the category \n",
    "pas3to6_12to15.eval('(3 <= Age < 7) or (12 <= Age <= 15)')\n",
    "\n",
    "#drops the ages that does not fall in the categorey and return the passengers who does within the pas3to6_12to15 dataframe \n",
    "pas3to6_12to15.drop(pas3to6_12to15[pas3to6_12to15['Age'].between(7,11)].index)\n"
   ]
  },
  {
   "cell_type": "markdown",
   "metadata": {},
   "source": [
    "## Plots"
   ]
  },
  {
   "cell_type": "markdown",
   "metadata": {},
   "source": [
    "Create a figure \"Plots for Pclass and Age\"<br>\n",
    "Plot histograms for \"PCLASS\", \"AGE_12\", and \"AGE_TEEN\" side by side:"
   ]
  },
  {
   "cell_type": "code",
   "execution_count": 119,
   "metadata": {
    "jupyter": {
     "outputs_hidden": true
    }
   },
   "outputs": [
    {
     "data": {
      "text/plain": [
       "Text(0.5, 1.0, 'Plots for Ages 13-19')"
      ]
     },
     "execution_count": 119,
     "metadata": {},
     "output_type": "execute_result"
    },
    {
     "data": {
      "image/png": "[encoded data removed]",
      "text/plain": [
       "<Figure size 1500x500 with 3 Axes>"
      ]
     },
     "metadata": {},
     "output_type": "display_data"
    }
   ],
   "source": [
    "#Plotting PCLASS\n",
    "plt.figure(figsize=(15,5),dpi=100)\n",
    "alpha_bar_chart = 0.75\n",
    "\n",
    "\n",
    "graph1 = plt.subplot2grid((1,3),(0,0))\n",
    "                              # np.arrange(start,stop,steps inbetween)\n",
    "plt.hist(pasUpto19.Pclass, bins=np.arange(0.5,4, 1), color='#011f4b')\n",
    "graph1.set_xticks([1,2,3])\n",
    "#labelling our axis and graph for PCLASS\n",
    "plt.xlabel(\"PCLASS\")\n",
    "plt.ylabel(\"Frequency\")\n",
    "plt.title(\"Plots for Passenger Class\")\n",
    "\n",
    "\n",
    "#Plotting AGE_12\n",
    "                         #(how close the graphs are)\n",
    "graph3 = plt.subplot2grid((1,3),(0,1))\n",
    "plt.hist(pasUpto19.AGE_12, bins=np.arange(0.5, 14, 1), color='#005b96')\n",
    "graph3.set_xticks([0,1,2,3,4,5,6,7,8,9,10,11,12])\n",
    "#labelling our axis and graph for AGE_12\n",
    "plt.xlabel(\"AGE_12\")\n",
    "plt.ylabel(\"Frequency\")\n",
    "plt.title(\"Plots for Ages 0-12\")\n",
    "\n",
    "\n",
    "\n",
    "#Plotting AGE_TEEN\n",
    "graph2 = plt.subplot2grid((1,3),(0,2))\n",
    "plt.hist(pasUpto19.AGE_TEEN, bins=np.arange(12.5, 20, 1), color='#6497b1')\n",
    "graph2.set_xticks([13,14,15,16,17,18,19])\n",
    "#labelling our axis and graph for AGE_TEEN\n",
    "plt.xlabel(\"AGE_TEEN\")\n",
    "plt.ylabel(\"Frequency\")\n",
    "plt.title(\"Plots for Ages 13-19\") "
   ]
  },
  {
   "cell_type": "markdown",
   "metadata": {},
   "source": [
    "Add a scatter plot for \"PCLASS\" vs. \"AGE_12\" into the first cell and \"PCLASS\" vs. \"AGE_TEEN\" into the last cell on the same figure at the second row:z"
   ]
  },
  {
   "cell_type": "code",
   "execution_count": 121,
   "metadata": {},
   "outputs": [
    {
     "data": {
      "text/plain": [
       "[Text(0.5, 1.0, 'PCLASS vs AGE_TEEN')]"
      ]
     },
     "execution_count": 121,
     "metadata": {},
     "output_type": "execute_result"
    },
    {
     "data": {
      "image/png": "[encoded data removed]",
      "text/plain": [
       "<Figure size 1500x500 with 2 Axes>"
      ]
     },
     "metadata": {},
     "output_type": "display_data"
    }
   ],
   "source": [
    "#swarmplot for pclass vs AGE_12\n",
    "\n",
    "fig2 = plt.figure(figsize = (15,5), dpi = 100)\n",
    "ax4 = plt.subplot2grid((1,3), (0,0))\n",
    "sns.swarmplot(data = pasUpto19, x = 'Pclass', y = \"AGE_12\", color = 'blue', size = 3).set(title = 'PCLASS vs AGE_12')\n",
    "\n",
    "#swarmplot for pclass vs AGE_TEEN\n",
    "\n",
    "ax5 = plt.subplot2grid((1,3), (0,1))\n",
    "sns.swarmplot(data = pasUpto19, x = 'Pclass', y = \"AGE_TEEN\", color = 'green', size = 3).set(title = 'PCLASS vs AGE_TEEN')\n"
   ]
  },
  {
   "cell_type": "markdown",
   "metadata": {
    "collapsed": true
   },
   "source": [
    "## <center> REFERENCES </center>\n",
    "List resources (book, internet page, etc.) that you used to complete this challenge."
   ]
  },
  {
   "cell_type": "markdown",
   "metadata": {},
   "source": [
    "\n",
    "https://pandas.pydata.org/pandas-docs/stable/getting_started/comparison/comparison_with_sas.html \n",
    "\n",
    "https://www.geeksforgeeks.org/split-pandas-dataframe-by-rows/ \n",
    "\n",
    "https://pandas.pydata.org/docs/getting_started/intro_tutorials/02_read_write.html\n",
    "\n",
    "https://pandas.pydata.org/docs/reference/api/pandas.DataFrame.loc.html#pandas.DataFrame.loc\n",
    "\n",
    "https://www.geeksforgeeks.org/python-pandas-dataframe-groupby/\n",
    "\n",
    "https://pandas.pydata.org/docs/reference/api/pandas.DataFrame.sort_values.html\n",
    "\n",
    "https://pandas.pydata.org/docs/reference/api/pandas.DataFrame.mean.html\n",
    "\n",
    "https://pandas.pydata.org/docs/reference/api/pandas.DataFrame.describe.html\n",
    "\n",
    "https://pandas.pydata.org/docs/reference/api/pandas.DataFrame.to_xarray.html\n",
    "\n",
    "https://pandas.pydata.org/pandas-docs/stable/reference/api/pandas.DataFrame.at.html#pandas.DataFrame.at\n",
    "\n",
    "https://www.geeksforgeeks.org/zip-in-python/\n",
    "\n",
    "https://www.geeksforgeeks.org/create-pandas-dataframe-from-lists-using-zip/\n",
    "\n",
    "https://stackoverflow.com/questions/20625582/how-to-deal-with-settingwithcopywarning-in-pandas\n",
    "\n",
    "https://matplotlib.org/stable/api/figure_api.html#module-matplotlib.figure\n",
    "\n",
    "https://seaborn.pydata.org/generated/seaborn.swarmplot.html\n",
    "\n",
    "https://numpy.org/doc/stable/reference/generated/numpy.arange.html#numpy.arange\n",
    "\n",
    "https://www.w3schools.com/python/matplotlib_histograms.asp\n",
    "\n",
    "https://matplotlib.org/stable/gallery/subplots_axes_and_figures/multiple_figs_demo.html#sphx-glr-gallery-subplots-axes-and-figures-multiple-figs-demo-py\n",
    "\n",
    "https://numpy.org/doc/stable/reference/generated/numpy.arange.html#numpy.arange\n",
    "\n",
    "https://github.com/matplotlib/matplotlib/blob/v3.8.3/lib/matplotlib/pyplot.py#L3680-L3717"
   ]
  },
  {
   "cell_type": "code",
   "execution_count": null,
   "metadata": {},
   "outputs": [],
   "source": []
  },
  {
   "cell_type": "code",
   "execution_count": null,
   "metadata": {},
   "outputs": [],
   "source": []
  }
 ],
 "metadata": {
  "kernelspec": {
   "display_name": "Python 3 (ipykernel)",
   "language": "python",
   "name": "python3"
  },
  "language_info": {
   "codemirror_mode": {
    "name": "ipython",
    "version": 3
   },
   "file_extension": ".py",
   "mimetype": "text/x-python",
   "name": "python",
   "nbconvert_exporter": "python",
   "pygments_lexer": "ipython3",
   "version": "3.11.5"
  }
 },
 "nbformat": 4,
 "nbformat_minor": 2
}
